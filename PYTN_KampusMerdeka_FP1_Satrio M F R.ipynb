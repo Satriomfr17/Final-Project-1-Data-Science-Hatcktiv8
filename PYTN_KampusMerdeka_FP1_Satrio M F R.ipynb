{
 "cells": [
  {
   "cell_type": "markdown",
   "metadata": {
    "id": "yixJVGNeBnxs"
   },
   "source": [
    "# **Perkenalan**\n",
    "Team 6:\n",
    "* Ida Nur Laela (PYTN-KS11-013)\n",
    "* Satrio Muhammad F R (PYTN-KS11-016)\n",
    "* Rizka Latifatul H (PYTN-KS11-018)\n",
    "\n",
    "Python for Data Science - Studi Independen - Kampus Merdeka\n",
    "\n",
    "## **Latar Belakang**\n",
    "Project ini berisikan tentang penerapan LinearRegression pada dataset Uber & Lyft. Dataset yang digunakan terdiri dari 693071 observasi/baris dan 57 fitur/kolom tentang data harga perjalanan menggunakan taksi Uber & Lyft. Berdasarkan waktu, penggandaan harga (surge multiplier), jarak, dan keadaan cuaca pada saat itu. LinearRegression digunakan untuk memprediksi harga taksi berdasarkan waktu, jarak, dan keadaan cuaca.\n",
    "\n",
    "## **Objektif**\n",
    "Final Project 1 ini dibuat guna mengevaluasi konsep Regression sebagai berikut:\n",
    "\n",
    "● Mampu mempersiapkan data untuk digunakan dalam model Linear Regression\n",
    "\n",
    "● Mampu memahami konsep regression dengan Linear Regression\n",
    "\n",
    "● Mampu mengimplementasikan Linear Regression untuk membuat prediksi"
   ]
  },
  {
   "cell_type": "markdown",
   "metadata": {
    "id": "TpJUC4g8-eZd"
   },
   "source": [
    "# **Import Pustaka**"
   ]
  },
  {
   "cell_type": "code",
   "execution_count": 7,
   "metadata": {
    "id": "yulevYptK4sx"
   },
   "outputs": [],
   "source": [
    "# Import library preprocessing dan visualisasi\n",
    "import numpy as np\n",
    "import pandas as pd\n",
    "import matplotlib.pyplot as plt\n",
    "import seaborn as sns\n",
    "\n",
    "# Import library modelling\n",
    "from datetime import datetime\n",
    "from sklearn.linear_model import LinearRegression\n",
    "from sklearn import linear_model\n",
    "from sklearn.preprocessing import OneHotEncoder\n",
    "from sklearn.model_selection import train_test_split\n",
    "from sklearn.metrics import r2_score\n",
    "from sklearn.metrics import mean_squared_error\n",
    "from sklearn.metrics import mean_absolute_error\n",
    "import pickle\n",
    "\n",
    "%matplotlib inline\n",
    "pd.options.mode.chained_assignment = None\n",
    "import warnings\n",
    "warnings.filterwarnings('ignore')"
   ]
  },
  {
   "cell_type": "markdown",
   "metadata": {
    "id": "oCAhFSHgSwOh"
   },
   "source": [
    "# **Data Loading**\n",
    "\n",
    "Bagian ini berisi proses data loading yang kemudian dilanjutkan dengan explorasi data secara sederhana.\n",
    "\n",
    "## Memasukkan Dataset, dataset yang di pakai pada program ini ialah dataset uber vs lyft, lalu menampilkan data teratas dan terbawah."
   ]
  },
  {
   "cell_type": "code",
   "execution_count": 8,
   "metadata": {
    "colab": {
     "base_uri": "https://localhost:8080/",
     "height": 991
    },
    "id": "5CUNL8_vLvud",
    "outputId": "3e47b92e-2f6b-4a73-eb3f-41cb508ed323"
   },
   "outputs": [
    {
     "data": {
      "text/html": [
       "<div>\n",
       "<style scoped>\n",
       "    .dataframe tbody tr th:only-of-type {\n",
       "        vertical-align: middle;\n",
       "    }\n",
       "\n",
       "    .dataframe tbody tr th {\n",
       "        vertical-align: top;\n",
       "    }\n",
       "\n",
       "    .dataframe thead th {\n",
       "        text-align: right;\n",
       "    }\n",
       "</style>\n",
       "<table border=\"1\" class=\"dataframe\">\n",
       "  <thead>\n",
       "    <tr style=\"text-align: right;\">\n",
       "      <th></th>\n",
       "      <th>id</th>\n",
       "      <th>timestamp</th>\n",
       "      <th>hour</th>\n",
       "      <th>day</th>\n",
       "      <th>month</th>\n",
       "      <th>datetime</th>\n",
       "      <th>timezone</th>\n",
       "      <th>source</th>\n",
       "      <th>destination</th>\n",
       "      <th>cab_type</th>\n",
       "      <th>...</th>\n",
       "      <th>precipIntensityMax</th>\n",
       "      <th>uvIndexTime</th>\n",
       "      <th>temperatureMin</th>\n",
       "      <th>temperatureMinTime</th>\n",
       "      <th>temperatureMax</th>\n",
       "      <th>temperatureMaxTime</th>\n",
       "      <th>apparentTemperatureMin</th>\n",
       "      <th>apparentTemperatureMinTime</th>\n",
       "      <th>apparentTemperatureMax</th>\n",
       "      <th>apparentTemperatureMaxTime</th>\n",
       "    </tr>\n",
       "  </thead>\n",
       "  <tbody>\n",
       "    <tr>\n",
       "      <th>0</th>\n",
       "      <td>424553bb-7174-41ea-aeb4-fe06d4f4b9d7</td>\n",
       "      <td>1.544953e+09</td>\n",
       "      <td>9</td>\n",
       "      <td>16</td>\n",
       "      <td>12</td>\n",
       "      <td>2018-12-16 09:30:07</td>\n",
       "      <td>America/New_York</td>\n",
       "      <td>Haymarket Square</td>\n",
       "      <td>North Station</td>\n",
       "      <td>Lyft</td>\n",
       "      <td>...</td>\n",
       "      <td>0.1276</td>\n",
       "      <td>1544979600</td>\n",
       "      <td>39.89</td>\n",
       "      <td>1545012000</td>\n",
       "      <td>43.68</td>\n",
       "      <td>1544968800</td>\n",
       "      <td>33.73</td>\n",
       "      <td>1545012000</td>\n",
       "      <td>38.07</td>\n",
       "      <td>1544958000</td>\n",
       "    </tr>\n",
       "    <tr>\n",
       "      <th>1</th>\n",
       "      <td>4bd23055-6827-41c6-b23b-3c491f24e74d</td>\n",
       "      <td>1.543284e+09</td>\n",
       "      <td>2</td>\n",
       "      <td>27</td>\n",
       "      <td>11</td>\n",
       "      <td>2018-11-27 02:00:23</td>\n",
       "      <td>America/New_York</td>\n",
       "      <td>Haymarket Square</td>\n",
       "      <td>North Station</td>\n",
       "      <td>Lyft</td>\n",
       "      <td>...</td>\n",
       "      <td>0.1300</td>\n",
       "      <td>1543251600</td>\n",
       "      <td>40.49</td>\n",
       "      <td>1543233600</td>\n",
       "      <td>47.30</td>\n",
       "      <td>1543251600</td>\n",
       "      <td>36.20</td>\n",
       "      <td>1543291200</td>\n",
       "      <td>43.92</td>\n",
       "      <td>1543251600</td>\n",
       "    </tr>\n",
       "    <tr>\n",
       "      <th>2</th>\n",
       "      <td>981a3613-77af-4620-a42a-0c0866077d1e</td>\n",
       "      <td>1.543367e+09</td>\n",
       "      <td>1</td>\n",
       "      <td>28</td>\n",
       "      <td>11</td>\n",
       "      <td>2018-11-28 01:00:22</td>\n",
       "      <td>America/New_York</td>\n",
       "      <td>Haymarket Square</td>\n",
       "      <td>North Station</td>\n",
       "      <td>Lyft</td>\n",
       "      <td>...</td>\n",
       "      <td>0.1064</td>\n",
       "      <td>1543338000</td>\n",
       "      <td>35.36</td>\n",
       "      <td>1543377600</td>\n",
       "      <td>47.55</td>\n",
       "      <td>1543320000</td>\n",
       "      <td>31.04</td>\n",
       "      <td>1543377600</td>\n",
       "      <td>44.12</td>\n",
       "      <td>1543320000</td>\n",
       "    </tr>\n",
       "    <tr>\n",
       "      <th>3</th>\n",
       "      <td>c2d88af2-d278-4bfd-a8d0-29ca77cc5512</td>\n",
       "      <td>1.543554e+09</td>\n",
       "      <td>4</td>\n",
       "      <td>30</td>\n",
       "      <td>11</td>\n",
       "      <td>2018-11-30 04:53:02</td>\n",
       "      <td>America/New_York</td>\n",
       "      <td>Haymarket Square</td>\n",
       "      <td>North Station</td>\n",
       "      <td>Lyft</td>\n",
       "      <td>...</td>\n",
       "      <td>0.0000</td>\n",
       "      <td>1543507200</td>\n",
       "      <td>34.67</td>\n",
       "      <td>1543550400</td>\n",
       "      <td>45.03</td>\n",
       "      <td>1543510800</td>\n",
       "      <td>30.30</td>\n",
       "      <td>1543550400</td>\n",
       "      <td>38.53</td>\n",
       "      <td>1543510800</td>\n",
       "    </tr>\n",
       "    <tr>\n",
       "      <th>4</th>\n",
       "      <td>e0126e1f-8ca9-4f2e-82b3-50505a09db9a</td>\n",
       "      <td>1.543463e+09</td>\n",
       "      <td>3</td>\n",
       "      <td>29</td>\n",
       "      <td>11</td>\n",
       "      <td>2018-11-29 03:49:20</td>\n",
       "      <td>America/New_York</td>\n",
       "      <td>Haymarket Square</td>\n",
       "      <td>North Station</td>\n",
       "      <td>Lyft</td>\n",
       "      <td>...</td>\n",
       "      <td>0.0001</td>\n",
       "      <td>1543420800</td>\n",
       "      <td>33.10</td>\n",
       "      <td>1543402800</td>\n",
       "      <td>42.18</td>\n",
       "      <td>1543420800</td>\n",
       "      <td>29.11</td>\n",
       "      <td>1543392000</td>\n",
       "      <td>35.75</td>\n",
       "      <td>1543420800</td>\n",
       "    </tr>\n",
       "    <tr>\n",
       "      <th>...</th>\n",
       "      <td>...</td>\n",
       "      <td>...</td>\n",
       "      <td>...</td>\n",
       "      <td>...</td>\n",
       "      <td>...</td>\n",
       "      <td>...</td>\n",
       "      <td>...</td>\n",
       "      <td>...</td>\n",
       "      <td>...</td>\n",
       "      <td>...</td>\n",
       "      <td>...</td>\n",
       "      <td>...</td>\n",
       "      <td>...</td>\n",
       "      <td>...</td>\n",
       "      <td>...</td>\n",
       "      <td>...</td>\n",
       "      <td>...</td>\n",
       "      <td>...</td>\n",
       "      <td>...</td>\n",
       "      <td>...</td>\n",
       "      <td>...</td>\n",
       "    </tr>\n",
       "    <tr>\n",
       "      <th>693066</th>\n",
       "      <td>616d3611-1820-450a-9845-a9ff304a4842</td>\n",
       "      <td>1.543708e+09</td>\n",
       "      <td>23</td>\n",
       "      <td>1</td>\n",
       "      <td>12</td>\n",
       "      <td>2018-12-01 23:53:05</td>\n",
       "      <td>America/New_York</td>\n",
       "      <td>West End</td>\n",
       "      <td>North End</td>\n",
       "      <td>Uber</td>\n",
       "      <td>...</td>\n",
       "      <td>0.0000</td>\n",
       "      <td>1543683600</td>\n",
       "      <td>31.42</td>\n",
       "      <td>1543658400</td>\n",
       "      <td>44.76</td>\n",
       "      <td>1543690800</td>\n",
       "      <td>27.77</td>\n",
       "      <td>1543658400</td>\n",
       "      <td>44.09</td>\n",
       "      <td>1543690800</td>\n",
       "    </tr>\n",
       "    <tr>\n",
       "      <th>693067</th>\n",
       "      <td>633a3fc3-1f86-4b9e-9d48-2b7132112341</td>\n",
       "      <td>1.543708e+09</td>\n",
       "      <td>23</td>\n",
       "      <td>1</td>\n",
       "      <td>12</td>\n",
       "      <td>2018-12-01 23:53:05</td>\n",
       "      <td>America/New_York</td>\n",
       "      <td>West End</td>\n",
       "      <td>North End</td>\n",
       "      <td>Uber</td>\n",
       "      <td>...</td>\n",
       "      <td>0.0000</td>\n",
       "      <td>1543683600</td>\n",
       "      <td>31.42</td>\n",
       "      <td>1543658400</td>\n",
       "      <td>44.76</td>\n",
       "      <td>1543690800</td>\n",
       "      <td>27.77</td>\n",
       "      <td>1543658400</td>\n",
       "      <td>44.09</td>\n",
       "      <td>1543690800</td>\n",
       "    </tr>\n",
       "    <tr>\n",
       "      <th>693068</th>\n",
       "      <td>64d451d0-639f-47a4-9b7c-6fd92fbd264f</td>\n",
       "      <td>1.543708e+09</td>\n",
       "      <td>23</td>\n",
       "      <td>1</td>\n",
       "      <td>12</td>\n",
       "      <td>2018-12-01 23:53:05</td>\n",
       "      <td>America/New_York</td>\n",
       "      <td>West End</td>\n",
       "      <td>North End</td>\n",
       "      <td>Uber</td>\n",
       "      <td>...</td>\n",
       "      <td>0.0000</td>\n",
       "      <td>1543683600</td>\n",
       "      <td>31.42</td>\n",
       "      <td>1543658400</td>\n",
       "      <td>44.76</td>\n",
       "      <td>1543690800</td>\n",
       "      <td>27.77</td>\n",
       "      <td>1543658400</td>\n",
       "      <td>44.09</td>\n",
       "      <td>1543690800</td>\n",
       "    </tr>\n",
       "    <tr>\n",
       "      <th>693069</th>\n",
       "      <td>727e5f07-a96b-4ad1-a2c7-9abc3ad55b4e</td>\n",
       "      <td>1.543708e+09</td>\n",
       "      <td>23</td>\n",
       "      <td>1</td>\n",
       "      <td>12</td>\n",
       "      <td>2018-12-01 23:53:05</td>\n",
       "      <td>America/New_York</td>\n",
       "      <td>West End</td>\n",
       "      <td>North End</td>\n",
       "      <td>Uber</td>\n",
       "      <td>...</td>\n",
       "      <td>0.0000</td>\n",
       "      <td>1543683600</td>\n",
       "      <td>31.42</td>\n",
       "      <td>1543658400</td>\n",
       "      <td>44.76</td>\n",
       "      <td>1543690800</td>\n",
       "      <td>27.77</td>\n",
       "      <td>1543658400</td>\n",
       "      <td>44.09</td>\n",
       "      <td>1543690800</td>\n",
       "    </tr>\n",
       "    <tr>\n",
       "      <th>693070</th>\n",
       "      <td>e7fdc087-fe86-40a5-a3c3-3b2a8badcbda</td>\n",
       "      <td>1.543708e+09</td>\n",
       "      <td>23</td>\n",
       "      <td>1</td>\n",
       "      <td>12</td>\n",
       "      <td>2018-12-01 23:53:05</td>\n",
       "      <td>America/New_York</td>\n",
       "      <td>West End</td>\n",
       "      <td>North End</td>\n",
       "      <td>Uber</td>\n",
       "      <td>...</td>\n",
       "      <td>0.0000</td>\n",
       "      <td>1543683600</td>\n",
       "      <td>31.42</td>\n",
       "      <td>1543658400</td>\n",
       "      <td>44.76</td>\n",
       "      <td>1543690800</td>\n",
       "      <td>27.77</td>\n",
       "      <td>1543658400</td>\n",
       "      <td>44.09</td>\n",
       "      <td>1543690800</td>\n",
       "    </tr>\n",
       "  </tbody>\n",
       "</table>\n",
       "<p>693071 rows × 57 columns</p>\n",
       "</div>"
      ],
      "text/plain": [
       "                                          id     timestamp  hour  day  month  \\\n",
       "0       424553bb-7174-41ea-aeb4-fe06d4f4b9d7  1.544953e+09     9   16     12   \n",
       "1       4bd23055-6827-41c6-b23b-3c491f24e74d  1.543284e+09     2   27     11   \n",
       "2       981a3613-77af-4620-a42a-0c0866077d1e  1.543367e+09     1   28     11   \n",
       "3       c2d88af2-d278-4bfd-a8d0-29ca77cc5512  1.543554e+09     4   30     11   \n",
       "4       e0126e1f-8ca9-4f2e-82b3-50505a09db9a  1.543463e+09     3   29     11   \n",
       "...                                      ...           ...   ...  ...    ...   \n",
       "693066  616d3611-1820-450a-9845-a9ff304a4842  1.543708e+09    23    1     12   \n",
       "693067  633a3fc3-1f86-4b9e-9d48-2b7132112341  1.543708e+09    23    1     12   \n",
       "693068  64d451d0-639f-47a4-9b7c-6fd92fbd264f  1.543708e+09    23    1     12   \n",
       "693069  727e5f07-a96b-4ad1-a2c7-9abc3ad55b4e  1.543708e+09    23    1     12   \n",
       "693070  e7fdc087-fe86-40a5-a3c3-3b2a8badcbda  1.543708e+09    23    1     12   \n",
       "\n",
       "                   datetime          timezone            source  \\\n",
       "0       2018-12-16 09:30:07  America/New_York  Haymarket Square   \n",
       "1       2018-11-27 02:00:23  America/New_York  Haymarket Square   \n",
       "2       2018-11-28 01:00:22  America/New_York  Haymarket Square   \n",
       "3       2018-11-30 04:53:02  America/New_York  Haymarket Square   \n",
       "4       2018-11-29 03:49:20  America/New_York  Haymarket Square   \n",
       "...                     ...               ...               ...   \n",
       "693066  2018-12-01 23:53:05  America/New_York          West End   \n",
       "693067  2018-12-01 23:53:05  America/New_York          West End   \n",
       "693068  2018-12-01 23:53:05  America/New_York          West End   \n",
       "693069  2018-12-01 23:53:05  America/New_York          West End   \n",
       "693070  2018-12-01 23:53:05  America/New_York          West End   \n",
       "\n",
       "          destination cab_type  ... precipIntensityMax uvIndexTime  \\\n",
       "0       North Station     Lyft  ...             0.1276  1544979600   \n",
       "1       North Station     Lyft  ...             0.1300  1543251600   \n",
       "2       North Station     Lyft  ...             0.1064  1543338000   \n",
       "3       North Station     Lyft  ...             0.0000  1543507200   \n",
       "4       North Station     Lyft  ...             0.0001  1543420800   \n",
       "...               ...      ...  ...                ...         ...   \n",
       "693066      North End     Uber  ...             0.0000  1543683600   \n",
       "693067      North End     Uber  ...             0.0000  1543683600   \n",
       "693068      North End     Uber  ...             0.0000  1543683600   \n",
       "693069      North End     Uber  ...             0.0000  1543683600   \n",
       "693070      North End     Uber  ...             0.0000  1543683600   \n",
       "\n",
       "        temperatureMin  temperatureMinTime  temperatureMax  \\\n",
       "0                39.89          1545012000           43.68   \n",
       "1                40.49          1543233600           47.30   \n",
       "2                35.36          1543377600           47.55   \n",
       "3                34.67          1543550400           45.03   \n",
       "4                33.10          1543402800           42.18   \n",
       "...                ...                 ...             ...   \n",
       "693066           31.42          1543658400           44.76   \n",
       "693067           31.42          1543658400           44.76   \n",
       "693068           31.42          1543658400           44.76   \n",
       "693069           31.42          1543658400           44.76   \n",
       "693070           31.42          1543658400           44.76   \n",
       "\n",
       "        temperatureMaxTime  apparentTemperatureMin  \\\n",
       "0               1544968800                   33.73   \n",
       "1               1543251600                   36.20   \n",
       "2               1543320000                   31.04   \n",
       "3               1543510800                   30.30   \n",
       "4               1543420800                   29.11   \n",
       "...                    ...                     ...   \n",
       "693066          1543690800                   27.77   \n",
       "693067          1543690800                   27.77   \n",
       "693068          1543690800                   27.77   \n",
       "693069          1543690800                   27.77   \n",
       "693070          1543690800                   27.77   \n",
       "\n",
       "        apparentTemperatureMinTime  apparentTemperatureMax  \\\n",
       "0                       1545012000                   38.07   \n",
       "1                       1543291200                   43.92   \n",
       "2                       1543377600                   44.12   \n",
       "3                       1543550400                   38.53   \n",
       "4                       1543392000                   35.75   \n",
       "...                            ...                     ...   \n",
       "693066                  1543658400                   44.09   \n",
       "693067                  1543658400                   44.09   \n",
       "693068                  1543658400                   44.09   \n",
       "693069                  1543658400                   44.09   \n",
       "693070                  1543658400                   44.09   \n",
       "\n",
       "       apparentTemperatureMaxTime  \n",
       "0                      1544958000  \n",
       "1                      1543251600  \n",
       "2                      1543320000  \n",
       "3                      1543510800  \n",
       "4                      1543420800  \n",
       "...                           ...  \n",
       "693066                 1543690800  \n",
       "693067                 1543690800  \n",
       "693068                 1543690800  \n",
       "693069                 1543690800  \n",
       "693070                 1543690800  \n",
       "\n",
       "[693071 rows x 57 columns]"
      ]
     },
     "execution_count": 8,
     "metadata": {},
     "output_type": "execute_result"
    }
   ],
   "source": [
    "df = pd.read_csv('rideshare_kaggle.csv')\n",
    "df"
   ]
  },
  {
   "cell_type": "markdown",
   "metadata": {},
   "source": [
    "## Menampilkan nama kolom apa saja yang terdapat di dalam dataset"
   ]
  },
  {
   "cell_type": "code",
   "execution_count": 9,
   "metadata": {},
   "outputs": [
    {
     "data": {
      "text/plain": [
       "Index(['id', 'timestamp', 'hour', 'day', 'month', 'datetime', 'timezone',\n",
       "       'source', 'destination', 'cab_type', 'product_id', 'name', 'price',\n",
       "       'distance', 'surge_multiplier', 'latitude', 'longitude', 'temperature',\n",
       "       'apparentTemperature', 'short_summary', 'long_summary',\n",
       "       'precipIntensity', 'precipProbability', 'humidity', 'windSpeed',\n",
       "       'windGust', 'windGustTime', 'visibility', 'temperatureHigh',\n",
       "       'temperatureHighTime', 'temperatureLow', 'temperatureLowTime',\n",
       "       'apparentTemperatureHigh', 'apparentTemperatureHighTime',\n",
       "       'apparentTemperatureLow', 'apparentTemperatureLowTime', 'icon',\n",
       "       'dewPoint', 'pressure', 'windBearing', 'cloudCover', 'uvIndex',\n",
       "       'visibility.1', 'ozone', 'sunriseTime', 'sunsetTime', 'moonPhase',\n",
       "       'precipIntensityMax', 'uvIndexTime', 'temperatureMin',\n",
       "       'temperatureMinTime', 'temperatureMax', 'temperatureMaxTime',\n",
       "       'apparentTemperatureMin', 'apparentTemperatureMinTime',\n",
       "       'apparentTemperatureMax', 'apparentTemperatureMaxTime'],\n",
       "      dtype='object')"
      ]
     },
     "execution_count": 9,
     "metadata": {},
     "output_type": "execute_result"
    }
   ],
   "source": [
    "df.columns"
   ]
  },
  {
   "cell_type": "markdown",
   "metadata": {
    "id": "3AA04iGb-oUf"
   },
   "source": [
    "## Menampilkan informasi tentang kolom, baris dan tipe data yang berada di dalam dataset"
   ]
  },
  {
   "cell_type": "code",
   "execution_count": 10,
   "metadata": {
    "colab": {
     "base_uri": "https://localhost:8080/",
     "height": 559
    },
    "id": "w5X-AfmdL2NE",
    "outputId": "1e302b99-cae4-492a-9aff-bc3db40a365b"
   },
   "outputs": [
    {
     "data": {
      "text/html": [
       "<div>\n",
       "<style scoped>\n",
       "    .dataframe tbody tr th:only-of-type {\n",
       "        vertical-align: middle;\n",
       "    }\n",
       "\n",
       "    .dataframe tbody tr th {\n",
       "        vertical-align: top;\n",
       "    }\n",
       "\n",
       "    .dataframe thead th {\n",
       "        text-align: right;\n",
       "    }\n",
       "</style>\n",
       "<table border=\"1\" class=\"dataframe\">\n",
       "  <thead>\n",
       "    <tr style=\"text-align: right;\">\n",
       "      <th></th>\n",
       "      <th>id</th>\n",
       "      <th>timestamp</th>\n",
       "      <th>hour</th>\n",
       "      <th>day</th>\n",
       "      <th>month</th>\n",
       "      <th>datetime</th>\n",
       "      <th>timezone</th>\n",
       "      <th>source</th>\n",
       "      <th>destination</th>\n",
       "      <th>cab_type</th>\n",
       "      <th>...</th>\n",
       "      <th>precipIntensityMax</th>\n",
       "      <th>uvIndexTime</th>\n",
       "      <th>temperatureMin</th>\n",
       "      <th>temperatureMinTime</th>\n",
       "      <th>temperatureMax</th>\n",
       "      <th>temperatureMaxTime</th>\n",
       "      <th>apparentTemperatureMin</th>\n",
       "      <th>apparentTemperatureMinTime</th>\n",
       "      <th>apparentTemperatureMax</th>\n",
       "      <th>apparentTemperatureMaxTime</th>\n",
       "    </tr>\n",
       "  </thead>\n",
       "  <tbody>\n",
       "    <tr>\n",
       "      <th>0</th>\n",
       "      <td>424553bb-7174-41ea-aeb4-fe06d4f4b9d7</td>\n",
       "      <td>1.544953e+09</td>\n",
       "      <td>9</td>\n",
       "      <td>16</td>\n",
       "      <td>12</td>\n",
       "      <td>2018-12-16 09:30:07</td>\n",
       "      <td>America/New_York</td>\n",
       "      <td>Haymarket Square</td>\n",
       "      <td>North Station</td>\n",
       "      <td>Lyft</td>\n",
       "      <td>...</td>\n",
       "      <td>0.1276</td>\n",
       "      <td>1544979600</td>\n",
       "      <td>39.89</td>\n",
       "      <td>1545012000</td>\n",
       "      <td>43.68</td>\n",
       "      <td>1544968800</td>\n",
       "      <td>33.73</td>\n",
       "      <td>1545012000</td>\n",
       "      <td>38.07</td>\n",
       "      <td>1544958000</td>\n",
       "    </tr>\n",
       "    <tr>\n",
       "      <th>1</th>\n",
       "      <td>4bd23055-6827-41c6-b23b-3c491f24e74d</td>\n",
       "      <td>1.543284e+09</td>\n",
       "      <td>2</td>\n",
       "      <td>27</td>\n",
       "      <td>11</td>\n",
       "      <td>2018-11-27 02:00:23</td>\n",
       "      <td>America/New_York</td>\n",
       "      <td>Haymarket Square</td>\n",
       "      <td>North Station</td>\n",
       "      <td>Lyft</td>\n",
       "      <td>...</td>\n",
       "      <td>0.1300</td>\n",
       "      <td>1543251600</td>\n",
       "      <td>40.49</td>\n",
       "      <td>1543233600</td>\n",
       "      <td>47.30</td>\n",
       "      <td>1543251600</td>\n",
       "      <td>36.20</td>\n",
       "      <td>1543291200</td>\n",
       "      <td>43.92</td>\n",
       "      <td>1543251600</td>\n",
       "    </tr>\n",
       "    <tr>\n",
       "      <th>2</th>\n",
       "      <td>981a3613-77af-4620-a42a-0c0866077d1e</td>\n",
       "      <td>1.543367e+09</td>\n",
       "      <td>1</td>\n",
       "      <td>28</td>\n",
       "      <td>11</td>\n",
       "      <td>2018-11-28 01:00:22</td>\n",
       "      <td>America/New_York</td>\n",
       "      <td>Haymarket Square</td>\n",
       "      <td>North Station</td>\n",
       "      <td>Lyft</td>\n",
       "      <td>...</td>\n",
       "      <td>0.1064</td>\n",
       "      <td>1543338000</td>\n",
       "      <td>35.36</td>\n",
       "      <td>1543377600</td>\n",
       "      <td>47.55</td>\n",
       "      <td>1543320000</td>\n",
       "      <td>31.04</td>\n",
       "      <td>1543377600</td>\n",
       "      <td>44.12</td>\n",
       "      <td>1543320000</td>\n",
       "    </tr>\n",
       "    <tr>\n",
       "      <th>3</th>\n",
       "      <td>c2d88af2-d278-4bfd-a8d0-29ca77cc5512</td>\n",
       "      <td>1.543554e+09</td>\n",
       "      <td>4</td>\n",
       "      <td>30</td>\n",
       "      <td>11</td>\n",
       "      <td>2018-11-30 04:53:02</td>\n",
       "      <td>America/New_York</td>\n",
       "      <td>Haymarket Square</td>\n",
       "      <td>North Station</td>\n",
       "      <td>Lyft</td>\n",
       "      <td>...</td>\n",
       "      <td>0.0000</td>\n",
       "      <td>1543507200</td>\n",
       "      <td>34.67</td>\n",
       "      <td>1543550400</td>\n",
       "      <td>45.03</td>\n",
       "      <td>1543510800</td>\n",
       "      <td>30.30</td>\n",
       "      <td>1543550400</td>\n",
       "      <td>38.53</td>\n",
       "      <td>1543510800</td>\n",
       "    </tr>\n",
       "    <tr>\n",
       "      <th>4</th>\n",
       "      <td>e0126e1f-8ca9-4f2e-82b3-50505a09db9a</td>\n",
       "      <td>1.543463e+09</td>\n",
       "      <td>3</td>\n",
       "      <td>29</td>\n",
       "      <td>11</td>\n",
       "      <td>2018-11-29 03:49:20</td>\n",
       "      <td>America/New_York</td>\n",
       "      <td>Haymarket Square</td>\n",
       "      <td>North Station</td>\n",
       "      <td>Lyft</td>\n",
       "      <td>...</td>\n",
       "      <td>0.0001</td>\n",
       "      <td>1543420800</td>\n",
       "      <td>33.10</td>\n",
       "      <td>1543402800</td>\n",
       "      <td>42.18</td>\n",
       "      <td>1543420800</td>\n",
       "      <td>29.11</td>\n",
       "      <td>1543392000</td>\n",
       "      <td>35.75</td>\n",
       "      <td>1543420800</td>\n",
       "    </tr>\n",
       "  </tbody>\n",
       "</table>\n",
       "<p>5 rows × 57 columns</p>\n",
       "</div>"
      ],
      "text/plain": [
       "                                     id     timestamp  hour  day  month  \\\n",
       "0  424553bb-7174-41ea-aeb4-fe06d4f4b9d7  1.544953e+09     9   16     12   \n",
       "1  4bd23055-6827-41c6-b23b-3c491f24e74d  1.543284e+09     2   27     11   \n",
       "2  981a3613-77af-4620-a42a-0c0866077d1e  1.543367e+09     1   28     11   \n",
       "3  c2d88af2-d278-4bfd-a8d0-29ca77cc5512  1.543554e+09     4   30     11   \n",
       "4  e0126e1f-8ca9-4f2e-82b3-50505a09db9a  1.543463e+09     3   29     11   \n",
       "\n",
       "              datetime          timezone            source    destination  \\\n",
       "0  2018-12-16 09:30:07  America/New_York  Haymarket Square  North Station   \n",
       "1  2018-11-27 02:00:23  America/New_York  Haymarket Square  North Station   \n",
       "2  2018-11-28 01:00:22  America/New_York  Haymarket Square  North Station   \n",
       "3  2018-11-30 04:53:02  America/New_York  Haymarket Square  North Station   \n",
       "4  2018-11-29 03:49:20  America/New_York  Haymarket Square  North Station   \n",
       "\n",
       "  cab_type  ... precipIntensityMax uvIndexTime  temperatureMin  \\\n",
       "0     Lyft  ...             0.1276  1544979600           39.89   \n",
       "1     Lyft  ...             0.1300  1543251600           40.49   \n",
       "2     Lyft  ...             0.1064  1543338000           35.36   \n",
       "3     Lyft  ...             0.0000  1543507200           34.67   \n",
       "4     Lyft  ...             0.0001  1543420800           33.10   \n",
       "\n",
       "   temperatureMinTime  temperatureMax  temperatureMaxTime  \\\n",
       "0          1545012000           43.68          1544968800   \n",
       "1          1543233600           47.30          1543251600   \n",
       "2          1543377600           47.55          1543320000   \n",
       "3          1543550400           45.03          1543510800   \n",
       "4          1543402800           42.18          1543420800   \n",
       "\n",
       "   apparentTemperatureMin  apparentTemperatureMinTime  apparentTemperatureMax  \\\n",
       "0                   33.73                  1545012000                   38.07   \n",
       "1                   36.20                  1543291200                   43.92   \n",
       "2                   31.04                  1543377600                   44.12   \n",
       "3                   30.30                  1543550400                   38.53   \n",
       "4                   29.11                  1543392000                   35.75   \n",
       "\n",
       "  apparentTemperatureMaxTime  \n",
       "0                 1544958000  \n",
       "1                 1543251600  \n",
       "2                 1543320000  \n",
       "3                 1543510800  \n",
       "4                 1543420800  \n",
       "\n",
       "[5 rows x 57 columns]"
      ]
     },
     "execution_count": 10,
     "metadata": {},
     "output_type": "execute_result"
    }
   ],
   "source": [
    "df.head()"
   ]
  },
  {
   "cell_type": "markdown",
   "metadata": {
    "id": "L-RTkQJAWj6f"
   },
   "source": [
    "Dataset ini memiliki 57 atribut. Atribut dalam dataset ini antara lain :\n",
    "\n",
    "1. id : unique identifier for each column\n",
    "2. timestamp : unix timestamp\n",
    "3. hour : hour of the day\n",
    "4. day : day of the week\n",
    "5. month : month in a year\n",
    "6. datetime : date value\n",
    "7. Timezone\n",
    "8. source : initial source of the ride\n",
    "9. destination : destination of the ride\n",
    "10. cab_type : the type of cab\n",
    "11. . . . dan lainnya"
   ]
  },
  {
   "cell_type": "code",
   "execution_count": 11,
   "metadata": {
    "colab": {
     "base_uri": "https://localhost:8080/"
    },
    "id": "mnWz18NsL-cL",
    "outputId": "db3444f1-3cd6-4b06-9d11-bcdaf6b089a1"
   },
   "outputs": [
    {
     "name": "stdout",
     "output_type": "stream",
     "text": [
      "<class 'pandas.core.frame.DataFrame'>\n",
      "RangeIndex: 693071 entries, 0 to 693070\n",
      "Data columns (total 57 columns):\n",
      " #   Column                       Non-Null Count   Dtype  \n",
      "---  ------                       --------------   -----  \n",
      " 0   id                           693071 non-null  object \n",
      " 1   timestamp                    693071 non-null  float64\n",
      " 2   hour                         693071 non-null  int64  \n",
      " 3   day                          693071 non-null  int64  \n",
      " 4   month                        693071 non-null  int64  \n",
      " 5   datetime                     693071 non-null  object \n",
      " 6   timezone                     693071 non-null  object \n",
      " 7   source                       693071 non-null  object \n",
      " 8   destination                  693071 non-null  object \n",
      " 9   cab_type                     693071 non-null  object \n",
      " 10  product_id                   693071 non-null  object \n",
      " 11  name                         693071 non-null  object \n",
      " 12  price                        637976 non-null  float64\n",
      " 13  distance                     693071 non-null  float64\n",
      " 14  surge_multiplier             693071 non-null  float64\n",
      " 15  latitude                     693071 non-null  float64\n",
      " 16  longitude                    693071 non-null  float64\n",
      " 17  temperature                  693071 non-null  float64\n",
      " 18  apparentTemperature          693071 non-null  float64\n",
      " 19  short_summary                693071 non-null  object \n",
      " 20  long_summary                 693071 non-null  object \n",
      " 21  precipIntensity              693071 non-null  float64\n",
      " 22  precipProbability            693071 non-null  float64\n",
      " 23  humidity                     693071 non-null  float64\n",
      " 24  windSpeed                    693071 non-null  float64\n",
      " 25  windGust                     693071 non-null  float64\n",
      " 26  windGustTime                 693071 non-null  int64  \n",
      " 27  visibility                   693071 non-null  float64\n",
      " 28  temperatureHigh              693071 non-null  float64\n",
      " 29  temperatureHighTime          693071 non-null  int64  \n",
      " 30  temperatureLow               693071 non-null  float64\n",
      " 31  temperatureLowTime           693071 non-null  int64  \n",
      " 32  apparentTemperatureHigh      693071 non-null  float64\n",
      " 33  apparentTemperatureHighTime  693071 non-null  int64  \n",
      " 34  apparentTemperatureLow       693071 non-null  float64\n",
      " 35  apparentTemperatureLowTime   693071 non-null  int64  \n",
      " 36  icon                         693071 non-null  object \n",
      " 37  dewPoint                     693071 non-null  float64\n",
      " 38  pressure                     693071 non-null  float64\n",
      " 39  windBearing                  693071 non-null  int64  \n",
      " 40  cloudCover                   693071 non-null  float64\n",
      " 41  uvIndex                      693071 non-null  int64  \n",
      " 42  visibility.1                 693071 non-null  float64\n",
      " 43  ozone                        693071 non-null  float64\n",
      " 44  sunriseTime                  693071 non-null  int64  \n",
      " 45  sunsetTime                   693071 non-null  int64  \n",
      " 46  moonPhase                    693071 non-null  float64\n",
      " 47  precipIntensityMax           693071 non-null  float64\n",
      " 48  uvIndexTime                  693071 non-null  int64  \n",
      " 49  temperatureMin               693071 non-null  float64\n",
      " 50  temperatureMinTime           693071 non-null  int64  \n",
      " 51  temperatureMax               693071 non-null  float64\n",
      " 52  temperatureMaxTime           693071 non-null  int64  \n",
      " 53  apparentTemperatureMin       693071 non-null  float64\n",
      " 54  apparentTemperatureMinTime   693071 non-null  int64  \n",
      " 55  apparentTemperatureMax       693071 non-null  float64\n",
      " 56  apparentTemperatureMaxTime   693071 non-null  int64  \n",
      "dtypes: float64(29), int64(17), object(11)\n",
      "memory usage: 301.4+ MB\n"
     ]
    }
   ],
   "source": [
    "df.info()"
   ]
  },
  {
   "cell_type": "markdown",
   "metadata": {
    "id": "_c9ELjbRUh-A"
   },
   "source": [
    "Dari hasil di atas merupakan seluruh variabel yang terdapat dari dataset rideshare yang berjumlah sebanyak 57 variabel, dan memiliki 3 jenis tipe data yang terdiri dari object, float, dan integer"
   ]
  },
  {
   "cell_type": "markdown",
   "metadata": {
    "id": "xDOio4Zh-3W4"
   },
   "source": [
    "## Menampilkan informasi tentang jumlah baris dan kolom yang berada di dalam dataset ini"
   ]
  },
  {
   "cell_type": "code",
   "execution_count": 12,
   "metadata": {
    "colab": {
     "base_uri": "https://localhost:8080/"
    },
    "id": "e_-nawarMdh6",
    "outputId": "6b7f23c6-3879-4ead-d147-d68ec67703d7"
   },
   "outputs": [
    {
     "data": {
      "text/plain": [
       "(693071, 57)"
      ]
     },
     "execution_count": 12,
     "metadata": {},
     "output_type": "execute_result"
    }
   ],
   "source": [
    "df.shape"
   ]
  },
  {
   "cell_type": "markdown",
   "metadata": {
    "id": "XVbRFvcKXJRY"
   },
   "source": [
    "Dataframe yang digunakan memiliki total observasi sebanyak 693071 baris dan total variabel 57 kolom"
   ]
  },
  {
   "cell_type": "markdown",
   "metadata": {
    "id": "xx1QfiVt-7za"
   },
   "source": [
    "## Menampilkan informasi tentang statistik deskriptif pada masing masing atribut yang bertipe numerik"
   ]
  },
  {
   "cell_type": "code",
   "execution_count": 13,
   "metadata": {
    "colab": {
     "base_uri": "https://localhost:8080/",
     "height": 393
    },
    "id": "XnipokXYMgHe",
    "outputId": "0f7a4b78-f99c-42a7-8b75-4174c49518af"
   },
   "outputs": [
    {
     "data": {
      "text/html": [
       "<div>\n",
       "<style scoped>\n",
       "    .dataframe tbody tr th:only-of-type {\n",
       "        vertical-align: middle;\n",
       "    }\n",
       "\n",
       "    .dataframe tbody tr th {\n",
       "        vertical-align: top;\n",
       "    }\n",
       "\n",
       "    .dataframe thead th {\n",
       "        text-align: right;\n",
       "    }\n",
       "</style>\n",
       "<table border=\"1\" class=\"dataframe\">\n",
       "  <thead>\n",
       "    <tr style=\"text-align: right;\">\n",
       "      <th></th>\n",
       "      <th>timestamp</th>\n",
       "      <th>hour</th>\n",
       "      <th>day</th>\n",
       "      <th>month</th>\n",
       "      <th>price</th>\n",
       "      <th>distance</th>\n",
       "      <th>surge_multiplier</th>\n",
       "      <th>latitude</th>\n",
       "      <th>longitude</th>\n",
       "      <th>temperature</th>\n",
       "      <th>...</th>\n",
       "      <th>precipIntensityMax</th>\n",
       "      <th>uvIndexTime</th>\n",
       "      <th>temperatureMin</th>\n",
       "      <th>temperatureMinTime</th>\n",
       "      <th>temperatureMax</th>\n",
       "      <th>temperatureMaxTime</th>\n",
       "      <th>apparentTemperatureMin</th>\n",
       "      <th>apparentTemperatureMinTime</th>\n",
       "      <th>apparentTemperatureMax</th>\n",
       "      <th>apparentTemperatureMaxTime</th>\n",
       "    </tr>\n",
       "  </thead>\n",
       "  <tbody>\n",
       "    <tr>\n",
       "      <th>count</th>\n",
       "      <td>6.930710e+05</td>\n",
       "      <td>693071.000000</td>\n",
       "      <td>693071.000000</td>\n",
       "      <td>693071.000000</td>\n",
       "      <td>637976.000000</td>\n",
       "      <td>693071.000000</td>\n",
       "      <td>693071.000000</td>\n",
       "      <td>693071.000000</td>\n",
       "      <td>693071.000000</td>\n",
       "      <td>693071.000000</td>\n",
       "      <td>...</td>\n",
       "      <td>693071.000000</td>\n",
       "      <td>6.930710e+05</td>\n",
       "      <td>693071.000000</td>\n",
       "      <td>6.930710e+05</td>\n",
       "      <td>693071.000000</td>\n",
       "      <td>6.930710e+05</td>\n",
       "      <td>693071.000000</td>\n",
       "      <td>6.930710e+05</td>\n",
       "      <td>693071.000000</td>\n",
       "      <td>6.930710e+05</td>\n",
       "    </tr>\n",
       "    <tr>\n",
       "      <th>mean</th>\n",
       "      <td>1.544046e+09</td>\n",
       "      <td>11.619137</td>\n",
       "      <td>17.794365</td>\n",
       "      <td>11.586684</td>\n",
       "      <td>16.545125</td>\n",
       "      <td>2.189430</td>\n",
       "      <td>1.013870</td>\n",
       "      <td>42.338172</td>\n",
       "      <td>-71.066151</td>\n",
       "      <td>39.584388</td>\n",
       "      <td>...</td>\n",
       "      <td>0.037374</td>\n",
       "      <td>1.544044e+09</td>\n",
       "      <td>33.457774</td>\n",
       "      <td>1.544042e+09</td>\n",
       "      <td>45.261313</td>\n",
       "      <td>1.544047e+09</td>\n",
       "      <td>29.731002</td>\n",
       "      <td>1.544048e+09</td>\n",
       "      <td>41.997343</td>\n",
       "      <td>1.544048e+09</td>\n",
       "    </tr>\n",
       "    <tr>\n",
       "      <th>std</th>\n",
       "      <td>6.891925e+05</td>\n",
       "      <td>6.948114</td>\n",
       "      <td>9.982286</td>\n",
       "      <td>0.492429</td>\n",
       "      <td>9.324359</td>\n",
       "      <td>1.138937</td>\n",
       "      <td>0.091641</td>\n",
       "      <td>0.047840</td>\n",
       "      <td>0.020302</td>\n",
       "      <td>6.726084</td>\n",
       "      <td>...</td>\n",
       "      <td>0.055214</td>\n",
       "      <td>6.912028e+05</td>\n",
       "      <td>6.467224</td>\n",
       "      <td>6.901954e+05</td>\n",
       "      <td>5.645046</td>\n",
       "      <td>6.901353e+05</td>\n",
       "      <td>7.110494</td>\n",
       "      <td>6.871862e+05</td>\n",
       "      <td>6.936841</td>\n",
       "      <td>6.910777e+05</td>\n",
       "    </tr>\n",
       "    <tr>\n",
       "      <th>min</th>\n",
       "      <td>1.543204e+09</td>\n",
       "      <td>0.000000</td>\n",
       "      <td>1.000000</td>\n",
       "      <td>11.000000</td>\n",
       "      <td>2.500000</td>\n",
       "      <td>0.020000</td>\n",
       "      <td>1.000000</td>\n",
       "      <td>42.214800</td>\n",
       "      <td>-71.105400</td>\n",
       "      <td>18.910000</td>\n",
       "      <td>...</td>\n",
       "      <td>0.000000</td>\n",
       "      <td>1.543162e+09</td>\n",
       "      <td>15.630000</td>\n",
       "      <td>1.543122e+09</td>\n",
       "      <td>33.510000</td>\n",
       "      <td>1.543154e+09</td>\n",
       "      <td>11.810000</td>\n",
       "      <td>1.543136e+09</td>\n",
       "      <td>28.950000</td>\n",
       "      <td>1.543187e+09</td>\n",
       "    </tr>\n",
       "    <tr>\n",
       "      <th>25%</th>\n",
       "      <td>1.543444e+09</td>\n",
       "      <td>6.000000</td>\n",
       "      <td>13.000000</td>\n",
       "      <td>11.000000</td>\n",
       "      <td>9.000000</td>\n",
       "      <td>1.280000</td>\n",
       "      <td>1.000000</td>\n",
       "      <td>42.350300</td>\n",
       "      <td>-71.081000</td>\n",
       "      <td>36.450000</td>\n",
       "      <td>...</td>\n",
       "      <td>0.000000</td>\n",
       "      <td>1.543421e+09</td>\n",
       "      <td>30.170000</td>\n",
       "      <td>1.543399e+09</td>\n",
       "      <td>42.570000</td>\n",
       "      <td>1.543439e+09</td>\n",
       "      <td>27.760000</td>\n",
       "      <td>1.543399e+09</td>\n",
       "      <td>36.570000</td>\n",
       "      <td>1.543439e+09</td>\n",
       "    </tr>\n",
       "    <tr>\n",
       "      <th>50%</th>\n",
       "      <td>1.543737e+09</td>\n",
       "      <td>12.000000</td>\n",
       "      <td>17.000000</td>\n",
       "      <td>12.000000</td>\n",
       "      <td>13.500000</td>\n",
       "      <td>2.160000</td>\n",
       "      <td>1.000000</td>\n",
       "      <td>42.351900</td>\n",
       "      <td>-71.063100</td>\n",
       "      <td>40.490000</td>\n",
       "      <td>...</td>\n",
       "      <td>0.000400</td>\n",
       "      <td>1.543770e+09</td>\n",
       "      <td>34.240000</td>\n",
       "      <td>1.543727e+09</td>\n",
       "      <td>44.680000</td>\n",
       "      <td>1.543788e+09</td>\n",
       "      <td>30.130000</td>\n",
       "      <td>1.543745e+09</td>\n",
       "      <td>40.950000</td>\n",
       "      <td>1.543788e+09</td>\n",
       "    </tr>\n",
       "    <tr>\n",
       "      <th>75%</th>\n",
       "      <td>1.544828e+09</td>\n",
       "      <td>18.000000</td>\n",
       "      <td>28.000000</td>\n",
       "      <td>12.000000</td>\n",
       "      <td>22.500000</td>\n",
       "      <td>2.920000</td>\n",
       "      <td>1.000000</td>\n",
       "      <td>42.364700</td>\n",
       "      <td>-71.054200</td>\n",
       "      <td>43.580000</td>\n",
       "      <td>...</td>\n",
       "      <td>0.091600</td>\n",
       "      <td>1.544807e+09</td>\n",
       "      <td>38.880000</td>\n",
       "      <td>1.544789e+09</td>\n",
       "      <td>46.910000</td>\n",
       "      <td>1.544814e+09</td>\n",
       "      <td>35.710000</td>\n",
       "      <td>1.544789e+09</td>\n",
       "      <td>44.120000</td>\n",
       "      <td>1.544818e+09</td>\n",
       "    </tr>\n",
       "    <tr>\n",
       "      <th>max</th>\n",
       "      <td>1.545161e+09</td>\n",
       "      <td>23.000000</td>\n",
       "      <td>30.000000</td>\n",
       "      <td>12.000000</td>\n",
       "      <td>97.500000</td>\n",
       "      <td>7.860000</td>\n",
       "      <td>3.000000</td>\n",
       "      <td>42.366100</td>\n",
       "      <td>-71.033000</td>\n",
       "      <td>57.220000</td>\n",
       "      <td>...</td>\n",
       "      <td>0.145900</td>\n",
       "      <td>1.545152e+09</td>\n",
       "      <td>43.100000</td>\n",
       "      <td>1.545192e+09</td>\n",
       "      <td>57.870000</td>\n",
       "      <td>1.545109e+09</td>\n",
       "      <td>40.050000</td>\n",
       "      <td>1.545134e+09</td>\n",
       "      <td>57.200000</td>\n",
       "      <td>1.545109e+09</td>\n",
       "    </tr>\n",
       "  </tbody>\n",
       "</table>\n",
       "<p>8 rows × 46 columns</p>\n",
       "</div>"
      ],
      "text/plain": [
       "          timestamp           hour            day          month  \\\n",
       "count  6.930710e+05  693071.000000  693071.000000  693071.000000   \n",
       "mean   1.544046e+09      11.619137      17.794365      11.586684   \n",
       "std    6.891925e+05       6.948114       9.982286       0.492429   \n",
       "min    1.543204e+09       0.000000       1.000000      11.000000   \n",
       "25%    1.543444e+09       6.000000      13.000000      11.000000   \n",
       "50%    1.543737e+09      12.000000      17.000000      12.000000   \n",
       "75%    1.544828e+09      18.000000      28.000000      12.000000   \n",
       "max    1.545161e+09      23.000000      30.000000      12.000000   \n",
       "\n",
       "               price       distance  surge_multiplier       latitude  \\\n",
       "count  637976.000000  693071.000000     693071.000000  693071.000000   \n",
       "mean       16.545125       2.189430          1.013870      42.338172   \n",
       "std         9.324359       1.138937          0.091641       0.047840   \n",
       "min         2.500000       0.020000          1.000000      42.214800   \n",
       "25%         9.000000       1.280000          1.000000      42.350300   \n",
       "50%        13.500000       2.160000          1.000000      42.351900   \n",
       "75%        22.500000       2.920000          1.000000      42.364700   \n",
       "max        97.500000       7.860000          3.000000      42.366100   \n",
       "\n",
       "           longitude    temperature  ...  precipIntensityMax   uvIndexTime  \\\n",
       "count  693071.000000  693071.000000  ...       693071.000000  6.930710e+05   \n",
       "mean      -71.066151      39.584388  ...            0.037374  1.544044e+09   \n",
       "std         0.020302       6.726084  ...            0.055214  6.912028e+05   \n",
       "min       -71.105400      18.910000  ...            0.000000  1.543162e+09   \n",
       "25%       -71.081000      36.450000  ...            0.000000  1.543421e+09   \n",
       "50%       -71.063100      40.490000  ...            0.000400  1.543770e+09   \n",
       "75%       -71.054200      43.580000  ...            0.091600  1.544807e+09   \n",
       "max       -71.033000      57.220000  ...            0.145900  1.545152e+09   \n",
       "\n",
       "       temperatureMin  temperatureMinTime  temperatureMax  temperatureMaxTime  \\\n",
       "count   693071.000000        6.930710e+05   693071.000000        6.930710e+05   \n",
       "mean        33.457774        1.544042e+09       45.261313        1.544047e+09   \n",
       "std          6.467224        6.901954e+05        5.645046        6.901353e+05   \n",
       "min         15.630000        1.543122e+09       33.510000        1.543154e+09   \n",
       "25%         30.170000        1.543399e+09       42.570000        1.543439e+09   \n",
       "50%         34.240000        1.543727e+09       44.680000        1.543788e+09   \n",
       "75%         38.880000        1.544789e+09       46.910000        1.544814e+09   \n",
       "max         43.100000        1.545192e+09       57.870000        1.545109e+09   \n",
       "\n",
       "       apparentTemperatureMin  apparentTemperatureMinTime  \\\n",
       "count           693071.000000                6.930710e+05   \n",
       "mean                29.731002                1.544048e+09   \n",
       "std                  7.110494                6.871862e+05   \n",
       "min                 11.810000                1.543136e+09   \n",
       "25%                 27.760000                1.543399e+09   \n",
       "50%                 30.130000                1.543745e+09   \n",
       "75%                 35.710000                1.544789e+09   \n",
       "max                 40.050000                1.545134e+09   \n",
       "\n",
       "       apparentTemperatureMax  apparentTemperatureMaxTime  \n",
       "count           693071.000000                6.930710e+05  \n",
       "mean                41.997343                1.544048e+09  \n",
       "std                  6.936841                6.910777e+05  \n",
       "min                 28.950000                1.543187e+09  \n",
       "25%                 36.570000                1.543439e+09  \n",
       "50%                 40.950000                1.543788e+09  \n",
       "75%                 44.120000                1.544818e+09  \n",
       "max                 57.200000                1.545109e+09  \n",
       "\n",
       "[8 rows x 46 columns]"
      ]
     },
     "execution_count": 13,
     "metadata": {},
     "output_type": "execute_result"
    }
   ],
   "source": [
    "df.describe()"
   ]
  },
  {
   "cell_type": "markdown",
   "metadata": {
    "id": "ckzslU5SX7kL"
   },
   "source": [
    "Hasil di atas menunjukkan statistik deskriptif dari seluruh variabel dataframe rideshare."
   ]
  },
  {
   "cell_type": "markdown",
   "metadata": {},
   "source": [
    "## Menampilkan dan mengecek informasi tentang data yang terduplikasi"
   ]
  },
  {
   "cell_type": "code",
   "execution_count": 14,
   "metadata": {},
   "outputs": [
    {
     "data": {
      "text/plain": [
       "0"
      ]
     },
     "execution_count": 14,
     "metadata": {},
     "output_type": "execute_result"
    }
   ],
   "source": [
    "df.duplicated().sum()"
   ]
  },
  {
   "cell_type": "markdown",
   "metadata": {},
   "source": [
    "Setelah di cek ternyata hasilnya menampilkan value 0 berarti tidak ada data yang terduplikasi"
   ]
  },
  {
   "cell_type": "markdown",
   "metadata": {},
   "source": [
    "## Mengecek dan menampilkan informasi tentang missing value pada dataset ini"
   ]
  },
  {
   "cell_type": "code",
   "execution_count": 15,
   "metadata": {},
   "outputs": [
    {
     "data": {
      "text/plain": [
       "id                                 0\n",
       "timestamp                          0\n",
       "hour                               0\n",
       "day                                0\n",
       "month                              0\n",
       "datetime                           0\n",
       "timezone                           0\n",
       "source                             0\n",
       "destination                        0\n",
       "cab_type                           0\n",
       "product_id                         0\n",
       "name                               0\n",
       "price                          55095\n",
       "distance                           0\n",
       "surge_multiplier                   0\n",
       "latitude                           0\n",
       "longitude                          0\n",
       "temperature                        0\n",
       "apparentTemperature                0\n",
       "short_summary                      0\n",
       "long_summary                       0\n",
       "precipIntensity                    0\n",
       "precipProbability                  0\n",
       "humidity                           0\n",
       "windSpeed                          0\n",
       "windGust                           0\n",
       "windGustTime                       0\n",
       "visibility                         0\n",
       "temperatureHigh                    0\n",
       "temperatureHighTime                0\n",
       "temperatureLow                     0\n",
       "temperatureLowTime                 0\n",
       "apparentTemperatureHigh            0\n",
       "apparentTemperatureHighTime        0\n",
       "apparentTemperatureLow             0\n",
       "apparentTemperatureLowTime         0\n",
       "icon                               0\n",
       "dewPoint                           0\n",
       "pressure                           0\n",
       "windBearing                        0\n",
       "cloudCover                         0\n",
       "uvIndex                            0\n",
       "visibility.1                       0\n",
       "ozone                              0\n",
       "sunriseTime                        0\n",
       "sunsetTime                         0\n",
       "moonPhase                          0\n",
       "precipIntensityMax                 0\n",
       "uvIndexTime                        0\n",
       "temperatureMin                     0\n",
       "temperatureMinTime                 0\n",
       "temperatureMax                     0\n",
       "temperatureMaxTime                 0\n",
       "apparentTemperatureMin             0\n",
       "apparentTemperatureMinTime         0\n",
       "apparentTemperatureMax             0\n",
       "apparentTemperatureMaxTime         0\n",
       "dtype: int64"
      ]
     },
     "execution_count": 15,
     "metadata": {},
     "output_type": "execute_result"
    }
   ],
   "source": [
    "df.isnull().sum()"
   ]
  },
  {
   "cell_type": "markdown",
   "metadata": {},
   "source": [
    "Setelah dilakukan pengecekan missing value pada dataset ini, ternyata terdapat missing value pada dataset ini tepatnya pada kolom 'Price'. Pada kolom price terdapat missing value berjumlah 55095. Dikarenakan terdapat missing value pada kolom price, maka kita akan melakukan drop missing value agar untuk melakukan modelling nanti nilai akurasinya lebih akurat."
   ]
  },
  {
   "cell_type": "markdown",
   "metadata": {
    "id": "VQv8N5McZUzE"
   },
   "source": [
    "# **EDA : Explorasi Data Analysis**\n",
    "\n",
    "Selanjutnya kita akan menampilkan data kembali. Pada bagian ini berisi explorasi data yang lebih mendalam, menggunakan query, grouping, visualisasi sederhana, dan tahap lainnya jika di perlukan."
   ]
  },
  {
   "cell_type": "markdown",
   "metadata": {},
   "source": [
    "## Mengecek Variabel Dependent"
   ]
  },
  {
   "cell_type": "code",
   "execution_count": 16,
   "metadata": {},
   "outputs": [
    {
     "data": {
      "text/plain": [
       "<AxesSubplot:xlabel='price'>"
      ]
     },
     "execution_count": 16,
     "metadata": {},
     "output_type": "execute_result"
    },
    {
     "data": {
      "image/png": "[encoded data removed]",
      "text/plain": [
       "<Figure size 640x480 with 1 Axes>"
      ]
     },
     "metadata": {},
     "output_type": "display_data"
    }
   ],
   "source": [
    "sns.boxplot(df['price'])"
   ]
  },
  {
   "cell_type": "markdown",
   "metadata": {},
   "source": [
    "Dari boxplot di atas terlihat bahwa terdapat banyak bulatan hitam, artinya data price mengandung banyak outlier. Maka data harus outlier harus dihapus yaitu yang melebihi maksimal threshold atau batas maksimal."
   ]
  },
  {
   "cell_type": "markdown",
   "metadata": {},
   "source": [
    "## Mengecek batas max threshold"
   ]
  },
  {
   "cell_type": "code",
   "execution_count": 17,
   "metadata": {},
   "outputs": [
    {
     "data": {
      "text/plain": [
       "42.5"
      ]
     },
     "execution_count": 17,
     "metadata": {},
     "output_type": "execute_result"
    }
   ],
   "source": [
    "max_threshold = df['price'].quantile(0.99)\n",
    "max_threshold"
   ]
  },
  {
   "cell_type": "markdown",
   "metadata": {},
   "source": [
    "## Mengahapus data price yang memiliki nilai lebih dari max_threshold atau lebih dari 42.5"
   ]
  },
  {
   "cell_type": "code",
   "execution_count": 18,
   "metadata": {},
   "outputs": [
    {
     "name": "stdout",
     "output_type": "stream",
     "text": [
      "[   706    707    769 ... 692891 692962 693007]\n",
      "5589\n"
     ]
    }
   ],
   "source": [
    "out = np.where(df['price']>42.5)\n",
    "print(out[0])\n",
    "print(np.count_nonzero(np.where(df['price']>42.5)))"
   ]
  },
  {
   "cell_type": "code",
   "execution_count": 19,
   "metadata": {},
   "outputs": [
    {
     "data": {
      "text/plain": [
       "(687482, 57)"
      ]
     },
     "execution_count": 19,
     "metadata": {},
     "output_type": "execute_result"
    }
   ],
   "source": [
    "df.drop(out[0], inplace = True)\n",
    "df.shape"
   ]
  },
  {
   "cell_type": "code",
   "execution_count": 20,
   "metadata": {},
   "outputs": [
    {
     "data": {
      "text/plain": [
       "<AxesSubplot:xlabel='price'>"
      ]
     },
     "execution_count": 20,
     "metadata": {},
     "output_type": "execute_result"
    },
    {
     "data": {
      "image/png": "[encoded data removed]",
      "text/plain": [
       "<Figure size 640x480 with 1 Axes>"
      ]
     },
     "metadata": {},
     "output_type": "display_data"
    }
   ],
   "source": [
    "sns.boxplot(df['price'])"
   ]
  },
  {
   "cell_type": "markdown",
   "metadata": {},
   "source": [
    "Dari boxplot diatas variabel dependent price sudah tidak memiliki outlier."
   ]
  },
  {
   "cell_type": "markdown",
   "metadata": {
    "id": "O8w1uE0C-_2_"
   },
   "source": [
    "## Melihat perbandingan persebaran dari penggunaan Uber dan Lyft"
   ]
  },
  {
   "cell_type": "code",
   "execution_count": 21,
   "metadata": {
    "colab": {
     "base_uri": "https://localhost:8080/",
     "height": 529
    },
    "id": "Kbw6I3v3MiTu",
    "outputId": "45fcbeca-0272-4f25-8543-2eefea66423f"
   },
   "outputs": [
    {
     "data": {
      "image/png": "[encoded data removed]",
      "text/plain": [
       "<Figure size 500x500 with 1 Axes>"
      ]
     },
     "metadata": {},
     "output_type": "display_data"
    }
   ],
   "source": [
    "transport = sns.catplot(x='cab_type',data=df,kind='count')\n",
    "transport.set_axis_labels('Jenis Transport', 'Total')\n",
    "transport.set(title='Perbandingan Jumlah Uber dan Lyft')\n",
    "plt.show()"
   ]
  },
  {
   "cell_type": "markdown",
   "metadata": {
    "id": "_lwdZDCbaPhX"
   },
   "source": [
    "Dari hasil di atas dapat dilihat bahwa perbandingan jumlah data dengan type Uber dan Lyft dengan total perjalanan yang menggunakan kendaraan dari type uber lebih banyak dibandingkan dengan total lyft."
   ]
  },
  {
   "cell_type": "markdown",
   "metadata": {
    "id": "4oIy7Jhb_Gw8"
   },
   "source": [
    "## Melihat persebaran penggunaan Ubar dan Lyft dalam 24 jam (sehari)"
   ]
  },
  {
   "cell_type": "code",
   "execution_count": 22,
   "metadata": {
    "colab": {
     "base_uri": "https://localhost:8080/",
     "height": 718
    },
    "id": "RmeRaetJMlVl",
    "outputId": "83ace37a-2bf3-4917-ba83-9602daf63736"
   },
   "outputs": [
    {
     "data": {
      "image/png": "[encoded data removed]",
      "text/plain": [
       "<Figure size 1200x800 with 1 Axes>"
      ]
     },
     "metadata": {},
     "output_type": "display_data"
    }
   ],
   "source": [
    "fig, ax = plt.subplots(figsize=(12, 8))\n",
    "\n",
    "# Menghitung jumlah perjalanan setiap jam untuk Lyft dan Uber\n",
    "lyft_count = df[df[\"cab_type\"] == \"Lyft\"].groupby(\"hour\").hour.count()\n",
    "uber_count = df[df[\"cab_type\"] == \"Uber\"].groupby(\"hour\").hour.count()\n",
    "\n",
    "# Plot data menggunakan variabel yang telah dibuat\n",
    "ax.plot(lyft_count.index, lyft_count, label=\"Lyft\")\n",
    "ax.plot(uber_count.index, uber_count, label=\"Uber\")\n",
    "\n",
    "ax.legend()\n",
    "ax.set(xlabel=\"Jam\", ylabel=\"Jumlah\", title=\"Distribusi Transportasi Uber dan Lyft dalam sehari\")\n",
    "plt.xticks(range(0, 24, 1))\n",
    "plt.show()\n"
   ]
  },
  {
   "cell_type": "markdown",
   "metadata": {
    "id": "ovJDwz_3bAe1"
   },
   "source": [
    "Dari garfik diatas dapat dilihat perbedaan persebaran penggunaan uber dan lyft yang terjadi dalam sehari masing-masing jenis transportasi mengalami fluktuasi dimana pada jam 08.00 pagi mengalami penurunan dan mengalami penaikan dalam jam 22.00-23.00 atau jam malam."
   ]
  },
  {
   "cell_type": "markdown",
   "metadata": {
    "id": "F8ValDhW_NcR"
   },
   "source": [
    "## Melihat korelasi dari price dan distance"
   ]
  },
  {
   "cell_type": "code",
   "execution_count": 23,
   "metadata": {},
   "outputs": [
    {
     "data": {
      "text/html": [
       "<div>\n",
       "<style scoped>\n",
       "    .dataframe tbody tr th:only-of-type {\n",
       "        vertical-align: middle;\n",
       "    }\n",
       "\n",
       "    .dataframe tbody tr th {\n",
       "        vertical-align: top;\n",
       "    }\n",
       "\n",
       "    .dataframe thead th {\n",
       "        text-align: right;\n",
       "    }\n",
       "</style>\n",
       "<table border=\"1\" class=\"dataframe\">\n",
       "  <thead>\n",
       "    <tr style=\"text-align: right;\">\n",
       "      <th></th>\n",
       "      <th>distance</th>\n",
       "      <th>price</th>\n",
       "    </tr>\n",
       "  </thead>\n",
       "  <tbody>\n",
       "    <tr>\n",
       "      <th>0</th>\n",
       "      <td>0.44</td>\n",
       "      <td>5.0</td>\n",
       "    </tr>\n",
       "    <tr>\n",
       "      <th>1</th>\n",
       "      <td>0.44</td>\n",
       "      <td>11.0</td>\n",
       "    </tr>\n",
       "    <tr>\n",
       "      <th>2</th>\n",
       "      <td>0.44</td>\n",
       "      <td>7.0</td>\n",
       "    </tr>\n",
       "    <tr>\n",
       "      <th>3</th>\n",
       "      <td>0.44</td>\n",
       "      <td>26.0</td>\n",
       "    </tr>\n",
       "    <tr>\n",
       "      <th>4</th>\n",
       "      <td>0.44</td>\n",
       "      <td>9.0</td>\n",
       "    </tr>\n",
       "    <tr>\n",
       "      <th>...</th>\n",
       "      <td>...</td>\n",
       "      <td>...</td>\n",
       "    </tr>\n",
       "    <tr>\n",
       "      <th>693066</th>\n",
       "      <td>1.00</td>\n",
       "      <td>13.0</td>\n",
       "    </tr>\n",
       "    <tr>\n",
       "      <th>693067</th>\n",
       "      <td>1.00</td>\n",
       "      <td>9.5</td>\n",
       "    </tr>\n",
       "    <tr>\n",
       "      <th>693068</th>\n",
       "      <td>1.00</td>\n",
       "      <td>NaN</td>\n",
       "    </tr>\n",
       "    <tr>\n",
       "      <th>693069</th>\n",
       "      <td>1.00</td>\n",
       "      <td>27.0</td>\n",
       "    </tr>\n",
       "    <tr>\n",
       "      <th>693070</th>\n",
       "      <td>1.00</td>\n",
       "      <td>10.0</td>\n",
       "    </tr>\n",
       "  </tbody>\n",
       "</table>\n",
       "<p>687482 rows × 2 columns</p>\n",
       "</div>"
      ],
      "text/plain": [
       "        distance  price\n",
       "0           0.44    5.0\n",
       "1           0.44   11.0\n",
       "2           0.44    7.0\n",
       "3           0.44   26.0\n",
       "4           0.44    9.0\n",
       "...          ...    ...\n",
       "693066      1.00   13.0\n",
       "693067      1.00    9.5\n",
       "693068      1.00    NaN\n",
       "693069      1.00   27.0\n",
       "693070      1.00   10.0\n",
       "\n",
       "[687482 rows x 2 columns]"
      ]
     },
     "execution_count": 23,
     "metadata": {},
     "output_type": "execute_result"
    }
   ],
   "source": [
    "# Melihat isi data kolom jarak dan harga\n",
    "distance = df[['distance','price']]\n",
    "distance"
   ]
  },
  {
   "cell_type": "code",
   "execution_count": 24,
   "metadata": {
    "colab": {
     "base_uri": "https://localhost:8080/",
     "height": 449
    },
    "id": "XzY-pBEJMqIn",
    "outputId": "241ce122-7937-496f-e880-f0d5bd798467"
   },
   "outputs": [
    {
     "data": {
      "image/png": "[encoded data removed]",
      "text/plain": [
       "<Figure size 640x480 with 1 Axes>"
      ]
     },
     "metadata": {},
     "output_type": "display_data"
    }
   ],
   "source": [
    "distances = df.groupby('distance')['price'].mean()\n",
    "sns.regplot(x=distances.index,y=distances,scatter=True)\n",
    "plt.show()"
   ]
  },
  {
   "cell_type": "markdown",
   "metadata": {
    "id": "tYHMDMZgeVIG"
   },
   "source": [
    "Dari hasil plot diatas dapat dikatakan bahwa semakin panjang atau jauh jarak maka semakin naik pula harga sehingga jarak dan harga memiliki korelasi positif."
   ]
  },
  {
   "cell_type": "markdown",
   "metadata": {
    "id": "NUI29KKj_aqX"
   },
   "source": [
    "## Membuat Array"
   ]
  },
  {
   "cell_type": "markdown",
   "metadata": {
    "id": "hnyTE5YPeunC"
   },
   "source": [
    "Selanjutnya akan dicari korelasi antar variabel (features) yang terdapat pada dataset rideshare. pertama dicari korelasi features temperature, apparentTemperature, temperatureHigh, temperatureLow, apparentTemperatureHigh, apparentTemperatureLow, temperatureMin, temperatureHighTime, temperatureMax, apparentTemperatureMin, dan apparentTemperatureMax, terhadap variabel price yang akan dijadikan sebagai variabel terikat (target)."
   ]
  },
  {
   "cell_type": "code",
   "execution_count": 25,
   "metadata": {
    "id": "dhSJm45NM1-0"
   },
   "outputs": [],
   "source": [
    "temp = ['temperature','apparentTemperature','temperatureHigh','temperatureLow','apparentTemperatureHigh',\n",
    "            'apparentTemperatureLow','temperatureMin','temperatureHighTime','temperatureMax','apparentTemperatureMin','apparentTemperatureMax','price']"
   ]
  },
  {
   "cell_type": "markdown",
   "metadata": {
    "id": "Jj8msVlN_daa"
   },
   "source": [
    "## Membuat dataframe baru"
   ]
  },
  {
   "cell_type": "code",
   "execution_count": 26,
   "metadata": {
    "colab": {
     "base_uri": "https://localhost:8080/",
     "height": 270
    },
    "id": "sfZ8rbjfbEOJ",
    "outputId": "2a3c6bf4-0cea-47c8-f327-47094a22118d"
   },
   "outputs": [
    {
     "data": {
      "text/html": [
       "<div>\n",
       "<style scoped>\n",
       "    .dataframe tbody tr th:only-of-type {\n",
       "        vertical-align: middle;\n",
       "    }\n",
       "\n",
       "    .dataframe tbody tr th {\n",
       "        vertical-align: top;\n",
       "    }\n",
       "\n",
       "    .dataframe thead th {\n",
       "        text-align: right;\n",
       "    }\n",
       "</style>\n",
       "<table border=\"1\" class=\"dataframe\">\n",
       "  <thead>\n",
       "    <tr style=\"text-align: right;\">\n",
       "      <th></th>\n",
       "      <th>temperature</th>\n",
       "      <th>apparentTemperature</th>\n",
       "      <th>temperatureHigh</th>\n",
       "      <th>temperatureLow</th>\n",
       "      <th>apparentTemperatureHigh</th>\n",
       "      <th>apparentTemperatureLow</th>\n",
       "      <th>temperatureMin</th>\n",
       "      <th>temperatureHighTime</th>\n",
       "      <th>temperatureMax</th>\n",
       "      <th>apparentTemperatureMin</th>\n",
       "      <th>apparentTemperatureMax</th>\n",
       "      <th>price</th>\n",
       "    </tr>\n",
       "  </thead>\n",
       "  <tbody>\n",
       "    <tr>\n",
       "      <th>0</th>\n",
       "      <td>42.34</td>\n",
       "      <td>37.12</td>\n",
       "      <td>43.68</td>\n",
       "      <td>34.19</td>\n",
       "      <td>37.95</td>\n",
       "      <td>27.39</td>\n",
       "      <td>39.89</td>\n",
       "      <td>1544968800</td>\n",
       "      <td>43.68</td>\n",
       "      <td>33.73</td>\n",
       "      <td>38.07</td>\n",
       "      <td>5.0</td>\n",
       "    </tr>\n",
       "    <tr>\n",
       "      <th>1</th>\n",
       "      <td>43.58</td>\n",
       "      <td>37.35</td>\n",
       "      <td>47.30</td>\n",
       "      <td>42.10</td>\n",
       "      <td>43.92</td>\n",
       "      <td>36.20</td>\n",
       "      <td>40.49</td>\n",
       "      <td>1543251600</td>\n",
       "      <td>47.30</td>\n",
       "      <td>36.20</td>\n",
       "      <td>43.92</td>\n",
       "      <td>11.0</td>\n",
       "    </tr>\n",
       "    <tr>\n",
       "      <th>2</th>\n",
       "      <td>38.33</td>\n",
       "      <td>32.93</td>\n",
       "      <td>47.55</td>\n",
       "      <td>33.10</td>\n",
       "      <td>44.12</td>\n",
       "      <td>29.11</td>\n",
       "      <td>35.36</td>\n",
       "      <td>1543320000</td>\n",
       "      <td>47.55</td>\n",
       "      <td>31.04</td>\n",
       "      <td>44.12</td>\n",
       "      <td>7.0</td>\n",
       "    </tr>\n",
       "    <tr>\n",
       "      <th>3</th>\n",
       "      <td>34.38</td>\n",
       "      <td>29.63</td>\n",
       "      <td>45.03</td>\n",
       "      <td>28.90</td>\n",
       "      <td>38.53</td>\n",
       "      <td>26.20</td>\n",
       "      <td>34.67</td>\n",
       "      <td>1543510800</td>\n",
       "      <td>45.03</td>\n",
       "      <td>30.30</td>\n",
       "      <td>38.53</td>\n",
       "      <td>26.0</td>\n",
       "    </tr>\n",
       "    <tr>\n",
       "      <th>4</th>\n",
       "      <td>37.44</td>\n",
       "      <td>30.88</td>\n",
       "      <td>42.18</td>\n",
       "      <td>36.71</td>\n",
       "      <td>35.75</td>\n",
       "      <td>30.29</td>\n",
       "      <td>33.10</td>\n",
       "      <td>1543420800</td>\n",
       "      <td>42.18</td>\n",
       "      <td>29.11</td>\n",
       "      <td>35.75</td>\n",
       "      <td>9.0</td>\n",
       "    </tr>\n",
       "  </tbody>\n",
       "</table>\n",
       "</div>"
      ],
      "text/plain": [
       "   temperature  apparentTemperature  temperatureHigh  temperatureLow  \\\n",
       "0        42.34                37.12            43.68           34.19   \n",
       "1        43.58                37.35            47.30           42.10   \n",
       "2        38.33                32.93            47.55           33.10   \n",
       "3        34.38                29.63            45.03           28.90   \n",
       "4        37.44                30.88            42.18           36.71   \n",
       "\n",
       "   apparentTemperatureHigh  apparentTemperatureLow  temperatureMin  \\\n",
       "0                    37.95                   27.39           39.89   \n",
       "1                    43.92                   36.20           40.49   \n",
       "2                    44.12                   29.11           35.36   \n",
       "3                    38.53                   26.20           34.67   \n",
       "4                    35.75                   30.29           33.10   \n",
       "\n",
       "   temperatureHighTime  temperatureMax  apparentTemperatureMin  \\\n",
       "0           1544968800           43.68                   33.73   \n",
       "1           1543251600           47.30                   36.20   \n",
       "2           1543320000           47.55                   31.04   \n",
       "3           1543510800           45.03                   30.30   \n",
       "4           1543420800           42.18                   29.11   \n",
       "\n",
       "   apparentTemperatureMax  price  \n",
       "0                   38.07    5.0  \n",
       "1                   43.92   11.0  \n",
       "2                   44.12    7.0  \n",
       "3                   38.53   26.0  \n",
       "4                   35.75    9.0  "
      ]
     },
     "execution_count": 26,
     "metadata": {},
     "output_type": "execute_result"
    }
   ],
   "source": [
    "df_temp = df[temp]\n",
    "df_temp.head()"
   ]
  },
  {
   "cell_type": "markdown",
   "metadata": {
    "id": "1KPzE3_i_g6Z"
   },
   "source": [
    "## Membuat Heatmap dan melihat korelasi dataframe temp"
   ]
  },
  {
   "cell_type": "code",
   "execution_count": 27,
   "metadata": {
    "colab": {
     "base_uri": "https://localhost:8080/",
     "height": 976
    },
    "id": "U8qJIWnsbI_C",
    "outputId": "f39b7f90-ccd2-46a7-fdb3-fce4b924fb3b"
   },
   "outputs": [
    {
     "data": {
      "text/plain": [
       "<AxesSubplot:>"
      ]
     },
     "execution_count": 27,
     "metadata": {},
     "output_type": "execute_result"
    },
    {
     "data": {
      "image/png": "[encoded data removed]",
      "text/plain": [
       "<Figure size 1000x1000 with 2 Axes>"
      ]
     },
     "metadata": {},
     "output_type": "display_data"
    }
   ],
   "source": [
    "plt.figure(figsize=(10,10))\n",
    "sns.heatmap(df_temp.corr(),annot=True, mask=np.triu(df_temp.corr()))"
   ]
  },
  {
   "cell_type": "markdown",
   "metadata": {
    "id": "9-G4gymhe_G2"
   },
   "source": [
    "Dapat dilihat semua feature temperatur memiliki korelasi yang sangat lemah terhadap target price, maka tahap selanjutnya adalah menghapus semua feature tersebut karena nilai-nilainya hampir 0."
   ]
  },
  {
   "cell_type": "markdown",
   "metadata": {
    "id": "kuVw2jV1_oMl"
   },
   "source": [
    "## Membuat dataframe baru untuk diamati korelasinya"
   ]
  },
  {
   "cell_type": "code",
   "execution_count": 28,
   "metadata": {
    "colab": {
     "base_uri": "https://localhost:8080/",
     "height": 270
    },
    "id": "0PJUXld3bMTL",
    "outputId": "b0bd3eba-2b70-4ea5-9a32-ecf28905fa4a"
   },
   "outputs": [
    {
     "data": {
      "text/html": [
       "<div>\n",
       "<style scoped>\n",
       "    .dataframe tbody tr th:only-of-type {\n",
       "        vertical-align: middle;\n",
       "    }\n",
       "\n",
       "    .dataframe tbody tr th {\n",
       "        vertical-align: top;\n",
       "    }\n",
       "\n",
       "    .dataframe thead th {\n",
       "        text-align: right;\n",
       "    }\n",
       "</style>\n",
       "<table border=\"1\" class=\"dataframe\">\n",
       "  <thead>\n",
       "    <tr style=\"text-align: right;\">\n",
       "      <th></th>\n",
       "      <th>precipIntensity</th>\n",
       "      <th>precipProbability</th>\n",
       "      <th>humidity</th>\n",
       "      <th>windSpeed</th>\n",
       "      <th>windGust</th>\n",
       "      <th>visibility</th>\n",
       "      <th>dewPoint</th>\n",
       "      <th>pressure</th>\n",
       "      <th>windBearing</th>\n",
       "      <th>cloudCover</th>\n",
       "      <th>uvIndex</th>\n",
       "      <th>ozone</th>\n",
       "      <th>moonPhase</th>\n",
       "      <th>precipIntensityMax</th>\n",
       "      <th>price</th>\n",
       "    </tr>\n",
       "  </thead>\n",
       "  <tbody>\n",
       "    <tr>\n",
       "      <th>0</th>\n",
       "      <td>0.0000</td>\n",
       "      <td>0.0</td>\n",
       "      <td>0.68</td>\n",
       "      <td>8.66</td>\n",
       "      <td>9.17</td>\n",
       "      <td>10.000</td>\n",
       "      <td>32.70</td>\n",
       "      <td>1021.98</td>\n",
       "      <td>57</td>\n",
       "      <td>0.72</td>\n",
       "      <td>0</td>\n",
       "      <td>303.8</td>\n",
       "      <td>0.30</td>\n",
       "      <td>0.1276</td>\n",
       "      <td>5.0</td>\n",
       "    </tr>\n",
       "    <tr>\n",
       "      <th>1</th>\n",
       "      <td>0.1299</td>\n",
       "      <td>1.0</td>\n",
       "      <td>0.94</td>\n",
       "      <td>11.98</td>\n",
       "      <td>11.98</td>\n",
       "      <td>4.786</td>\n",
       "      <td>41.83</td>\n",
       "      <td>1003.97</td>\n",
       "      <td>90</td>\n",
       "      <td>1.00</td>\n",
       "      <td>0</td>\n",
       "      <td>291.1</td>\n",
       "      <td>0.64</td>\n",
       "      <td>0.1300</td>\n",
       "      <td>11.0</td>\n",
       "    </tr>\n",
       "    <tr>\n",
       "      <th>2</th>\n",
       "      <td>0.0000</td>\n",
       "      <td>0.0</td>\n",
       "      <td>0.75</td>\n",
       "      <td>7.33</td>\n",
       "      <td>7.33</td>\n",
       "      <td>10.000</td>\n",
       "      <td>31.10</td>\n",
       "      <td>992.28</td>\n",
       "      <td>240</td>\n",
       "      <td>0.03</td>\n",
       "      <td>0</td>\n",
       "      <td>315.7</td>\n",
       "      <td>0.68</td>\n",
       "      <td>0.1064</td>\n",
       "      <td>7.0</td>\n",
       "    </tr>\n",
       "    <tr>\n",
       "      <th>3</th>\n",
       "      <td>0.0000</td>\n",
       "      <td>0.0</td>\n",
       "      <td>0.73</td>\n",
       "      <td>5.28</td>\n",
       "      <td>5.28</td>\n",
       "      <td>10.000</td>\n",
       "      <td>26.64</td>\n",
       "      <td>1013.73</td>\n",
       "      <td>310</td>\n",
       "      <td>0.00</td>\n",
       "      <td>0</td>\n",
       "      <td>291.1</td>\n",
       "      <td>0.75</td>\n",
       "      <td>0.0000</td>\n",
       "      <td>26.0</td>\n",
       "    </tr>\n",
       "    <tr>\n",
       "      <th>4</th>\n",
       "      <td>0.0000</td>\n",
       "      <td>0.0</td>\n",
       "      <td>0.70</td>\n",
       "      <td>9.14</td>\n",
       "      <td>9.14</td>\n",
       "      <td>10.000</td>\n",
       "      <td>28.61</td>\n",
       "      <td>998.36</td>\n",
       "      <td>303</td>\n",
       "      <td>0.44</td>\n",
       "      <td>0</td>\n",
       "      <td>347.7</td>\n",
       "      <td>0.72</td>\n",
       "      <td>0.0001</td>\n",
       "      <td>9.0</td>\n",
       "    </tr>\n",
       "  </tbody>\n",
       "</table>\n",
       "</div>"
      ],
      "text/plain": [
       "   precipIntensity  precipProbability  humidity  windSpeed  windGust  \\\n",
       "0           0.0000                0.0      0.68       8.66      9.17   \n",
       "1           0.1299                1.0      0.94      11.98     11.98   \n",
       "2           0.0000                0.0      0.75       7.33      7.33   \n",
       "3           0.0000                0.0      0.73       5.28      5.28   \n",
       "4           0.0000                0.0      0.70       9.14      9.14   \n",
       "\n",
       "   visibility  dewPoint  pressure  windBearing  cloudCover  uvIndex  ozone  \\\n",
       "0      10.000     32.70   1021.98           57        0.72        0  303.8   \n",
       "1       4.786     41.83   1003.97           90        1.00        0  291.1   \n",
       "2      10.000     31.10    992.28          240        0.03        0  315.7   \n",
       "3      10.000     26.64   1013.73          310        0.00        0  291.1   \n",
       "4      10.000     28.61    998.36          303        0.44        0  347.7   \n",
       "\n",
       "   moonPhase  precipIntensityMax  price  \n",
       "0       0.30              0.1276    5.0  \n",
       "1       0.64              0.1300   11.0  \n",
       "2       0.68              0.1064    7.0  \n",
       "3       0.75              0.0000   26.0  \n",
       "4       0.72              0.0001    9.0  "
      ]
     },
     "execution_count": 28,
     "metadata": {},
     "output_type": "execute_result"
    }
   ],
   "source": [
    "climate_column = ['precipIntensity', 'precipProbability', 'humidity', 'windSpeed',\n",
    "       'windGust', 'visibility', 'dewPoint', 'pressure', 'windBearing',\n",
    "       'cloudCover', 'uvIndex', 'ozone', 'moonPhase',\n",
    "       'precipIntensityMax','price']\n",
    "df_clim = df[climate_column]\n",
    "df_clim.head()"
   ]
  },
  {
   "cell_type": "markdown",
   "metadata": {
    "id": "H5lEhoG8_xdk"
   },
   "source": [
    "## Membuat heatmap dan melihat korelasi dari climate dan price"
   ]
  },
  {
   "cell_type": "code",
   "execution_count": 29,
   "metadata": {
    "colab": {
     "base_uri": "https://localhost:8080/",
     "height": 965
    },
    "id": "hpd_x-6UbOlV",
    "outputId": "f4741809-4400-42bd-841f-4b5bffb18bc9"
   },
   "outputs": [
    {
     "data": {
      "text/plain": [
       "<AxesSubplot:>"
      ]
     },
     "execution_count": 29,
     "metadata": {},
     "output_type": "execute_result"
    },
    {
     "data": {
      "image/png": "[encoded data removed]",
      "text/plain": [
       "<Figure size 1400x1000 with 2 Axes>"
      ]
     },
     "metadata": {},
     "output_type": "display_data"
    }
   ],
   "source": [
    "plt.figure(figsize=(14,10))\n",
    "sns.heatmap(df_clim.corr(),annot=True, mask=np.triu(df_clim.corr()))"
   ]
  },
  {
   "cell_type": "markdown",
   "metadata": {
    "id": "2gFtlOyWfZ20"
   },
   "source": [
    "Features climate berkorelasi lemah dengan target (price)"
   ]
  },
  {
   "cell_type": "markdown",
   "metadata": {
    "id": "-PgMFOUS_38o"
   },
   "source": [
    "## Membuat dataframe baru"
   ]
  },
  {
   "cell_type": "markdown",
   "metadata": {
    "id": "86j_rIqhfhvi"
   },
   "source": [
    "Selanjutnya dicari korelasi features Timestamp (hour, day, month) terhadap variabel price yang akan dijadikan sebagai variabel terikat (target)."
   ]
  },
  {
   "cell_type": "code",
   "execution_count": 30,
   "metadata": {
    "colab": {
     "base_uri": "https://localhost:8080/",
     "height": 206
    },
    "id": "fPimjcy5bSy2",
    "outputId": "9b6bd60d-f3dd-49d4-af52-4713c6e96bd0"
   },
   "outputs": [
    {
     "data": {
      "text/html": [
       "<div>\n",
       "<style scoped>\n",
       "    .dataframe tbody tr th:only-of-type {\n",
       "        vertical-align: middle;\n",
       "    }\n",
       "\n",
       "    .dataframe tbody tr th {\n",
       "        vertical-align: top;\n",
       "    }\n",
       "\n",
       "    .dataframe thead th {\n",
       "        text-align: right;\n",
       "    }\n",
       "</style>\n",
       "<table border=\"1\" class=\"dataframe\">\n",
       "  <thead>\n",
       "    <tr style=\"text-align: right;\">\n",
       "      <th></th>\n",
       "      <th>hour</th>\n",
       "      <th>day</th>\n",
       "      <th>month</th>\n",
       "      <th>price</th>\n",
       "    </tr>\n",
       "  </thead>\n",
       "  <tbody>\n",
       "    <tr>\n",
       "      <th>0</th>\n",
       "      <td>9</td>\n",
       "      <td>16</td>\n",
       "      <td>12</td>\n",
       "      <td>5.0</td>\n",
       "    </tr>\n",
       "    <tr>\n",
       "      <th>1</th>\n",
       "      <td>2</td>\n",
       "      <td>27</td>\n",
       "      <td>11</td>\n",
       "      <td>11.0</td>\n",
       "    </tr>\n",
       "    <tr>\n",
       "      <th>2</th>\n",
       "      <td>1</td>\n",
       "      <td>28</td>\n",
       "      <td>11</td>\n",
       "      <td>7.0</td>\n",
       "    </tr>\n",
       "    <tr>\n",
       "      <th>3</th>\n",
       "      <td>4</td>\n",
       "      <td>30</td>\n",
       "      <td>11</td>\n",
       "      <td>26.0</td>\n",
       "    </tr>\n",
       "    <tr>\n",
       "      <th>4</th>\n",
       "      <td>3</td>\n",
       "      <td>29</td>\n",
       "      <td>11</td>\n",
       "      <td>9.0</td>\n",
       "    </tr>\n",
       "  </tbody>\n",
       "</table>\n",
       "</div>"
      ],
      "text/plain": [
       "   hour  day  month  price\n",
       "0     9   16     12    5.0\n",
       "1     2   27     11   11.0\n",
       "2     1   28     11    7.0\n",
       "3     4   30     11   26.0\n",
       "4     3   29     11    9.0"
      ]
     },
     "execution_count": 30,
     "metadata": {},
     "output_type": "execute_result"
    }
   ],
   "source": [
    "df_timestamp = df[['hour', 'day', 'month', 'price']]\n",
    "df_timestamp.head()"
   ]
  },
  {
   "cell_type": "markdown",
   "metadata": {
    "id": "AgKcslwL_8W5"
   },
   "source": [
    "## **Membuat heatmap dan melihat korelasi dari dataframe**"
   ]
  },
  {
   "cell_type": "code",
   "execution_count": 31,
   "metadata": {
    "colab": {
     "base_uri": "https://localhost:8080/",
     "height": 699
    },
    "id": "F0sCcOYkbU2U",
    "outputId": "c2d35c96-61da-4da2-979c-d016d080b44b"
   },
   "outputs": [
    {
     "data": {
      "text/plain": [
       "<AxesSubplot:>"
      ]
     },
     "execution_count": 31,
     "metadata": {},
     "output_type": "execute_result"
    },
    {
     "data": {
      "image/png": "[encoded data removed]",
      "text/plain": [
       "<Figure size 1200x800 with 2 Axes>"
      ]
     },
     "metadata": {},
     "output_type": "display_data"
    }
   ],
   "source": [
    "plt.figure(figsize=(12,8))\n",
    "sns.heatmap(df_timestamp.corr(),annot=True)"
   ]
  },
  {
   "cell_type": "markdown",
   "metadata": {
    "id": "4zAo8g3tfnnn"
   },
   "source": [
    "Dari hasil heatmap diatas feature hour, day, dan month memiliki korelasi rendah terhadap price."
   ]
  },
  {
   "cell_type": "markdown",
   "metadata": {
    "id": "jG-NNY40Yfe1"
   },
   "source": [
    "# **Data Cleaning**"
   ]
  },
  {
   "cell_type": "markdown",
   "metadata": {
    "id": "lTViLnv2ACqF"
   },
   "source": [
    "## Menghapus Kolom yang dianggap memiliki korelasi yang rendah"
   ]
  },
  {
   "cell_type": "code",
   "execution_count": 32,
   "metadata": {
    "id": "Trj82pjCbXNW"
   },
   "outputs": [],
   "source": [
    "new_df = df.drop(['id', 'product_id', 'timestamp','hour','day','month', 'timezone', 'latitude', 'longitude',\n",
    "                 'datetime','long_summary','apparentTemperatureHighTime','apparentTemperatureLowTime',\n",
    "                  'apparentTemperatureLowTime','windGustTime','sunriseTime','sunsetTime','uvIndexTime','temperatureMinTime',\n",
    "                 'temperatureMaxTime','apparentTemperatureMinTime','temperatureLowTime','apparentTemperatureMaxTime',\n",
    "                  'temperature','apparentTemperature','temperatureHigh','temperatureLow','apparentTemperatureHigh',\n",
    "                  'apparentTemperatureLow','temperatureMin','temperatureHighTime','temperatureMax','apparentTemperatureMin','apparentTemperatureMax',\n",
    "                  'precipIntensity', 'precipProbability', 'humidity', 'windSpeed', 'windGust', 'visibility', 'dewPoint', 'pressure', 'windBearing',\n",
    "                  'cloudCover', 'uvIndex', 'ozone', 'moonPhase', 'precipIntensityMax'], axis = 1)"
   ]
  },
  {
   "cell_type": "markdown",
   "metadata": {
    "id": "jWdDQJweAIS2"
   },
   "source": [
    "## Melihat ukuran dataframe"
   ]
  },
  {
   "cell_type": "code",
   "execution_count": 33,
   "metadata": {
    "colab": {
     "base_uri": "https://localhost:8080/"
    },
    "id": "0fdAjcYCbdyH",
    "outputId": "0ffba12e-ba6c-4518-cabe-fd77da747331"
   },
   "outputs": [
    {
     "data": {
      "text/plain": [
       "(687482, 10)"
      ]
     },
     "execution_count": 33,
     "metadata": {},
     "output_type": "execute_result"
    }
   ],
   "source": [
    "new_df.shape"
   ]
  },
  {
   "cell_type": "markdown",
   "metadata": {
    "id": "-pyEfMDaf3TO"
   },
   "source": [
    "Diperoleh dataframe baru dengan ukuran 693071 dengan 9 features dan 1 target"
   ]
  },
  {
   "cell_type": "markdown",
   "metadata": {
    "id": "F4DtTjmHALBO"
   },
   "source": [
    "## Menampilkan ukuran dataframe"
   ]
  },
  {
   "cell_type": "code",
   "execution_count": 45,
   "metadata": {
    "colab": {
     "base_uri": "https://localhost:8080/",
     "height": 206
    },
    "id": "SCEca6bFbfhy",
    "outputId": "bb65a333-cffa-4519-b4ce-b5d59e0b2123"
   },
   "outputs": [
    {
     "data": {
      "text/html": [
       "<div>\n",
       "<style scoped>\n",
       "    .dataframe tbody tr th:only-of-type {\n",
       "        vertical-align: middle;\n",
       "    }\n",
       "\n",
       "    .dataframe tbody tr th {\n",
       "        vertical-align: top;\n",
       "    }\n",
       "\n",
       "    .dataframe thead th {\n",
       "        text-align: right;\n",
       "    }\n",
       "</style>\n",
       "<table border=\"1\" class=\"dataframe\">\n",
       "  <thead>\n",
       "    <tr style=\"text-align: right;\">\n",
       "      <th></th>\n",
       "      <th>source</th>\n",
       "      <th>destination</th>\n",
       "      <th>cab_type</th>\n",
       "      <th>name</th>\n",
       "      <th>price</th>\n",
       "      <th>distance</th>\n",
       "      <th>surge_multiplier</th>\n",
       "      <th>short_summary</th>\n",
       "      <th>icon</th>\n",
       "      <th>visibility.1</th>\n",
       "    </tr>\n",
       "  </thead>\n",
       "  <tbody>\n",
       "    <tr>\n",
       "      <th>0</th>\n",
       "      <td>Haymarket Square</td>\n",
       "      <td>North Station</td>\n",
       "      <td>Lyft</td>\n",
       "      <td>Shared</td>\n",
       "      <td>5.0</td>\n",
       "      <td>0.44</td>\n",
       "      <td>1.0</td>\n",
       "      <td>Mostly Cloudy</td>\n",
       "      <td>partly-cloudy-night</td>\n",
       "      <td>10.000</td>\n",
       "    </tr>\n",
       "    <tr>\n",
       "      <th>1</th>\n",
       "      <td>Haymarket Square</td>\n",
       "      <td>North Station</td>\n",
       "      <td>Lyft</td>\n",
       "      <td>Lux</td>\n",
       "      <td>11.0</td>\n",
       "      <td>0.44</td>\n",
       "      <td>1.0</td>\n",
       "      <td>Rain</td>\n",
       "      <td>rain</td>\n",
       "      <td>4.786</td>\n",
       "    </tr>\n",
       "    <tr>\n",
       "      <th>2</th>\n",
       "      <td>Haymarket Square</td>\n",
       "      <td>North Station</td>\n",
       "      <td>Lyft</td>\n",
       "      <td>Lyft</td>\n",
       "      <td>7.0</td>\n",
       "      <td>0.44</td>\n",
       "      <td>1.0</td>\n",
       "      <td>Clear</td>\n",
       "      <td>clear-night</td>\n",
       "      <td>10.000</td>\n",
       "    </tr>\n",
       "    <tr>\n",
       "      <th>3</th>\n",
       "      <td>Haymarket Square</td>\n",
       "      <td>North Station</td>\n",
       "      <td>Lyft</td>\n",
       "      <td>Lux Black XL</td>\n",
       "      <td>26.0</td>\n",
       "      <td>0.44</td>\n",
       "      <td>1.0</td>\n",
       "      <td>Clear</td>\n",
       "      <td>clear-night</td>\n",
       "      <td>10.000</td>\n",
       "    </tr>\n",
       "    <tr>\n",
       "      <th>4</th>\n",
       "      <td>Haymarket Square</td>\n",
       "      <td>North Station</td>\n",
       "      <td>Lyft</td>\n",
       "      <td>Lyft XL</td>\n",
       "      <td>9.0</td>\n",
       "      <td>0.44</td>\n",
       "      <td>1.0</td>\n",
       "      <td>Partly Cloudy</td>\n",
       "      <td>partly-cloudy-night</td>\n",
       "      <td>10.000</td>\n",
       "    </tr>\n",
       "  </tbody>\n",
       "</table>\n",
       "</div>"
      ],
      "text/plain": [
       "             source    destination cab_type          name  price  distance  \\\n",
       "0  Haymarket Square  North Station     Lyft        Shared    5.0      0.44   \n",
       "1  Haymarket Square  North Station     Lyft           Lux   11.0      0.44   \n",
       "2  Haymarket Square  North Station     Lyft          Lyft    7.0      0.44   \n",
       "3  Haymarket Square  North Station     Lyft  Lux Black XL   26.0      0.44   \n",
       "4  Haymarket Square  North Station     Lyft       Lyft XL    9.0      0.44   \n",
       "\n",
       "   surge_multiplier    short_summary                   icon  visibility.1  \n",
       "0               1.0   Mostly Cloudy    partly-cloudy-night         10.000  \n",
       "1               1.0            Rain                   rain          4.786  \n",
       "2               1.0           Clear            clear-night         10.000  \n",
       "3               1.0           Clear            clear-night         10.000  \n",
       "4               1.0   Partly Cloudy    partly-cloudy-night         10.000  "
      ]
     },
     "execution_count": 45,
     "metadata": {},
     "output_type": "execute_result"
    }
   ],
   "source": [
    "new_df.head()"
   ]
  },
  {
   "cell_type": "markdown",
   "metadata": {
    "id": "jXiEl70agEoi"
   },
   "source": [
    "# **Data Preprocessing**"
   ]
  },
  {
   "cell_type": "markdown",
   "metadata": {
    "id": "ZbEB5L97AN5n"
   },
   "source": [
    "## Mengecek missing value"
   ]
  },
  {
   "cell_type": "code",
   "execution_count": 34,
   "metadata": {},
   "outputs": [
    {
     "data": {
      "text/plain": [
       "source                  0\n",
       "destination             0\n",
       "cab_type                0\n",
       "name                    0\n",
       "price               55095\n",
       "distance                0\n",
       "surge_multiplier        0\n",
       "short_summary           0\n",
       "icon                    0\n",
       "visibility.1            0\n",
       "dtype: int64"
      ]
     },
     "execution_count": 34,
     "metadata": {},
     "output_type": "execute_result"
    }
   ],
   "source": [
    "new_df.isnull().sum()"
   ]
  },
  {
   "cell_type": "markdown",
   "metadata": {
    "id": "L4FaTkqRgea-"
   },
   "source": [
    "Setelah dilakukan pengecekan missing value pada dataset ini, ternyata terdapat missing value pada dataset ini tepatnya pada kolom 'Price'. Pada kolom price terdapat missing value berjumlah 55095, ini jumlah yang banyak. Dikarenakan terdapat missing value pada kolom price, maka kita akan melakukan drop missing value agar untuk melakukan modelling nanti nilai akurasinya lebih akurat."
   ]
  },
  {
   "cell_type": "markdown",
   "metadata": {
    "id": "3GXow39MAQr-"
   },
   "source": [
    "## Menampilkan dataframe"
   ]
  },
  {
   "cell_type": "code",
   "execution_count": 35,
   "metadata": {
    "colab": {
     "base_uri": "https://localhost:8080/",
     "height": 423
    },
    "id": "USXPwugWbl0R",
    "outputId": "a459b510-507e-4c07-9f49-68ac186ae5c3"
   },
   "outputs": [
    {
     "data": {
      "text/html": [
       "<div>\n",
       "<style scoped>\n",
       "    .dataframe tbody tr th:only-of-type {\n",
       "        vertical-align: middle;\n",
       "    }\n",
       "\n",
       "    .dataframe tbody tr th {\n",
       "        vertical-align: top;\n",
       "    }\n",
       "\n",
       "    .dataframe thead th {\n",
       "        text-align: right;\n",
       "    }\n",
       "</style>\n",
       "<table border=\"1\" class=\"dataframe\">\n",
       "  <thead>\n",
       "    <tr style=\"text-align: right;\">\n",
       "      <th></th>\n",
       "      <th>source</th>\n",
       "      <th>destination</th>\n",
       "      <th>cab_type</th>\n",
       "      <th>name</th>\n",
       "      <th>price</th>\n",
       "      <th>distance</th>\n",
       "      <th>surge_multiplier</th>\n",
       "      <th>short_summary</th>\n",
       "      <th>icon</th>\n",
       "      <th>visibility.1</th>\n",
       "    </tr>\n",
       "  </thead>\n",
       "  <tbody>\n",
       "    <tr>\n",
       "      <th>0</th>\n",
       "      <td>Haymarket Square</td>\n",
       "      <td>North Station</td>\n",
       "      <td>Lyft</td>\n",
       "      <td>Shared</td>\n",
       "      <td>5.0</td>\n",
       "      <td>0.44</td>\n",
       "      <td>1.0</td>\n",
       "      <td>Mostly Cloudy</td>\n",
       "      <td>partly-cloudy-night</td>\n",
       "      <td>10.000</td>\n",
       "    </tr>\n",
       "    <tr>\n",
       "      <th>1</th>\n",
       "      <td>Haymarket Square</td>\n",
       "      <td>North Station</td>\n",
       "      <td>Lyft</td>\n",
       "      <td>Lux</td>\n",
       "      <td>11.0</td>\n",
       "      <td>0.44</td>\n",
       "      <td>1.0</td>\n",
       "      <td>Rain</td>\n",
       "      <td>rain</td>\n",
       "      <td>4.786</td>\n",
       "    </tr>\n",
       "    <tr>\n",
       "      <th>2</th>\n",
       "      <td>Haymarket Square</td>\n",
       "      <td>North Station</td>\n",
       "      <td>Lyft</td>\n",
       "      <td>Lyft</td>\n",
       "      <td>7.0</td>\n",
       "      <td>0.44</td>\n",
       "      <td>1.0</td>\n",
       "      <td>Clear</td>\n",
       "      <td>clear-night</td>\n",
       "      <td>10.000</td>\n",
       "    </tr>\n",
       "    <tr>\n",
       "      <th>3</th>\n",
       "      <td>Haymarket Square</td>\n",
       "      <td>North Station</td>\n",
       "      <td>Lyft</td>\n",
       "      <td>Lux Black XL</td>\n",
       "      <td>26.0</td>\n",
       "      <td>0.44</td>\n",
       "      <td>1.0</td>\n",
       "      <td>Clear</td>\n",
       "      <td>clear-night</td>\n",
       "      <td>10.000</td>\n",
       "    </tr>\n",
       "    <tr>\n",
       "      <th>4</th>\n",
       "      <td>Haymarket Square</td>\n",
       "      <td>North Station</td>\n",
       "      <td>Lyft</td>\n",
       "      <td>Lyft XL</td>\n",
       "      <td>9.0</td>\n",
       "      <td>0.44</td>\n",
       "      <td>1.0</td>\n",
       "      <td>Partly Cloudy</td>\n",
       "      <td>partly-cloudy-night</td>\n",
       "      <td>10.000</td>\n",
       "    </tr>\n",
       "    <tr>\n",
       "      <th>...</th>\n",
       "      <td>...</td>\n",
       "      <td>...</td>\n",
       "      <td>...</td>\n",
       "      <td>...</td>\n",
       "      <td>...</td>\n",
       "      <td>...</td>\n",
       "      <td>...</td>\n",
       "      <td>...</td>\n",
       "      <td>...</td>\n",
       "      <td>...</td>\n",
       "    </tr>\n",
       "    <tr>\n",
       "      <th>693066</th>\n",
       "      <td>West End</td>\n",
       "      <td>North End</td>\n",
       "      <td>Uber</td>\n",
       "      <td>UberXL</td>\n",
       "      <td>13.0</td>\n",
       "      <td>1.00</td>\n",
       "      <td>1.0</td>\n",
       "      <td>Partly Cloudy</td>\n",
       "      <td>partly-cloudy-night</td>\n",
       "      <td>9.785</td>\n",
       "    </tr>\n",
       "    <tr>\n",
       "      <th>693067</th>\n",
       "      <td>West End</td>\n",
       "      <td>North End</td>\n",
       "      <td>Uber</td>\n",
       "      <td>UberX</td>\n",
       "      <td>9.5</td>\n",
       "      <td>1.00</td>\n",
       "      <td>1.0</td>\n",
       "      <td>Partly Cloudy</td>\n",
       "      <td>partly-cloudy-night</td>\n",
       "      <td>9.785</td>\n",
       "    </tr>\n",
       "    <tr>\n",
       "      <th>693068</th>\n",
       "      <td>West End</td>\n",
       "      <td>North End</td>\n",
       "      <td>Uber</td>\n",
       "      <td>Taxi</td>\n",
       "      <td>NaN</td>\n",
       "      <td>1.00</td>\n",
       "      <td>1.0</td>\n",
       "      <td>Partly Cloudy</td>\n",
       "      <td>partly-cloudy-night</td>\n",
       "      <td>9.785</td>\n",
       "    </tr>\n",
       "    <tr>\n",
       "      <th>693069</th>\n",
       "      <td>West End</td>\n",
       "      <td>North End</td>\n",
       "      <td>Uber</td>\n",
       "      <td>Black SUV</td>\n",
       "      <td>27.0</td>\n",
       "      <td>1.00</td>\n",
       "      <td>1.0</td>\n",
       "      <td>Partly Cloudy</td>\n",
       "      <td>partly-cloudy-night</td>\n",
       "      <td>9.785</td>\n",
       "    </tr>\n",
       "    <tr>\n",
       "      <th>693070</th>\n",
       "      <td>West End</td>\n",
       "      <td>North End</td>\n",
       "      <td>Uber</td>\n",
       "      <td>UberPool</td>\n",
       "      <td>10.0</td>\n",
       "      <td>1.00</td>\n",
       "      <td>1.0</td>\n",
       "      <td>Partly Cloudy</td>\n",
       "      <td>partly-cloudy-night</td>\n",
       "      <td>9.785</td>\n",
       "    </tr>\n",
       "  </tbody>\n",
       "</table>\n",
       "<p>687482 rows × 10 columns</p>\n",
       "</div>"
      ],
      "text/plain": [
       "                  source    destination cab_type          name  price  \\\n",
       "0       Haymarket Square  North Station     Lyft        Shared    5.0   \n",
       "1       Haymarket Square  North Station     Lyft           Lux   11.0   \n",
       "2       Haymarket Square  North Station     Lyft          Lyft    7.0   \n",
       "3       Haymarket Square  North Station     Lyft  Lux Black XL   26.0   \n",
       "4       Haymarket Square  North Station     Lyft       Lyft XL    9.0   \n",
       "...                  ...            ...      ...           ...    ...   \n",
       "693066          West End      North End     Uber        UberXL   13.0   \n",
       "693067          West End      North End     Uber         UberX    9.5   \n",
       "693068          West End      North End     Uber          Taxi    NaN   \n",
       "693069          West End      North End     Uber     Black SUV   27.0   \n",
       "693070          West End      North End     Uber      UberPool   10.0   \n",
       "\n",
       "        distance  surge_multiplier    short_summary                   icon  \\\n",
       "0           0.44               1.0   Mostly Cloudy    partly-cloudy-night    \n",
       "1           0.44               1.0            Rain                   rain    \n",
       "2           0.44               1.0           Clear            clear-night    \n",
       "3           0.44               1.0           Clear            clear-night    \n",
       "4           0.44               1.0   Partly Cloudy    partly-cloudy-night    \n",
       "...          ...               ...              ...                    ...   \n",
       "693066      1.00               1.0   Partly Cloudy    partly-cloudy-night    \n",
       "693067      1.00               1.0   Partly Cloudy    partly-cloudy-night    \n",
       "693068      1.00               1.0   Partly Cloudy    partly-cloudy-night    \n",
       "693069      1.00               1.0   Partly Cloudy    partly-cloudy-night    \n",
       "693070      1.00               1.0   Partly Cloudy    partly-cloudy-night    \n",
       "\n",
       "        visibility.1  \n",
       "0             10.000  \n",
       "1              4.786  \n",
       "2             10.000  \n",
       "3             10.000  \n",
       "4             10.000  \n",
       "...              ...  \n",
       "693066         9.785  \n",
       "693067         9.785  \n",
       "693068         9.785  \n",
       "693069         9.785  \n",
       "693070         9.785  \n",
       "\n",
       "[687482 rows x 10 columns]"
      ]
     },
     "execution_count": 35,
     "metadata": {},
     "output_type": "execute_result"
    }
   ],
   "source": [
    "new_df"
   ]
  },
  {
   "cell_type": "markdown",
   "metadata": {
    "id": "yoy3Fib7hNm6"
   },
   "source": [
    "Berdasarkan data diatas, dapat dilihat bahwa missing value terdapat pada semua atribut taxi. Untuk mengkonfirmasi kembali, tampilkan data yang memiliki name Taxi"
   ]
  },
  {
   "cell_type": "markdown",
   "metadata": {},
   "source": [
    "## Menghapus Missing Value"
   ]
  },
  {
   "cell_type": "code",
   "execution_count": 36,
   "metadata": {
    "colab": {
     "base_uri": "https://localhost:8080/",
     "height": 423
    },
    "id": "oj25bdIcbuIA",
    "outputId": "c6023fbf-6f6c-472a-9642-558c7a71118d"
   },
   "outputs": [
    {
     "data": {
      "text/html": [
       "<div>\n",
       "<style scoped>\n",
       "    .dataframe tbody tr th:only-of-type {\n",
       "        vertical-align: middle;\n",
       "    }\n",
       "\n",
       "    .dataframe tbody tr th {\n",
       "        vertical-align: top;\n",
       "    }\n",
       "\n",
       "    .dataframe thead th {\n",
       "        text-align: right;\n",
       "    }\n",
       "</style>\n",
       "<table border=\"1\" class=\"dataframe\">\n",
       "  <thead>\n",
       "    <tr style=\"text-align: right;\">\n",
       "      <th></th>\n",
       "      <th>source</th>\n",
       "      <th>destination</th>\n",
       "      <th>cab_type</th>\n",
       "      <th>name</th>\n",
       "      <th>price</th>\n",
       "      <th>distance</th>\n",
       "      <th>surge_multiplier</th>\n",
       "      <th>short_summary</th>\n",
       "      <th>icon</th>\n",
       "      <th>visibility.1</th>\n",
       "    </tr>\n",
       "  </thead>\n",
       "  <tbody>\n",
       "    <tr>\n",
       "      <th>18</th>\n",
       "      <td>North End</td>\n",
       "      <td>West End</td>\n",
       "      <td>Uber</td>\n",
       "      <td>Taxi</td>\n",
       "      <td>NaN</td>\n",
       "      <td>1.11</td>\n",
       "      <td>1.0</td>\n",
       "      <td>Partly Cloudy</td>\n",
       "      <td>partly-cloudy-day</td>\n",
       "      <td>9.910</td>\n",
       "    </tr>\n",
       "    <tr>\n",
       "      <th>31</th>\n",
       "      <td>Beacon Hill</td>\n",
       "      <td>South Station</td>\n",
       "      <td>Uber</td>\n",
       "      <td>Taxi</td>\n",
       "      <td>NaN</td>\n",
       "      <td>2.48</td>\n",
       "      <td>1.0</td>\n",
       "      <td>Overcast</td>\n",
       "      <td>cloudy</td>\n",
       "      <td>7.790</td>\n",
       "    </tr>\n",
       "    <tr>\n",
       "      <th>40</th>\n",
       "      <td>North Station</td>\n",
       "      <td>Fenway</td>\n",
       "      <td>Uber</td>\n",
       "      <td>Taxi</td>\n",
       "      <td>NaN</td>\n",
       "      <td>2.94</td>\n",
       "      <td>1.0</td>\n",
       "      <td>Partly Cloudy</td>\n",
       "      <td>partly-cloudy-day</td>\n",
       "      <td>9.772</td>\n",
       "    </tr>\n",
       "    <tr>\n",
       "      <th>60</th>\n",
       "      <td>North End</td>\n",
       "      <td>West End</td>\n",
       "      <td>Uber</td>\n",
       "      <td>Taxi</td>\n",
       "      <td>NaN</td>\n",
       "      <td>1.16</td>\n",
       "      <td>1.0</td>\n",
       "      <td>Mostly Cloudy</td>\n",
       "      <td>partly-cloudy-day</td>\n",
       "      <td>9.956</td>\n",
       "    </tr>\n",
       "    <tr>\n",
       "      <th>69</th>\n",
       "      <td>North End</td>\n",
       "      <td>Beacon Hill</td>\n",
       "      <td>Uber</td>\n",
       "      <td>Taxi</td>\n",
       "      <td>NaN</td>\n",
       "      <td>2.67</td>\n",
       "      <td>1.0</td>\n",
       "      <td>Clear</td>\n",
       "      <td>clear-day</td>\n",
       "      <td>10.000</td>\n",
       "    </tr>\n",
       "    <tr>\n",
       "      <th>...</th>\n",
       "      <td>...</td>\n",
       "      <td>...</td>\n",
       "      <td>...</td>\n",
       "      <td>...</td>\n",
       "      <td>...</td>\n",
       "      <td>...</td>\n",
       "      <td>...</td>\n",
       "      <td>...</td>\n",
       "      <td>...</td>\n",
       "      <td>...</td>\n",
       "    </tr>\n",
       "    <tr>\n",
       "      <th>693025</th>\n",
       "      <td>South Station</td>\n",
       "      <td>Beacon Hill</td>\n",
       "      <td>Uber</td>\n",
       "      <td>Taxi</td>\n",
       "      <td>NaN</td>\n",
       "      <td>2.50</td>\n",
       "      <td>1.0</td>\n",
       "      <td>Mostly Cloudy</td>\n",
       "      <td>partly-cloudy-day</td>\n",
       "      <td>9.909</td>\n",
       "    </tr>\n",
       "    <tr>\n",
       "      <th>693047</th>\n",
       "      <td>Haymarket Square</td>\n",
       "      <td>Beacon Hill</td>\n",
       "      <td>Uber</td>\n",
       "      <td>Taxi</td>\n",
       "      <td>NaN</td>\n",
       "      <td>0.91</td>\n",
       "      <td>1.0</td>\n",
       "      <td>Mostly Cloudy</td>\n",
       "      <td>partly-cloudy-night</td>\n",
       "      <td>9.915</td>\n",
       "    </tr>\n",
       "    <tr>\n",
       "      <th>693049</th>\n",
       "      <td>North End</td>\n",
       "      <td>Beacon Hill</td>\n",
       "      <td>Uber</td>\n",
       "      <td>Taxi</td>\n",
       "      <td>NaN</td>\n",
       "      <td>1.79</td>\n",
       "      <td>1.0</td>\n",
       "      <td>Mostly Cloudy</td>\n",
       "      <td>partly-cloudy-night</td>\n",
       "      <td>9.915</td>\n",
       "    </tr>\n",
       "    <tr>\n",
       "      <th>693060</th>\n",
       "      <td>Theatre District</td>\n",
       "      <td>Haymarket Square</td>\n",
       "      <td>Uber</td>\n",
       "      <td>Taxi</td>\n",
       "      <td>NaN</td>\n",
       "      <td>1.61</td>\n",
       "      <td>1.0</td>\n",
       "      <td>Overcast</td>\n",
       "      <td>cloudy</td>\n",
       "      <td>9.698</td>\n",
       "    </tr>\n",
       "    <tr>\n",
       "      <th>693068</th>\n",
       "      <td>West End</td>\n",
       "      <td>North End</td>\n",
       "      <td>Uber</td>\n",
       "      <td>Taxi</td>\n",
       "      <td>NaN</td>\n",
       "      <td>1.00</td>\n",
       "      <td>1.0</td>\n",
       "      <td>Partly Cloudy</td>\n",
       "      <td>partly-cloudy-night</td>\n",
       "      <td>9.785</td>\n",
       "    </tr>\n",
       "  </tbody>\n",
       "</table>\n",
       "<p>55095 rows × 10 columns</p>\n",
       "</div>"
      ],
      "text/plain": [
       "                  source       destination cab_type  name  price  distance  \\\n",
       "18             North End          West End     Uber  Taxi    NaN      1.11   \n",
       "31           Beacon Hill     South Station     Uber  Taxi    NaN      2.48   \n",
       "40         North Station            Fenway     Uber  Taxi    NaN      2.94   \n",
       "60             North End          West End     Uber  Taxi    NaN      1.16   \n",
       "69             North End       Beacon Hill     Uber  Taxi    NaN      2.67   \n",
       "...                  ...               ...      ...   ...    ...       ...   \n",
       "693025     South Station       Beacon Hill     Uber  Taxi    NaN      2.50   \n",
       "693047  Haymarket Square       Beacon Hill     Uber  Taxi    NaN      0.91   \n",
       "693049         North End       Beacon Hill     Uber  Taxi    NaN      1.79   \n",
       "693060  Theatre District  Haymarket Square     Uber  Taxi    NaN      1.61   \n",
       "693068          West End         North End     Uber  Taxi    NaN      1.00   \n",
       "\n",
       "        surge_multiplier    short_summary                   icon  visibility.1  \n",
       "18                   1.0   Partly Cloudy      partly-cloudy-day          9.910  \n",
       "31                   1.0        Overcast                 cloudy          7.790  \n",
       "40                   1.0   Partly Cloudy      partly-cloudy-day          9.772  \n",
       "60                   1.0   Mostly Cloudy      partly-cloudy-day          9.956  \n",
       "69                   1.0           Clear              clear-day         10.000  \n",
       "...                  ...              ...                    ...           ...  \n",
       "693025               1.0   Mostly Cloudy      partly-cloudy-day          9.909  \n",
       "693047               1.0   Mostly Cloudy    partly-cloudy-night          9.915  \n",
       "693049               1.0   Mostly Cloudy    partly-cloudy-night          9.915  \n",
       "693060               1.0        Overcast                 cloudy          9.698  \n",
       "693068               1.0   Partly Cloudy    partly-cloudy-night          9.785  \n",
       "\n",
       "[55095 rows x 10 columns]"
      ]
     },
     "execution_count": 36,
     "metadata": {},
     "output_type": "execute_result"
    }
   ],
   "source": [
    "new_df.loc[(new_df['name'] == 'Taxi')]"
   ]
  },
  {
   "cell_type": "markdown",
   "metadata": {
    "id": "mIYigCnUheRG"
   },
   "source": [
    "Berdasarkan hasil diatas, semua 'Taxi' tidak memiliki value pada price dan jumlahnya sama dengan jumlah missing value diseluruh dataframe. Sehingga, dapat disimpulkan bahwa missing value pada dataset ini dapat dihapus."
   ]
  },
  {
   "cell_type": "code",
   "execution_count": 37,
   "metadata": {
    "id": "tS0nq1pFby_z"
   },
   "outputs": [],
   "source": [
    "new_df.drop(df.index[df['name'] == 'Taxi'], inplace=True)"
   ]
  },
  {
   "cell_type": "code",
   "execution_count": 38,
   "metadata": {
    "colab": {
     "base_uri": "https://localhost:8080/"
    },
    "id": "bNeyaZHyb9D3",
    "outputId": "1ec24c2f-8f8b-4f2e-b334-634462ae652d"
   },
   "outputs": [
    {
     "data": {
      "text/plain": [
       "(632387, 10)"
      ]
     },
     "execution_count": 38,
     "metadata": {},
     "output_type": "execute_result"
    }
   ],
   "source": [
    "## Melihat ukuran dataframe\n",
    "new_df.shape"
   ]
  },
  {
   "cell_type": "code",
   "execution_count": 39,
   "metadata": {
    "colab": {
     "base_uri": "https://localhost:8080/"
    },
    "id": "-6cw8wlVb-k7",
    "outputId": "41a29be1-89ce-4be3-d2f9-4a620bed253b"
   },
   "outputs": [
    {
     "data": {
      "text/plain": [
       "0"
      ]
     },
     "execution_count": 39,
     "metadata": {},
     "output_type": "execute_result"
    }
   ],
   "source": [
    "## Mengecek Missing Value\n",
    "new_df.isnull().sum().sum()"
   ]
  },
  {
   "cell_type": "markdown",
   "metadata": {
    "id": "BZs7BnQWiFYT"
   },
   "source": [
    "Missing value sudah tidak ada"
   ]
  },
  {
   "cell_type": "markdown",
   "metadata": {
    "id": "zlA0iQ8IAgqh"
   },
   "source": [
    "## Membuat dataframe baru"
   ]
  },
  {
   "cell_type": "code",
   "execution_count": 40,
   "metadata": {
    "colab": {
     "base_uri": "https://localhost:8080/",
     "height": 206
    },
    "id": "-8HAunFacCQd",
    "outputId": "4abfd86a-eb10-4340-9d3a-9e91d18afee0"
   },
   "outputs": [
    {
     "data": {
      "text/html": [
       "<div>\n",
       "<style scoped>\n",
       "    .dataframe tbody tr th:only-of-type {\n",
       "        vertical-align: middle;\n",
       "    }\n",
       "\n",
       "    .dataframe tbody tr th {\n",
       "        vertical-align: top;\n",
       "    }\n",
       "\n",
       "    .dataframe thead th {\n",
       "        text-align: right;\n",
       "    }\n",
       "</style>\n",
       "<table border=\"1\" class=\"dataframe\">\n",
       "  <thead>\n",
       "    <tr style=\"text-align: right;\">\n",
       "      <th></th>\n",
       "      <th>source</th>\n",
       "      <th>destination</th>\n",
       "      <th>cab_type</th>\n",
       "      <th>short_summary</th>\n",
       "      <th>icon</th>\n",
       "      <th>price</th>\n",
       "    </tr>\n",
       "  </thead>\n",
       "  <tbody>\n",
       "    <tr>\n",
       "      <th>0</th>\n",
       "      <td>Haymarket Square</td>\n",
       "      <td>North Station</td>\n",
       "      <td>Lyft</td>\n",
       "      <td>Mostly Cloudy</td>\n",
       "      <td>partly-cloudy-night</td>\n",
       "      <td>5.0</td>\n",
       "    </tr>\n",
       "    <tr>\n",
       "      <th>1</th>\n",
       "      <td>Haymarket Square</td>\n",
       "      <td>North Station</td>\n",
       "      <td>Lyft</td>\n",
       "      <td>Rain</td>\n",
       "      <td>rain</td>\n",
       "      <td>11.0</td>\n",
       "    </tr>\n",
       "    <tr>\n",
       "      <th>2</th>\n",
       "      <td>Haymarket Square</td>\n",
       "      <td>North Station</td>\n",
       "      <td>Lyft</td>\n",
       "      <td>Clear</td>\n",
       "      <td>clear-night</td>\n",
       "      <td>7.0</td>\n",
       "    </tr>\n",
       "    <tr>\n",
       "      <th>3</th>\n",
       "      <td>Haymarket Square</td>\n",
       "      <td>North Station</td>\n",
       "      <td>Lyft</td>\n",
       "      <td>Clear</td>\n",
       "      <td>clear-night</td>\n",
       "      <td>26.0</td>\n",
       "    </tr>\n",
       "    <tr>\n",
       "      <th>4</th>\n",
       "      <td>Haymarket Square</td>\n",
       "      <td>North Station</td>\n",
       "      <td>Lyft</td>\n",
       "      <td>Partly Cloudy</td>\n",
       "      <td>partly-cloudy-night</td>\n",
       "      <td>9.0</td>\n",
       "    </tr>\n",
       "  </tbody>\n",
       "</table>\n",
       "</div>"
      ],
      "text/plain": [
       "             source    destination cab_type    short_summary  \\\n",
       "0  Haymarket Square  North Station     Lyft   Mostly Cloudy    \n",
       "1  Haymarket Square  North Station     Lyft            Rain    \n",
       "2  Haymarket Square  North Station     Lyft           Clear    \n",
       "3  Haymarket Square  North Station     Lyft           Clear    \n",
       "4  Haymarket Square  North Station     Lyft   Partly Cloudy    \n",
       "\n",
       "                    icon  price  \n",
       "0   partly-cloudy-night     5.0  \n",
       "1                  rain    11.0  \n",
       "2           clear-night     7.0  \n",
       "3           clear-night    26.0  \n",
       "4   partly-cloudy-night     9.0  "
      ]
     },
     "execution_count": 40,
     "metadata": {},
     "output_type": "execute_result"
    }
   ],
   "source": [
    "new_cat = ['source',\n",
    " 'destination',\n",
    " 'cab_type',\n",
    " 'short_summary',\n",
    " 'icon','price']\n",
    "\n",
    "df_cat = new_df[new_cat]\n",
    "df_cat.head()"
   ]
  },
  {
   "cell_type": "markdown",
   "metadata": {
    "id": "LdQkI-fKAl8_"
   },
   "source": [
    "## Mengimport Library dan melakukan Encoding pada type object"
   ]
  },
  {
   "cell_type": "code",
   "execution_count": 41,
   "metadata": {
    "id": "xHwUzBH3cJ1q"
   },
   "outputs": [],
   "source": [
    "from sklearn import preprocessing\n",
    "le = preprocessing.LabelEncoder()\n",
    "\n",
    "df_cat_encode = df_cat.copy()\n",
    "for col in df_cat_encode.select_dtypes(include='O').columns:\n",
    "    df_cat_encode[col]=le.fit_transform(df_cat_encode[col])"
   ]
  },
  {
   "cell_type": "markdown",
   "metadata": {
    "id": "eqlq3LYeAts-"
   },
   "source": [
    "## Menampilkan Data Frame"
   ]
  },
  {
   "cell_type": "code",
   "execution_count": 42,
   "metadata": {
    "colab": {
     "base_uri": "https://localhost:8080/",
     "height": 423
    },
    "id": "aZsF0XsxcMfB",
    "outputId": "a250769a-e368-4906-f0d8-73be01f67d49"
   },
   "outputs": [
    {
     "data": {
      "text/html": [
       "<div>\n",
       "<style scoped>\n",
       "    .dataframe tbody tr th:only-of-type {\n",
       "        vertical-align: middle;\n",
       "    }\n",
       "\n",
       "    .dataframe tbody tr th {\n",
       "        vertical-align: top;\n",
       "    }\n",
       "\n",
       "    .dataframe thead th {\n",
       "        text-align: right;\n",
       "    }\n",
       "</style>\n",
       "<table border=\"1\" class=\"dataframe\">\n",
       "  <thead>\n",
       "    <tr style=\"text-align: right;\">\n",
       "      <th></th>\n",
       "      <th>source</th>\n",
       "      <th>destination</th>\n",
       "      <th>cab_type</th>\n",
       "      <th>short_summary</th>\n",
       "      <th>icon</th>\n",
       "      <th>price</th>\n",
       "    </tr>\n",
       "  </thead>\n",
       "  <tbody>\n",
       "    <tr>\n",
       "      <th>0</th>\n",
       "      <td>5</td>\n",
       "      <td>7</td>\n",
       "      <td>0</td>\n",
       "      <td>4</td>\n",
       "      <td>5</td>\n",
       "      <td>5.0</td>\n",
       "    </tr>\n",
       "    <tr>\n",
       "      <th>1</th>\n",
       "      <td>5</td>\n",
       "      <td>7</td>\n",
       "      <td>0</td>\n",
       "      <td>8</td>\n",
       "      <td>6</td>\n",
       "      <td>11.0</td>\n",
       "    </tr>\n",
       "    <tr>\n",
       "      <th>2</th>\n",
       "      <td>5</td>\n",
       "      <td>7</td>\n",
       "      <td>0</td>\n",
       "      <td>0</td>\n",
       "      <td>1</td>\n",
       "      <td>7.0</td>\n",
       "    </tr>\n",
       "    <tr>\n",
       "      <th>3</th>\n",
       "      <td>5</td>\n",
       "      <td>7</td>\n",
       "      <td>0</td>\n",
       "      <td>0</td>\n",
       "      <td>1</td>\n",
       "      <td>26.0</td>\n",
       "    </tr>\n",
       "    <tr>\n",
       "      <th>4</th>\n",
       "      <td>5</td>\n",
       "      <td>7</td>\n",
       "      <td>0</td>\n",
       "      <td>6</td>\n",
       "      <td>5</td>\n",
       "      <td>9.0</td>\n",
       "    </tr>\n",
       "    <tr>\n",
       "      <th>...</th>\n",
       "      <td>...</td>\n",
       "      <td>...</td>\n",
       "      <td>...</td>\n",
       "      <td>...</td>\n",
       "      <td>...</td>\n",
       "      <td>...</td>\n",
       "    </tr>\n",
       "    <tr>\n",
       "      <th>693065</th>\n",
       "      <td>11</td>\n",
       "      <td>6</td>\n",
       "      <td>1</td>\n",
       "      <td>6</td>\n",
       "      <td>5</td>\n",
       "      <td>9.5</td>\n",
       "    </tr>\n",
       "    <tr>\n",
       "      <th>693066</th>\n",
       "      <td>11</td>\n",
       "      <td>6</td>\n",
       "      <td>1</td>\n",
       "      <td>6</td>\n",
       "      <td>5</td>\n",
       "      <td>13.0</td>\n",
       "    </tr>\n",
       "    <tr>\n",
       "      <th>693067</th>\n",
       "      <td>11</td>\n",
       "      <td>6</td>\n",
       "      <td>1</td>\n",
       "      <td>6</td>\n",
       "      <td>5</td>\n",
       "      <td>9.5</td>\n",
       "    </tr>\n",
       "    <tr>\n",
       "      <th>693069</th>\n",
       "      <td>11</td>\n",
       "      <td>6</td>\n",
       "      <td>1</td>\n",
       "      <td>6</td>\n",
       "      <td>5</td>\n",
       "      <td>27.0</td>\n",
       "    </tr>\n",
       "    <tr>\n",
       "      <th>693070</th>\n",
       "      <td>11</td>\n",
       "      <td>6</td>\n",
       "      <td>1</td>\n",
       "      <td>6</td>\n",
       "      <td>5</td>\n",
       "      <td>10.0</td>\n",
       "    </tr>\n",
       "  </tbody>\n",
       "</table>\n",
       "<p>632387 rows × 6 columns</p>\n",
       "</div>"
      ],
      "text/plain": [
       "        source  destination  cab_type  short_summary  icon  price\n",
       "0            5            7         0              4     5    5.0\n",
       "1            5            7         0              8     6   11.0\n",
       "2            5            7         0              0     1    7.0\n",
       "3            5            7         0              0     1   26.0\n",
       "4            5            7         0              6     5    9.0\n",
       "...        ...          ...       ...            ...   ...    ...\n",
       "693065      11            6         1              6     5    9.5\n",
       "693066      11            6         1              6     5   13.0\n",
       "693067      11            6         1              6     5    9.5\n",
       "693069      11            6         1              6     5   27.0\n",
       "693070      11            6         1              6     5   10.0\n",
       "\n",
       "[632387 rows x 6 columns]"
      ]
     },
     "execution_count": 42,
     "metadata": {},
     "output_type": "execute_result"
    }
   ],
   "source": [
    "df_cat_encode"
   ]
  },
  {
   "cell_type": "markdown",
   "metadata": {
    "id": "ShoQi3plAwyG"
   },
   "source": [
    "## Membuat Heatmap dan melihat korelasi pada dataframe"
   ]
  },
  {
   "cell_type": "code",
   "execution_count": 43,
   "metadata": {
    "colab": {
     "base_uri": "https://localhost:8080/",
     "height": 1000
    },
    "id": "pTo2kXLZcq2I",
    "outputId": "2bb889b0-6d74-4c2a-e5c6-91b0318f760c"
   },
   "outputs": [
    {
     "data": {
      "text/plain": [
       "<AxesSubplot:>"
      ]
     },
     "execution_count": 43,
     "metadata": {},
     "output_type": "execute_result"
    },
    {
     "data": {
      "image/png": "[encoded data removed]",
      "text/plain": [
       "<Figure size 1200x1200 with 2 Axes>"
      ]
     },
     "metadata": {},
     "output_type": "display_data"
    }
   ],
   "source": [
    "plt.figure(figsize=(12,12))\n",
    "sns.heatmap(df_cat_encode.corr(),annot=True)"
   ]
  },
  {
   "cell_type": "markdown",
   "metadata": {
    "id": "saFrYqQUA7nY"
   },
   "source": [
    "## Menghapus kolom yang dianggap tidak memiliki korelasi yang tinggi"
   ]
  },
  {
   "cell_type": "code",
   "execution_count": 44,
   "metadata": {
    "colab": {
     "base_uri": "https://localhost:8080/",
     "height": 206
    },
    "id": "Dpqb71efnk47",
    "outputId": "053900c4-4558-49a2-e821-c4eaef346f49"
   },
   "outputs": [
    {
     "data": {
      "text/html": [
       "<div>\n",
       "<style scoped>\n",
       "    .dataframe tbody tr th:only-of-type {\n",
       "        vertical-align: middle;\n",
       "    }\n",
       "\n",
       "    .dataframe tbody tr th {\n",
       "        vertical-align: top;\n",
       "    }\n",
       "\n",
       "    .dataframe thead th {\n",
       "        text-align: right;\n",
       "    }\n",
       "</style>\n",
       "<table border=\"1\" class=\"dataframe\">\n",
       "  <thead>\n",
       "    <tr style=\"text-align: right;\">\n",
       "      <th></th>\n",
       "      <th>cab_type</th>\n",
       "      <th>name</th>\n",
       "      <th>price</th>\n",
       "      <th>distance</th>\n",
       "      <th>surge_multiplier</th>\n",
       "      <th>short_summary</th>\n",
       "      <th>visibility.1</th>\n",
       "    </tr>\n",
       "  </thead>\n",
       "  <tbody>\n",
       "    <tr>\n",
       "      <th>0</th>\n",
       "      <td>Lyft</td>\n",
       "      <td>Shared</td>\n",
       "      <td>5.0</td>\n",
       "      <td>0.44</td>\n",
       "      <td>1.0</td>\n",
       "      <td>Mostly Cloudy</td>\n",
       "      <td>10.000</td>\n",
       "    </tr>\n",
       "    <tr>\n",
       "      <th>1</th>\n",
       "      <td>Lyft</td>\n",
       "      <td>Lux</td>\n",
       "      <td>11.0</td>\n",
       "      <td>0.44</td>\n",
       "      <td>1.0</td>\n",
       "      <td>Rain</td>\n",
       "      <td>4.786</td>\n",
       "    </tr>\n",
       "    <tr>\n",
       "      <th>2</th>\n",
       "      <td>Lyft</td>\n",
       "      <td>Lyft</td>\n",
       "      <td>7.0</td>\n",
       "      <td>0.44</td>\n",
       "      <td>1.0</td>\n",
       "      <td>Clear</td>\n",
       "      <td>10.000</td>\n",
       "    </tr>\n",
       "    <tr>\n",
       "      <th>3</th>\n",
       "      <td>Lyft</td>\n",
       "      <td>Lux Black XL</td>\n",
       "      <td>26.0</td>\n",
       "      <td>0.44</td>\n",
       "      <td>1.0</td>\n",
       "      <td>Clear</td>\n",
       "      <td>10.000</td>\n",
       "    </tr>\n",
       "    <tr>\n",
       "      <th>4</th>\n",
       "      <td>Lyft</td>\n",
       "      <td>Lyft XL</td>\n",
       "      <td>9.0</td>\n",
       "      <td>0.44</td>\n",
       "      <td>1.0</td>\n",
       "      <td>Partly Cloudy</td>\n",
       "      <td>10.000</td>\n",
       "    </tr>\n",
       "  </tbody>\n",
       "</table>\n",
       "</div>"
      ],
      "text/plain": [
       "  cab_type          name  price  distance  surge_multiplier    short_summary  \\\n",
       "0     Lyft        Shared    5.0      0.44               1.0   Mostly Cloudy    \n",
       "1     Lyft           Lux   11.0      0.44               1.0            Rain    \n",
       "2     Lyft          Lyft    7.0      0.44               1.0           Clear    \n",
       "3     Lyft  Lux Black XL   26.0      0.44               1.0           Clear    \n",
       "4     Lyft       Lyft XL    9.0      0.44               1.0   Partly Cloudy    \n",
       "\n",
       "   visibility.1  \n",
       "0        10.000  \n",
       "1         4.786  \n",
       "2        10.000  \n",
       "3        10.000  \n",
       "4        10.000  "
      ]
     },
     "execution_count": 44,
     "metadata": {},
     "output_type": "execute_result"
    }
   ],
   "source": [
    "new_df = new_df.drop(['source','destination','icon'],axis=1)\n",
    "new_df.head()"
   ]
  },
  {
   "cell_type": "code",
   "execution_count": 45,
   "metadata": {
    "id": "JOLu3puv5zED"
   },
   "outputs": [],
   "source": [
    "df_name = pd.get_dummies(new_df['name'])"
   ]
  },
  {
   "cell_type": "markdown",
   "metadata": {
    "id": "7WJ7Th7eBCEq"
   },
   "source": [
    "## Drop kolom dan menggabungkan kolom"
   ]
  },
  {
   "cell_type": "code",
   "execution_count": 46,
   "metadata": {
    "id": "KXz9WAPL7-sO"
   },
   "outputs": [],
   "source": [
    "new_df = pd.concat([new_df.drop(['name', 'short_summary', 'cab_type'], axis=1), df_cat_encode[['cab_type']], df_name], axis=1)"
   ]
  },
  {
   "cell_type": "markdown",
   "metadata": {
    "id": "n6f7yBfgCNJ_"
   },
   "source": [
    "## Melihat ukuran dari Dataframe"
   ]
  },
  {
   "cell_type": "code",
   "execution_count": 47,
   "metadata": {
    "colab": {
     "base_uri": "https://localhost:8080/"
    },
    "id": "kHlB7zHW8A2X",
    "outputId": "ef701b21-f12f-45d0-ce93-55ef1a8d8af6"
   },
   "outputs": [
    {
     "data": {
      "text/plain": [
       "(632387, 17)"
      ]
     },
     "execution_count": 47,
     "metadata": {},
     "output_type": "execute_result"
    }
   ],
   "source": [
    "new_df.shape"
   ]
  },
  {
   "cell_type": "markdown",
   "metadata": {
    "id": "-DAcsx64CRxc"
   },
   "source": [
    "## Menampilkan ukuran dari dataframe"
   ]
  },
  {
   "cell_type": "code",
   "execution_count": 48,
   "metadata": {
    "colab": {
     "base_uri": "https://localhost:8080/",
     "height": 267
    },
    "id": "0jO-fjwi8AzW",
    "outputId": "f04f52f4-eb93-4b29-f3f4-6489da97932a"
   },
   "outputs": [
    {
     "data": {
      "text/html": [
       "<div>\n",
       "<style scoped>\n",
       "    .dataframe tbody tr th:only-of-type {\n",
       "        vertical-align: middle;\n",
       "    }\n",
       "\n",
       "    .dataframe tbody tr th {\n",
       "        vertical-align: top;\n",
       "    }\n",
       "\n",
       "    .dataframe thead th {\n",
       "        text-align: right;\n",
       "    }\n",
       "</style>\n",
       "<table border=\"1\" class=\"dataframe\">\n",
       "  <thead>\n",
       "    <tr style=\"text-align: right;\">\n",
       "      <th></th>\n",
       "      <th>price</th>\n",
       "      <th>distance</th>\n",
       "      <th>surge_multiplier</th>\n",
       "      <th>visibility.1</th>\n",
       "      <th>cab_type</th>\n",
       "      <th>Black</th>\n",
       "      <th>Black SUV</th>\n",
       "      <th>Lux</th>\n",
       "      <th>Lux Black</th>\n",
       "      <th>Lux Black XL</th>\n",
       "      <th>Lyft</th>\n",
       "      <th>Lyft XL</th>\n",
       "      <th>Shared</th>\n",
       "      <th>UberPool</th>\n",
       "      <th>UberX</th>\n",
       "      <th>UberXL</th>\n",
       "      <th>WAV</th>\n",
       "    </tr>\n",
       "  </thead>\n",
       "  <tbody>\n",
       "    <tr>\n",
       "      <th>0</th>\n",
       "      <td>5.0</td>\n",
       "      <td>0.44</td>\n",
       "      <td>1.0</td>\n",
       "      <td>10.000</td>\n",
       "      <td>0</td>\n",
       "      <td>0</td>\n",
       "      <td>0</td>\n",
       "      <td>0</td>\n",
       "      <td>0</td>\n",
       "      <td>0</td>\n",
       "      <td>0</td>\n",
       "      <td>0</td>\n",
       "      <td>1</td>\n",
       "      <td>0</td>\n",
       "      <td>0</td>\n",
       "      <td>0</td>\n",
       "      <td>0</td>\n",
       "    </tr>\n",
       "    <tr>\n",
       "      <th>1</th>\n",
       "      <td>11.0</td>\n",
       "      <td>0.44</td>\n",
       "      <td>1.0</td>\n",
       "      <td>4.786</td>\n",
       "      <td>0</td>\n",
       "      <td>0</td>\n",
       "      <td>0</td>\n",
       "      <td>1</td>\n",
       "      <td>0</td>\n",
       "      <td>0</td>\n",
       "      <td>0</td>\n",
       "      <td>0</td>\n",
       "      <td>0</td>\n",
       "      <td>0</td>\n",
       "      <td>0</td>\n",
       "      <td>0</td>\n",
       "      <td>0</td>\n",
       "    </tr>\n",
       "    <tr>\n",
       "      <th>2</th>\n",
       "      <td>7.0</td>\n",
       "      <td>0.44</td>\n",
       "      <td>1.0</td>\n",
       "      <td>10.000</td>\n",
       "      <td>0</td>\n",
       "      <td>0</td>\n",
       "      <td>0</td>\n",
       "      <td>0</td>\n",
       "      <td>0</td>\n",
       "      <td>0</td>\n",
       "      <td>1</td>\n",
       "      <td>0</td>\n",
       "      <td>0</td>\n",
       "      <td>0</td>\n",
       "      <td>0</td>\n",
       "      <td>0</td>\n",
       "      <td>0</td>\n",
       "    </tr>\n",
       "    <tr>\n",
       "      <th>3</th>\n",
       "      <td>26.0</td>\n",
       "      <td>0.44</td>\n",
       "      <td>1.0</td>\n",
       "      <td>10.000</td>\n",
       "      <td>0</td>\n",
       "      <td>0</td>\n",
       "      <td>0</td>\n",
       "      <td>0</td>\n",
       "      <td>0</td>\n",
       "      <td>1</td>\n",
       "      <td>0</td>\n",
       "      <td>0</td>\n",
       "      <td>0</td>\n",
       "      <td>0</td>\n",
       "      <td>0</td>\n",
       "      <td>0</td>\n",
       "      <td>0</td>\n",
       "    </tr>\n",
       "    <tr>\n",
       "      <th>4</th>\n",
       "      <td>9.0</td>\n",
       "      <td>0.44</td>\n",
       "      <td>1.0</td>\n",
       "      <td>10.000</td>\n",
       "      <td>0</td>\n",
       "      <td>0</td>\n",
       "      <td>0</td>\n",
       "      <td>0</td>\n",
       "      <td>0</td>\n",
       "      <td>0</td>\n",
       "      <td>0</td>\n",
       "      <td>1</td>\n",
       "      <td>0</td>\n",
       "      <td>0</td>\n",
       "      <td>0</td>\n",
       "      <td>0</td>\n",
       "      <td>0</td>\n",
       "    </tr>\n",
       "  </tbody>\n",
       "</table>\n",
       "</div>"
      ],
      "text/plain": [
       "   price  distance  surge_multiplier  visibility.1  cab_type  Black  \\\n",
       "0    5.0      0.44               1.0        10.000         0      0   \n",
       "1   11.0      0.44               1.0         4.786         0      0   \n",
       "2    7.0      0.44               1.0        10.000         0      0   \n",
       "3   26.0      0.44               1.0        10.000         0      0   \n",
       "4    9.0      0.44               1.0        10.000         0      0   \n",
       "\n",
       "   Black SUV  Lux  Lux Black  Lux Black XL  Lyft  Lyft XL  Shared  UberPool  \\\n",
       "0          0    0          0             0     0        0       1         0   \n",
       "1          0    1          0             0     0        0       0         0   \n",
       "2          0    0          0             0     1        0       0         0   \n",
       "3          0    0          0             1     0        0       0         0   \n",
       "4          0    0          0             0     0        1       0         0   \n",
       "\n",
       "   UberX  UberXL  WAV  \n",
       "0      0       0    0  \n",
       "1      0       0    0  \n",
       "2      0       0    0  \n",
       "3      0       0    0  \n",
       "4      0       0    0  "
      ]
     },
     "execution_count": 48,
     "metadata": {},
     "output_type": "execute_result"
    }
   ],
   "source": [
    "new_df.head()"
   ]
  },
  {
   "cell_type": "markdown",
   "metadata": {
    "id": "0NjN2HvECVAA"
   },
   "source": [
    "## Menampilkan info umum dari dataframe"
   ]
  },
  {
   "cell_type": "code",
   "execution_count": 49,
   "metadata": {
    "colab": {
     "base_uri": "https://localhost:8080/"
    },
    "id": "BmoIF6EW9Dc1",
    "outputId": "f6b2fc6f-1926-493d-c51a-c23e39d03493"
   },
   "outputs": [
    {
     "name": "stdout",
     "output_type": "stream",
     "text": [
      "<class 'pandas.core.frame.DataFrame'>\n",
      "Int64Index: 632387 entries, 0 to 693070\n",
      "Data columns (total 17 columns):\n",
      " #   Column            Non-Null Count   Dtype  \n",
      "---  ------            --------------   -----  \n",
      " 0   price             632387 non-null  float64\n",
      " 1   distance          632387 non-null  float64\n",
      " 2   surge_multiplier  632387 non-null  float64\n",
      " 3   visibility.1      632387 non-null  float64\n",
      " 4   cab_type          632387 non-null  int32  \n",
      " 5   Black             632387 non-null  uint8  \n",
      " 6   Black SUV         632387 non-null  uint8  \n",
      " 7   Lux               632387 non-null  uint8  \n",
      " 8   Lux Black         632387 non-null  uint8  \n",
      " 9   Lux Black XL      632387 non-null  uint8  \n",
      " 10  Lyft              632387 non-null  uint8  \n",
      " 11  Lyft XL           632387 non-null  uint8  \n",
      " 12  Shared            632387 non-null  uint8  \n",
      " 13  UberPool          632387 non-null  uint8  \n",
      " 14  UberX             632387 non-null  uint8  \n",
      " 15  UberXL            632387 non-null  uint8  \n",
      " 16  WAV               632387 non-null  uint8  \n",
      "dtypes: float64(4), int32(1), uint8(12)\n",
      "memory usage: 33.8 MB\n"
     ]
    }
   ],
   "source": [
    "new_df.info()"
   ]
  },
  {
   "cell_type": "markdown",
   "metadata": {
    "id": "LjeWG3GPC-9Z"
   },
   "source": [
    "# **Pendefinisian Model/Modelling**"
   ]
  },
  {
   "cell_type": "code",
   "execution_count": 50,
   "metadata": {
    "id": "aDsbTPjz7FUz"
   },
   "outputs": [],
   "source": [
    "from sklearn.linear_model import LinearRegression\n",
    "from sklearn import linear_model"
   ]
  },
  {
   "cell_type": "code",
   "execution_count": 51,
   "metadata": {
    "id": "d6lXwtixfePR"
   },
   "outputs": [],
   "source": [
    "x = new_df.drop('price', axis =1)\n",
    "y = new_df['price']"
   ]
  },
  {
   "cell_type": "markdown",
   "metadata": {
    "id": "hb-NjLezDBns"
   },
   "source": [
    "# **Training Model**"
   ]
  },
  {
   "cell_type": "code",
   "execution_count": 52,
   "metadata": {
    "id": "JQIB-vf6flRk"
   },
   "outputs": [],
   "source": [
    "model = LinearRegression()\n",
    "model.fit(x, y)\n",
    "model = LinearRegression().fit(x, y)"
   ]
  },
  {
   "cell_type": "code",
   "execution_count": 53,
   "metadata": {
    "colab": {
     "base_uri": "https://localhost:8080/"
    },
    "id": "QlPeqMtlfmwG",
    "outputId": "91f6f8d6-ef39-41b5-e18a-dd16b3de9a80"
   },
   "outputs": [
    {
     "name": "stdout",
     "output_type": "stream",
     "text": [
      "coefficient of determination: 0.9334034452562807\n"
     ]
    }
   ],
   "source": [
    "r2_base = model.score(x, y)\n",
    "print('coefficient of determination:', r2_base)"
   ]
  },
  {
   "cell_type": "markdown",
   "metadata": {
    "id": "Qh5bAHLHDdw0"
   },
   "source": [
    "### Melihat nilai Intercept"
   ]
  },
  {
   "cell_type": "code",
   "execution_count": 54,
   "metadata": {
    "colab": {
     "base_uri": "https://localhost:8080/"
    },
    "id": "lzWixMaDfoyP",
    "outputId": "999828e3-fc5a-4eba-ff3b-84a5ff53fcad"
   },
   "outputs": [
    {
     "name": "stdout",
     "output_type": "stream",
     "text": [
      "intercept: -2.8731455622974202\n"
     ]
    }
   ],
   "source": [
    "print('intercept:', model.intercept_)"
   ]
  },
  {
   "cell_type": "markdown",
   "metadata": {
    "id": "CMuN6T6yDgxu"
   },
   "source": [
    "### Melihat nilai Slope"
   ]
  },
  {
   "cell_type": "code",
   "execution_count": 55,
   "metadata": {
    "colab": {
     "base_uri": "https://localhost:8080/"
    },
    "id": "cDrl_sh0f49p",
    "outputId": "0975ef9c-dd35-4faf-8f9a-f199f6a82114"
   },
   "outputs": [
    {
     "name": "stdout",
     "output_type": "stream",
     "text": [
      "slope: [ 2.67340052e+00  1.36589886e+01  1.28615923e-04 -7.65478289e-01\n",
      "  4.62382835e+00  1.41998113e+01  5.98383657e-01  5.75062820e+00\n",
      "  1.44162425e+01 -7.54235153e+00 -1.85362517e+00 -1.06037993e+01\n",
      " -7.12743326e+00 -6.11535677e+00 -2.30948845e-01 -6.11537901e+00]\n"
     ]
    }
   ],
   "source": [
    "print('slope:', model.coef_)"
   ]
  },
  {
   "cell_type": "markdown",
   "metadata": {
    "id": "g6GsCRDwD7Ln"
   },
   "source": [
    "# **Pre Prosessing**\n",
    "### Menampilkan Dataframe"
   ]
  },
  {
   "cell_type": "code",
   "execution_count": 56,
   "metadata": {
    "colab": {
     "base_uri": "https://localhost:8080/",
     "height": 267
    },
    "id": "WRe_ymoyf8WI",
    "outputId": "411129bc-060f-4a9d-c440-7e64ae39b3b2"
   },
   "outputs": [
    {
     "data": {
      "text/html": [
       "<div>\n",
       "<style scoped>\n",
       "    .dataframe tbody tr th:only-of-type {\n",
       "        vertical-align: middle;\n",
       "    }\n",
       "\n",
       "    .dataframe tbody tr th {\n",
       "        vertical-align: top;\n",
       "    }\n",
       "\n",
       "    .dataframe thead th {\n",
       "        text-align: right;\n",
       "    }\n",
       "</style>\n",
       "<table border=\"1\" class=\"dataframe\">\n",
       "  <thead>\n",
       "    <tr style=\"text-align: right;\">\n",
       "      <th></th>\n",
       "      <th>price</th>\n",
       "      <th>distance</th>\n",
       "      <th>surge_multiplier</th>\n",
       "      <th>visibility.1</th>\n",
       "      <th>cab_type</th>\n",
       "      <th>Black</th>\n",
       "      <th>Black SUV</th>\n",
       "      <th>Lux</th>\n",
       "      <th>Lux Black</th>\n",
       "      <th>Lux Black XL</th>\n",
       "      <th>Lyft</th>\n",
       "      <th>Lyft XL</th>\n",
       "      <th>Shared</th>\n",
       "      <th>UberPool</th>\n",
       "      <th>UberX</th>\n",
       "      <th>UberXL</th>\n",
       "      <th>WAV</th>\n",
       "    </tr>\n",
       "  </thead>\n",
       "  <tbody>\n",
       "    <tr>\n",
       "      <th>0</th>\n",
       "      <td>5.0</td>\n",
       "      <td>0.44</td>\n",
       "      <td>1.0</td>\n",
       "      <td>10.000</td>\n",
       "      <td>0</td>\n",
       "      <td>0</td>\n",
       "      <td>0</td>\n",
       "      <td>0</td>\n",
       "      <td>0</td>\n",
       "      <td>0</td>\n",
       "      <td>0</td>\n",
       "      <td>0</td>\n",
       "      <td>1</td>\n",
       "      <td>0</td>\n",
       "      <td>0</td>\n",
       "      <td>0</td>\n",
       "      <td>0</td>\n",
       "    </tr>\n",
       "    <tr>\n",
       "      <th>1</th>\n",
       "      <td>11.0</td>\n",
       "      <td>0.44</td>\n",
       "      <td>1.0</td>\n",
       "      <td>4.786</td>\n",
       "      <td>0</td>\n",
       "      <td>0</td>\n",
       "      <td>0</td>\n",
       "      <td>1</td>\n",
       "      <td>0</td>\n",
       "      <td>0</td>\n",
       "      <td>0</td>\n",
       "      <td>0</td>\n",
       "      <td>0</td>\n",
       "      <td>0</td>\n",
       "      <td>0</td>\n",
       "      <td>0</td>\n",
       "      <td>0</td>\n",
       "    </tr>\n",
       "    <tr>\n",
       "      <th>2</th>\n",
       "      <td>7.0</td>\n",
       "      <td>0.44</td>\n",
       "      <td>1.0</td>\n",
       "      <td>10.000</td>\n",
       "      <td>0</td>\n",
       "      <td>0</td>\n",
       "      <td>0</td>\n",
       "      <td>0</td>\n",
       "      <td>0</td>\n",
       "      <td>0</td>\n",
       "      <td>1</td>\n",
       "      <td>0</td>\n",
       "      <td>0</td>\n",
       "      <td>0</td>\n",
       "      <td>0</td>\n",
       "      <td>0</td>\n",
       "      <td>0</td>\n",
       "    </tr>\n",
       "    <tr>\n",
       "      <th>3</th>\n",
       "      <td>26.0</td>\n",
       "      <td>0.44</td>\n",
       "      <td>1.0</td>\n",
       "      <td>10.000</td>\n",
       "      <td>0</td>\n",
       "      <td>0</td>\n",
       "      <td>0</td>\n",
       "      <td>0</td>\n",
       "      <td>0</td>\n",
       "      <td>1</td>\n",
       "      <td>0</td>\n",
       "      <td>0</td>\n",
       "      <td>0</td>\n",
       "      <td>0</td>\n",
       "      <td>0</td>\n",
       "      <td>0</td>\n",
       "      <td>0</td>\n",
       "    </tr>\n",
       "    <tr>\n",
       "      <th>4</th>\n",
       "      <td>9.0</td>\n",
       "      <td>0.44</td>\n",
       "      <td>1.0</td>\n",
       "      <td>10.000</td>\n",
       "      <td>0</td>\n",
       "      <td>0</td>\n",
       "      <td>0</td>\n",
       "      <td>0</td>\n",
       "      <td>0</td>\n",
       "      <td>0</td>\n",
       "      <td>0</td>\n",
       "      <td>1</td>\n",
       "      <td>0</td>\n",
       "      <td>0</td>\n",
       "      <td>0</td>\n",
       "      <td>0</td>\n",
       "      <td>0</td>\n",
       "    </tr>\n",
       "  </tbody>\n",
       "</table>\n",
       "</div>"
      ],
      "text/plain": [
       "   price  distance  surge_multiplier  visibility.1  cab_type  Black  \\\n",
       "0    5.0      0.44               1.0        10.000         0      0   \n",
       "1   11.0      0.44               1.0         4.786         0      0   \n",
       "2    7.0      0.44               1.0        10.000         0      0   \n",
       "3   26.0      0.44               1.0        10.000         0      0   \n",
       "4    9.0      0.44               1.0        10.000         0      0   \n",
       "\n",
       "   Black SUV  Lux  Lux Black  Lux Black XL  Lyft  Lyft XL  Shared  UberPool  \\\n",
       "0          0    0          0             0     0        0       1         0   \n",
       "1          0    1          0             0     0        0       0         0   \n",
       "2          0    0          0             0     1        0       0         0   \n",
       "3          0    0          0             1     0        0       0         0   \n",
       "4          0    0          0             0     0        1       0         0   \n",
       "\n",
       "   UberX  UberXL  WAV  \n",
       "0      0       0    0  \n",
       "1      0       0    0  \n",
       "2      0       0    0  \n",
       "3      0       0    0  \n",
       "4      0       0    0  "
      ]
     },
     "execution_count": 56,
     "metadata": {},
     "output_type": "execute_result"
    }
   ],
   "source": [
    "new_df.head()"
   ]
  },
  {
   "cell_type": "markdown",
   "metadata": {
    "id": "iIvN0Pn2D-JJ"
   },
   "source": [
    "### Import Library"
   ]
  },
  {
   "cell_type": "code",
   "execution_count": 57,
   "metadata": {
    "id": "7J5mr_pIgcRq"
   },
   "outputs": [],
   "source": [
    "from sklearn.preprocessing import MinMaxScaler\n",
    "scaler = MinMaxScaler()"
   ]
  },
  {
   "cell_type": "markdown",
   "metadata": {
    "id": "bG-d4MGiIGmm"
   },
   "source": [
    "### Scaling"
   ]
  },
  {
   "cell_type": "code",
   "execution_count": 58,
   "metadata": {
    "colab": {
     "base_uri": "https://localhost:8080/"
    },
    "id": "NJP937oKgey7",
    "outputId": "3dd2a2ff-c96d-4716-c804-a7a81313e517"
   },
   "outputs": [
    {
     "name": "stdout",
     "output_type": "stream",
     "text": [
      "[[0.0625     0.05357143 0.         ... 0.         0.         0.        ]\n",
      " [0.2125     0.05357143 0.         ... 0.         0.         0.        ]\n",
      " [0.1125     0.05357143 0.         ... 0.         0.         0.        ]\n",
      " ...\n",
      " [0.175      0.125      0.         ... 1.         0.         0.        ]\n",
      " [0.6125     0.125      0.         ... 0.         0.         0.        ]\n",
      " [0.1875     0.125      0.         ... 0.         0.         0.        ]]\n"
     ]
    }
   ],
   "source": [
    "scaled = scaler.fit_transform(new_df)\n",
    "print(scaled)"
   ]
  },
  {
   "cell_type": "markdown",
   "metadata": {
    "id": "PLVOsHcQIIbZ"
   },
   "source": [
    "### Membuat Data Frame Baru"
   ]
  },
  {
   "cell_type": "code",
   "execution_count": 59,
   "metadata": {
    "id": "nHw5lNzFghcy"
   },
   "outputs": [],
   "source": [
    "df_scaled = pd.DataFrame({\"price\":scaled[:,0],\"distance\":scaled[:,1],\n",
    "                         \"surge_multiplier\":scaled[:,2],\"visibility.1\":scaled[:,3],\n",
    "                         \"cab_type\":scaled[:,4], \"Black\":scaled[:,5],\"Black SUV\":scaled[:,6],\n",
    "                         \"Lux\":scaled[:,7], \"Lux Black\":scaled[:,8], \"Lux Black XL\":scaled[:,9],\n",
    "                         \"Lyft\":scaled[:,10], \"Lyft XL\":scaled[:,11], \"Shared\":scaled[:,12],\n",
    "                         \"UberPool\":scaled[:,13], \"UberX\":scaled[:,14],\n",
    "                         \"UberXL\":scaled[:,15],\"WAV\":scaled[:,16]})"
   ]
  },
  {
   "cell_type": "code",
   "execution_count": 60,
   "metadata": {
    "colab": {
     "base_uri": "https://localhost:8080/",
     "height": 285
    },
    "id": "LujXrQ4QhFts",
    "outputId": "ef3c0e6b-8717-4e52-acb9-b150ce2b7ba2"
   },
   "outputs": [
    {
     "data": {
      "text/html": [
       "<div>\n",
       "<style scoped>\n",
       "    .dataframe tbody tr th:only-of-type {\n",
       "        vertical-align: middle;\n",
       "    }\n",
       "\n",
       "    .dataframe tbody tr th {\n",
       "        vertical-align: top;\n",
       "    }\n",
       "\n",
       "    .dataframe thead th {\n",
       "        text-align: right;\n",
       "    }\n",
       "</style>\n",
       "<table border=\"1\" class=\"dataframe\">\n",
       "  <thead>\n",
       "    <tr style=\"text-align: right;\">\n",
       "      <th></th>\n",
       "      <th>price</th>\n",
       "      <th>distance</th>\n",
       "      <th>surge_multiplier</th>\n",
       "      <th>visibility.1</th>\n",
       "      <th>cab_type</th>\n",
       "      <th>Black</th>\n",
       "      <th>Black SUV</th>\n",
       "      <th>Lux</th>\n",
       "      <th>Lux Black</th>\n",
       "      <th>Lux Black XL</th>\n",
       "      <th>Lyft</th>\n",
       "      <th>Lyft XL</th>\n",
       "      <th>Shared</th>\n",
       "      <th>UberPool</th>\n",
       "      <th>UberX</th>\n",
       "      <th>UberXL</th>\n",
       "      <th>WAV</th>\n",
       "    </tr>\n",
       "  </thead>\n",
       "  <tbody>\n",
       "    <tr>\n",
       "      <th>0</th>\n",
       "      <td>0.0625</td>\n",
       "      <td>0.053571</td>\n",
       "      <td>0.0</td>\n",
       "      <td>1.000000</td>\n",
       "      <td>0.0</td>\n",
       "      <td>0.0</td>\n",
       "      <td>0.0</td>\n",
       "      <td>0.0</td>\n",
       "      <td>0.0</td>\n",
       "      <td>0.0</td>\n",
       "      <td>0.0</td>\n",
       "      <td>0.0</td>\n",
       "      <td>1.0</td>\n",
       "      <td>0.0</td>\n",
       "      <td>0.0</td>\n",
       "      <td>0.0</td>\n",
       "      <td>0.0</td>\n",
       "    </tr>\n",
       "    <tr>\n",
       "      <th>1</th>\n",
       "      <td>0.2125</td>\n",
       "      <td>0.053571</td>\n",
       "      <td>0.0</td>\n",
       "      <td>0.438328</td>\n",
       "      <td>0.0</td>\n",
       "      <td>0.0</td>\n",
       "      <td>0.0</td>\n",
       "      <td>1.0</td>\n",
       "      <td>0.0</td>\n",
       "      <td>0.0</td>\n",
       "      <td>0.0</td>\n",
       "      <td>0.0</td>\n",
       "      <td>0.0</td>\n",
       "      <td>0.0</td>\n",
       "      <td>0.0</td>\n",
       "      <td>0.0</td>\n",
       "      <td>0.0</td>\n",
       "    </tr>\n",
       "    <tr>\n",
       "      <th>2</th>\n",
       "      <td>0.1125</td>\n",
       "      <td>0.053571</td>\n",
       "      <td>0.0</td>\n",
       "      <td>1.000000</td>\n",
       "      <td>0.0</td>\n",
       "      <td>0.0</td>\n",
       "      <td>0.0</td>\n",
       "      <td>0.0</td>\n",
       "      <td>0.0</td>\n",
       "      <td>0.0</td>\n",
       "      <td>1.0</td>\n",
       "      <td>0.0</td>\n",
       "      <td>0.0</td>\n",
       "      <td>0.0</td>\n",
       "      <td>0.0</td>\n",
       "      <td>0.0</td>\n",
       "      <td>0.0</td>\n",
       "    </tr>\n",
       "    <tr>\n",
       "      <th>3</th>\n",
       "      <td>0.5875</td>\n",
       "      <td>0.053571</td>\n",
       "      <td>0.0</td>\n",
       "      <td>1.000000</td>\n",
       "      <td>0.0</td>\n",
       "      <td>0.0</td>\n",
       "      <td>0.0</td>\n",
       "      <td>0.0</td>\n",
       "      <td>0.0</td>\n",
       "      <td>1.0</td>\n",
       "      <td>0.0</td>\n",
       "      <td>0.0</td>\n",
       "      <td>0.0</td>\n",
       "      <td>0.0</td>\n",
       "      <td>0.0</td>\n",
       "      <td>0.0</td>\n",
       "      <td>0.0</td>\n",
       "    </tr>\n",
       "    <tr>\n",
       "      <th>4</th>\n",
       "      <td>0.1625</td>\n",
       "      <td>0.053571</td>\n",
       "      <td>0.0</td>\n",
       "      <td>1.000000</td>\n",
       "      <td>0.0</td>\n",
       "      <td>0.0</td>\n",
       "      <td>0.0</td>\n",
       "      <td>0.0</td>\n",
       "      <td>0.0</td>\n",
       "      <td>0.0</td>\n",
       "      <td>0.0</td>\n",
       "      <td>1.0</td>\n",
       "      <td>0.0</td>\n",
       "      <td>0.0</td>\n",
       "      <td>0.0</td>\n",
       "      <td>0.0</td>\n",
       "      <td>0.0</td>\n",
       "    </tr>\n",
       "  </tbody>\n",
       "</table>\n",
       "</div>"
      ],
      "text/plain": [
       "    price  distance  surge_multiplier  visibility.1  cab_type  Black  \\\n",
       "0  0.0625  0.053571               0.0      1.000000       0.0    0.0   \n",
       "1  0.2125  0.053571               0.0      0.438328       0.0    0.0   \n",
       "2  0.1125  0.053571               0.0      1.000000       0.0    0.0   \n",
       "3  0.5875  0.053571               0.0      1.000000       0.0    0.0   \n",
       "4  0.1625  0.053571               0.0      1.000000       0.0    0.0   \n",
       "\n",
       "   Black SUV  Lux  Lux Black  Lux Black XL  Lyft  Lyft XL  Shared  UberPool  \\\n",
       "0        0.0  0.0        0.0           0.0   0.0      0.0     1.0       0.0   \n",
       "1        0.0  1.0        0.0           0.0   0.0      0.0     0.0       0.0   \n",
       "2        0.0  0.0        0.0           0.0   1.0      0.0     0.0       0.0   \n",
       "3        0.0  0.0        0.0           1.0   0.0      0.0     0.0       0.0   \n",
       "4        0.0  0.0        0.0           0.0   0.0      1.0     0.0       0.0   \n",
       "\n",
       "   UberX  UberXL  WAV  \n",
       "0    0.0     0.0  0.0  \n",
       "1    0.0     0.0  0.0  \n",
       "2    0.0     0.0  0.0  \n",
       "3    0.0     0.0  0.0  \n",
       "4    0.0     0.0  0.0  "
      ]
     },
     "execution_count": 60,
     "metadata": {},
     "output_type": "execute_result"
    }
   ],
   "source": [
    "df_scaled.head()"
   ]
  },
  {
   "cell_type": "markdown",
   "metadata": {
    "id": "WhxTgnxeIZFF"
   },
   "source": [
    "### Melihat Ukuran Dataframe"
   ]
  },
  {
   "cell_type": "code",
   "execution_count": 61,
   "metadata": {
    "colab": {
     "base_uri": "https://localhost:8080/"
    },
    "id": "STz7y1FdhG4R",
    "outputId": "5eb12b7c-295f-4576-b8df-a74a1427b049"
   },
   "outputs": [
    {
     "data": {
      "text/plain": [
       "(632387, 17)"
      ]
     },
     "execution_count": 61,
     "metadata": {},
     "output_type": "execute_result"
    }
   ],
   "source": [
    "df_scaled.shape"
   ]
  },
  {
   "cell_type": "markdown",
   "metadata": {
    "id": "CdHZxMx4Ibku"
   },
   "source": [
    "### Menghitung nilai Kuartil 1 dan 3, serta menghitung rentang interquartile"
   ]
  },
  {
   "cell_type": "code",
   "execution_count": 62,
   "metadata": {
    "id": "NhTE3h1ehJiG"
   },
   "outputs": [],
   "source": [
    "Qp12 = df_scaled['price'].quantile(0.25)\n",
    "Qp32 = df_scaled['price'].quantile(0.75)\n",
    "IQRp = Qp32-Qp12"
   ]
  },
  {
   "cell_type": "code",
   "execution_count": 63,
   "metadata": {
    "colab": {
     "base_uri": "https://localhost:8080/"
    },
    "id": "H8m_-tkkhRmx",
    "outputId": "fe32a18b-a198-48ab-b019-24be72d8146d"
   },
   "outputs": [
    {
     "name": "stdout",
     "output_type": "stream",
     "text": [
      "0.1625\n",
      "0.5\n",
      "0.3375\n"
     ]
    }
   ],
   "source": [
    "print(Qp12)\n",
    "print(Qp32)\n",
    "print(IQRp)"
   ]
  },
  {
   "cell_type": "markdown",
   "metadata": {
    "id": "pQWP8h3NJyLy"
   },
   "source": [
    "### Melihat Dataframe yang lebih besar dari nilai batas"
   ]
  },
  {
   "cell_type": "code",
   "execution_count": 64,
   "metadata": {
    "colab": {
     "base_uri": "https://localhost:8080/",
     "height": 502
    },
    "id": "e0qqr9LGhqdw",
    "outputId": "247e7388-3d15-457d-fdc4-d81bf95a22e0"
   },
   "outputs": [
    {
     "data": {
      "text/html": [
       "<div>\n",
       "<style scoped>\n",
       "    .dataframe tbody tr th:only-of-type {\n",
       "        vertical-align: middle;\n",
       "    }\n",
       "\n",
       "    .dataframe tbody tr th {\n",
       "        vertical-align: top;\n",
       "    }\n",
       "\n",
       "    .dataframe thead th {\n",
       "        text-align: right;\n",
       "    }\n",
       "</style>\n",
       "<table border=\"1\" class=\"dataframe\">\n",
       "  <thead>\n",
       "    <tr style=\"text-align: right;\">\n",
       "      <th></th>\n",
       "      <th>price</th>\n",
       "      <th>distance</th>\n",
       "      <th>surge_multiplier</th>\n",
       "      <th>visibility.1</th>\n",
       "      <th>cab_type</th>\n",
       "      <th>Black</th>\n",
       "      <th>Black SUV</th>\n",
       "      <th>Lux</th>\n",
       "      <th>Lux Black</th>\n",
       "      <th>Lux Black XL</th>\n",
       "      <th>Lyft</th>\n",
       "      <th>Lyft XL</th>\n",
       "      <th>Shared</th>\n",
       "      <th>UberPool</th>\n",
       "      <th>UberX</th>\n",
       "      <th>UberXL</th>\n",
       "      <th>WAV</th>\n",
       "    </tr>\n",
       "  </thead>\n",
       "  <tbody>\n",
       "  </tbody>\n",
       "</table>\n",
       "</div>"
      ],
      "text/plain": [
       "Empty DataFrame\n",
       "Columns: [price, distance, surge_multiplier, visibility.1, cab_type, Black, Black SUV, Lux, Lux Black, Lux Black XL, Lyft, Lyft XL, Shared, UberPool, UberX, UberXL, WAV]\n",
       "Index: []"
      ]
     },
     "execution_count": 64,
     "metadata": {},
     "output_type": "execute_result"
    }
   ],
   "source": [
    "df_scaled[df_scaled['price']>(Qp32+(1.5*IQRp))]"
   ]
  },
  {
   "cell_type": "markdown",
   "metadata": {
    "id": "Cr_0G72hJ2sW"
   },
   "source": [
    "### Melihat Dataframe yang lebih kecil dari nilai batas"
   ]
  },
  {
   "cell_type": "code",
   "execution_count": 65,
   "metadata": {
    "colab": {
     "base_uri": "https://localhost:8080/",
     "height": 110
    },
    "id": "yHaMZA05h1eX",
    "outputId": "52c19069-72a8-4a8e-e65e-5feaa5e70463"
   },
   "outputs": [
    {
     "data": {
      "text/html": [
       "<div>\n",
       "<style scoped>\n",
       "    .dataframe tbody tr th:only-of-type {\n",
       "        vertical-align: middle;\n",
       "    }\n",
       "\n",
       "    .dataframe tbody tr th {\n",
       "        vertical-align: top;\n",
       "    }\n",
       "\n",
       "    .dataframe thead th {\n",
       "        text-align: right;\n",
       "    }\n",
       "</style>\n",
       "<table border=\"1\" class=\"dataframe\">\n",
       "  <thead>\n",
       "    <tr style=\"text-align: right;\">\n",
       "      <th></th>\n",
       "      <th>price</th>\n",
       "      <th>distance</th>\n",
       "      <th>surge_multiplier</th>\n",
       "      <th>visibility.1</th>\n",
       "      <th>cab_type</th>\n",
       "      <th>Black</th>\n",
       "      <th>Black SUV</th>\n",
       "      <th>Lux</th>\n",
       "      <th>Lux Black</th>\n",
       "      <th>Lux Black XL</th>\n",
       "      <th>Lyft</th>\n",
       "      <th>Lyft XL</th>\n",
       "      <th>Shared</th>\n",
       "      <th>UberPool</th>\n",
       "      <th>UberX</th>\n",
       "      <th>UberXL</th>\n",
       "      <th>WAV</th>\n",
       "    </tr>\n",
       "  </thead>\n",
       "  <tbody>\n",
       "  </tbody>\n",
       "</table>\n",
       "</div>"
      ],
      "text/plain": [
       "Empty DataFrame\n",
       "Columns: [price, distance, surge_multiplier, visibility.1, cab_type, Black, Black SUV, Lux, Lux Black, Lux Black XL, Lyft, Lyft XL, Shared, UberPool, UberX, UberXL, WAV]\n",
       "Index: []"
      ]
     },
     "execution_count": 65,
     "metadata": {},
     "output_type": "execute_result"
    }
   ],
   "source": [
    "df_scaled[df_scaled['price']<(Qp12-(1.5*IQRp))]"
   ]
  },
  {
   "cell_type": "markdown",
   "metadata": {
    "id": "X-uyyjW0J96C"
   },
   "source": [
    "### Melihat ukuran Dataframe sebelum di remove"
   ]
  },
  {
   "cell_type": "code",
   "execution_count": 66,
   "metadata": {
    "colab": {
     "base_uri": "https://localhost:8080/"
    },
    "id": "kmz37JnEiSkN",
    "outputId": "4ec0a4f0-470f-4530-8759-069aedad1e39"
   },
   "outputs": [
    {
     "name": "stdout",
     "output_type": "stream",
     "text": [
      "Size before removing : (632387, 17)\n"
     ]
    }
   ],
   "source": [
    "print('Size before removing :',df_scaled.shape)"
   ]
  },
  {
   "cell_type": "markdown",
   "metadata": {
    "id": "6mDfQGcsKCE9"
   },
   "source": [
    "### Remove dataframe dan melihat ukurannya"
   ]
  },
  {
   "cell_type": "code",
   "execution_count": 67,
   "metadata": {
    "colab": {
     "base_uri": "https://localhost:8080/"
    },
    "id": "oudM1me3iYG9",
    "outputId": "f5058a03-921c-4c1a-841d-9b3db38bc859"
   },
   "outputs": [
    {
     "name": "stdout",
     "output_type": "stream",
     "text": [
      "Size after removing : (632387, 17)\n"
     ]
    }
   ],
   "source": [
    "df_scaled= df_scaled[~((df_scaled['price']>(Qp32+(1.5*IQRp))))]\n",
    "print('Size after removing :',df_scaled.shape)"
   ]
  },
  {
   "cell_type": "markdown",
   "metadata": {
    "id": "0hzWM2EgKFl7"
   },
   "source": [
    "### Melihat 5 data teratas pada dataframe"
   ]
  },
  {
   "cell_type": "code",
   "execution_count": 68,
   "metadata": {
    "colab": {
     "base_uri": "https://localhost:8080/",
     "height": 285
    },
    "id": "lLaPS8gGiYsx",
    "outputId": "bc001212-c0eb-4bb2-90a4-cf8a94357137"
   },
   "outputs": [
    {
     "data": {
      "text/html": [
       "<div>\n",
       "<style scoped>\n",
       "    .dataframe tbody tr th:only-of-type {\n",
       "        vertical-align: middle;\n",
       "    }\n",
       "\n",
       "    .dataframe tbody tr th {\n",
       "        vertical-align: top;\n",
       "    }\n",
       "\n",
       "    .dataframe thead th {\n",
       "        text-align: right;\n",
       "    }\n",
       "</style>\n",
       "<table border=\"1\" class=\"dataframe\">\n",
       "  <thead>\n",
       "    <tr style=\"text-align: right;\">\n",
       "      <th></th>\n",
       "      <th>price</th>\n",
       "      <th>distance</th>\n",
       "      <th>surge_multiplier</th>\n",
       "      <th>visibility.1</th>\n",
       "      <th>cab_type</th>\n",
       "      <th>Black</th>\n",
       "      <th>Black SUV</th>\n",
       "      <th>Lux</th>\n",
       "      <th>Lux Black</th>\n",
       "      <th>Lux Black XL</th>\n",
       "      <th>Lyft</th>\n",
       "      <th>Lyft XL</th>\n",
       "      <th>Shared</th>\n",
       "      <th>UberPool</th>\n",
       "      <th>UberX</th>\n",
       "      <th>UberXL</th>\n",
       "      <th>WAV</th>\n",
       "    </tr>\n",
       "  </thead>\n",
       "  <tbody>\n",
       "    <tr>\n",
       "      <th>0</th>\n",
       "      <td>0.0625</td>\n",
       "      <td>0.053571</td>\n",
       "      <td>0.0</td>\n",
       "      <td>1.000000</td>\n",
       "      <td>0.0</td>\n",
       "      <td>0.0</td>\n",
       "      <td>0.0</td>\n",
       "      <td>0.0</td>\n",
       "      <td>0.0</td>\n",
       "      <td>0.0</td>\n",
       "      <td>0.0</td>\n",
       "      <td>0.0</td>\n",
       "      <td>1.0</td>\n",
       "      <td>0.0</td>\n",
       "      <td>0.0</td>\n",
       "      <td>0.0</td>\n",
       "      <td>0.0</td>\n",
       "    </tr>\n",
       "    <tr>\n",
       "      <th>1</th>\n",
       "      <td>0.2125</td>\n",
       "      <td>0.053571</td>\n",
       "      <td>0.0</td>\n",
       "      <td>0.438328</td>\n",
       "      <td>0.0</td>\n",
       "      <td>0.0</td>\n",
       "      <td>0.0</td>\n",
       "      <td>1.0</td>\n",
       "      <td>0.0</td>\n",
       "      <td>0.0</td>\n",
       "      <td>0.0</td>\n",
       "      <td>0.0</td>\n",
       "      <td>0.0</td>\n",
       "      <td>0.0</td>\n",
       "      <td>0.0</td>\n",
       "      <td>0.0</td>\n",
       "      <td>0.0</td>\n",
       "    </tr>\n",
       "    <tr>\n",
       "      <th>2</th>\n",
       "      <td>0.1125</td>\n",
       "      <td>0.053571</td>\n",
       "      <td>0.0</td>\n",
       "      <td>1.000000</td>\n",
       "      <td>0.0</td>\n",
       "      <td>0.0</td>\n",
       "      <td>0.0</td>\n",
       "      <td>0.0</td>\n",
       "      <td>0.0</td>\n",
       "      <td>0.0</td>\n",
       "      <td>1.0</td>\n",
       "      <td>0.0</td>\n",
       "      <td>0.0</td>\n",
       "      <td>0.0</td>\n",
       "      <td>0.0</td>\n",
       "      <td>0.0</td>\n",
       "      <td>0.0</td>\n",
       "    </tr>\n",
       "    <tr>\n",
       "      <th>3</th>\n",
       "      <td>0.5875</td>\n",
       "      <td>0.053571</td>\n",
       "      <td>0.0</td>\n",
       "      <td>1.000000</td>\n",
       "      <td>0.0</td>\n",
       "      <td>0.0</td>\n",
       "      <td>0.0</td>\n",
       "      <td>0.0</td>\n",
       "      <td>0.0</td>\n",
       "      <td>1.0</td>\n",
       "      <td>0.0</td>\n",
       "      <td>0.0</td>\n",
       "      <td>0.0</td>\n",
       "      <td>0.0</td>\n",
       "      <td>0.0</td>\n",
       "      <td>0.0</td>\n",
       "      <td>0.0</td>\n",
       "    </tr>\n",
       "    <tr>\n",
       "      <th>4</th>\n",
       "      <td>0.1625</td>\n",
       "      <td>0.053571</td>\n",
       "      <td>0.0</td>\n",
       "      <td>1.000000</td>\n",
       "      <td>0.0</td>\n",
       "      <td>0.0</td>\n",
       "      <td>0.0</td>\n",
       "      <td>0.0</td>\n",
       "      <td>0.0</td>\n",
       "      <td>0.0</td>\n",
       "      <td>0.0</td>\n",
       "      <td>1.0</td>\n",
       "      <td>0.0</td>\n",
       "      <td>0.0</td>\n",
       "      <td>0.0</td>\n",
       "      <td>0.0</td>\n",
       "      <td>0.0</td>\n",
       "    </tr>\n",
       "  </tbody>\n",
       "</table>\n",
       "</div>"
      ],
      "text/plain": [
       "    price  distance  surge_multiplier  visibility.1  cab_type  Black  \\\n",
       "0  0.0625  0.053571               0.0      1.000000       0.0    0.0   \n",
       "1  0.2125  0.053571               0.0      0.438328       0.0    0.0   \n",
       "2  0.1125  0.053571               0.0      1.000000       0.0    0.0   \n",
       "3  0.5875  0.053571               0.0      1.000000       0.0    0.0   \n",
       "4  0.1625  0.053571               0.0      1.000000       0.0    0.0   \n",
       "\n",
       "   Black SUV  Lux  Lux Black  Lux Black XL  Lyft  Lyft XL  Shared  UberPool  \\\n",
       "0        0.0  0.0        0.0           0.0   0.0      0.0     1.0       0.0   \n",
       "1        0.0  1.0        0.0           0.0   0.0      0.0     0.0       0.0   \n",
       "2        0.0  0.0        0.0           0.0   1.0      0.0     0.0       0.0   \n",
       "3        0.0  0.0        0.0           1.0   0.0      0.0     0.0       0.0   \n",
       "4        0.0  0.0        0.0           0.0   0.0      1.0     0.0       0.0   \n",
       "\n",
       "   UberX  UberXL  WAV  \n",
       "0    0.0     0.0  0.0  \n",
       "1    0.0     0.0  0.0  \n",
       "2    0.0     0.0  0.0  \n",
       "3    0.0     0.0  0.0  \n",
       "4    0.0     0.0  0.0  "
      ]
     },
     "execution_count": 68,
     "metadata": {},
     "output_type": "execute_result"
    }
   ],
   "source": [
    "df_scaled.head()"
   ]
  },
  {
   "cell_type": "markdown",
   "metadata": {
    "id": "UfC0raiEKL6W"
   },
   "source": [
    "### Melihat Statistik Umum dari price dan distance"
   ]
  },
  {
   "cell_type": "code",
   "execution_count": 69,
   "metadata": {
    "colab": {
     "base_uri": "https://localhost:8080/",
     "height": 300
    },
    "id": "TeAe4Eiwiceh",
    "outputId": "316f5f4a-122a-488e-dacd-375770d81f1b"
   },
   "outputs": [
    {
     "data": {
      "text/html": [
       "<div>\n",
       "<style scoped>\n",
       "    .dataframe tbody tr th:only-of-type {\n",
       "        vertical-align: middle;\n",
       "    }\n",
       "\n",
       "    .dataframe tbody tr th {\n",
       "        vertical-align: top;\n",
       "    }\n",
       "\n",
       "    .dataframe thead th {\n",
       "        text-align: right;\n",
       "    }\n",
       "</style>\n",
       "<table border=\"1\" class=\"dataframe\">\n",
       "  <thead>\n",
       "    <tr style=\"text-align: right;\">\n",
       "      <th></th>\n",
       "      <th>price</th>\n",
       "      <th>distance</th>\n",
       "    </tr>\n",
       "  </thead>\n",
       "  <tbody>\n",
       "    <tr>\n",
       "      <th>count</th>\n",
       "      <td>632387.000000</td>\n",
       "      <td>632387.000000</td>\n",
       "    </tr>\n",
       "    <tr>\n",
       "      <th>mean</th>\n",
       "      <td>0.343633</td>\n",
       "      <td>0.274516</td>\n",
       "    </tr>\n",
       "    <tr>\n",
       "      <th>std</th>\n",
       "      <td>0.219238</td>\n",
       "      <td>0.142408</td>\n",
       "    </tr>\n",
       "    <tr>\n",
       "      <th>min</th>\n",
       "      <td>0.000000</td>\n",
       "      <td>0.000000</td>\n",
       "    </tr>\n",
       "    <tr>\n",
       "      <th>25%</th>\n",
       "      <td>0.162500</td>\n",
       "      <td>0.159439</td>\n",
       "    </tr>\n",
       "    <tr>\n",
       "      <th>50%</th>\n",
       "      <td>0.275000</td>\n",
       "      <td>0.270408</td>\n",
       "    </tr>\n",
       "    <tr>\n",
       "      <th>75%</th>\n",
       "      <td>0.500000</td>\n",
       "      <td>0.367347</td>\n",
       "    </tr>\n",
       "    <tr>\n",
       "      <th>max</th>\n",
       "      <td>1.000000</td>\n",
       "      <td>1.000000</td>\n",
       "    </tr>\n",
       "  </tbody>\n",
       "</table>\n",
       "</div>"
      ],
      "text/plain": [
       "               price       distance\n",
       "count  632387.000000  632387.000000\n",
       "mean        0.343633       0.274516\n",
       "std         0.219238       0.142408\n",
       "min         0.000000       0.000000\n",
       "25%         0.162500       0.159439\n",
       "50%         0.275000       0.270408\n",
       "75%         0.500000       0.367347\n",
       "max         1.000000       1.000000"
      ]
     },
     "execution_count": 69,
     "metadata": {},
     "output_type": "execute_result"
    }
   ],
   "source": [
    "data = df_scaled[['price','distance']]\n",
    "data.describe()"
   ]
  },
  {
   "cell_type": "markdown",
   "metadata": {
    "id": "TneTMYc_ieWS"
   },
   "source": [
    "#  **Modelling**\n",
    "\n",
    "Membagi data training dan testing dengan rasio 80:20."
   ]
  },
  {
   "cell_type": "code",
   "execution_count": 70,
   "metadata": {
    "id": "NNFFS43uuMhK"
   },
   "outputs": [],
   "source": [
    "X = df_scaled.drop('price', axis=1)\n",
    "y = df_scaled['price']"
   ]
  },
  {
   "cell_type": "code",
   "execution_count": 71,
   "metadata": {
    "id": "eOHnmFGPwQtK"
   },
   "outputs": [],
   "source": [
    "X_train, X_test, y_train, y_test = train_test_split(X, y, test_size=0.2, random_state=42)"
   ]
  },
  {
   "cell_type": "code",
   "execution_count": 72,
   "metadata": {
    "id": "DyX2NZuq3LLH"
   },
   "outputs": [],
   "source": [
    "from sklearn.linear_model import LinearRegression\n",
    "from sklearn.metrics import classification_report, confusion_matrix\n",
    "from sklearn import metrics\n",
    "from sklearn.metrics import r2_score, mean_absolute_error, mean_squared_error, accuracy_score, confusion_matrix, classification_report"
   ]
  },
  {
   "cell_type": "code",
   "execution_count": 73,
   "metadata": {
    "id": "JrgrK6b43PN3"
   },
   "outputs": [],
   "source": [
    "# training model \n",
    "linreg = LinearRegression()"
   ]
  },
  {
   "cell_type": "code",
   "execution_count": 74,
   "metadata": {
    "id": "udHFjLMS3VaV"
   },
   "outputs": [],
   "source": [
    "# fit data training\n",
    "model = linreg.fit(X_train, y_train)\n",
    "y_pred = model.predict(X_test)"
   ]
  },
  {
   "cell_type": "code",
   "execution_count": 75,
   "metadata": {
    "colab": {
     "base_uri": "https://localhost:8080/"
    },
    "id": "wcArGEL74ZzF",
    "outputId": "3fd47d7c-7c9f-40fa-b1a1-e76ae162b9ea"
   },
   "outputs": [
    {
     "name": "stdout",
     "output_type": "stream",
     "text": [
      "Nilai koefisien regresi : \n",
      " [ 5.23663014e-01  6.83740039e-01  3.34855249e-05  8.10518232e+10\n",
      " -8.58434011e+10 -8.58434011e+10 -4.79157782e+09 -4.79157782e+09\n",
      " -4.79157782e+09 -4.79157782e+09 -4.79157782e+09 -4.79157782e+09\n",
      " -8.58434011e+10 -8.58434011e+10 -8.58434011e+10 -8.58434011e+10]\n",
      "Nilai intercept : \n",
      " 4791577816.169286\n"
     ]
    }
   ],
   "source": [
    "print('Nilai koefisien regresi : \\n', model.coef_)\n",
    "print('Nilai intercept : \\n', model.intercept_)"
   ]
  },
  {
   "cell_type": "markdown",
   "metadata": {
    "id": "eB1YROkykmnS"
   },
   "source": [
    "# **Evaluasi Model**"
   ]
  },
  {
   "cell_type": "code",
   "execution_count": 76,
   "metadata": {
    "colab": {
     "base_uri": "https://localhost:8080/"
    },
    "id": "JSt_SwVi4sh5",
    "outputId": "55121c6d-3e8d-42b4-91d4-5c2ed80d6bdc"
   },
   "outputs": [
    {
     "data": {
      "text/plain": [
       "0.9334482372846452"
      ]
     },
     "execution_count": 76,
     "metadata": {},
     "output_type": "execute_result"
    }
   ],
   "source": [
    "# evaluation model\n",
    "r2_score(y_test, y_pred)"
   ]
  },
  {
   "cell_type": "code",
   "execution_count": 77,
   "metadata": {
    "colab": {
     "base_uri": "https://localhost:8080/"
    },
    "id": "TWC-RiZw6Soj",
    "outputId": "9d032d4c-73ab-48c9-d5b9-2fca8d1c6158"
   },
   "outputs": [
    {
     "data": {
      "text/plain": [
       "0.933391610411338"
      ]
     },
     "execution_count": 77,
     "metadata": {},
     "output_type": "execute_result"
    }
   ],
   "source": [
    "# mengecek nilai R2 pada data training\n",
    "y_train_pred = linreg.predict(X_train)\n",
    "r2_score(y_train, y_train_pred)"
   ]
  },
  {
   "cell_type": "code",
   "execution_count": 78,
   "metadata": {
    "colab": {
     "base_uri": "https://localhost:8080/"
    },
    "id": "mSJqjciW6qWk",
    "outputId": "00fdc691-091d-43a8-c696-a3bfc3080896"
   },
   "outputs": [
    {
     "name": "stdout",
     "output_type": "stream",
     "text": [
      "0.05654946058188629\n"
     ]
    }
   ],
   "source": [
    "mse = mean_squared_error(y_test, y_pred, squared=False)\n",
    "print(mse)"
   ]
  },
  {
   "cell_type": "code",
   "execution_count": 79,
   "metadata": {
    "colab": {
     "base_uri": "https://localhost:8080/"
    },
    "id": "A_KNF_5E7Cgj",
    "outputId": "8ebae66e-027b-417d-bd5b-a30320d8dcc8"
   },
   "outputs": [
    {
     "name": "stdout",
     "output_type": "stream",
     "text": [
      "0.04186605492248037\n"
     ]
    }
   ],
   "source": [
    "mae = mean_absolute_error(y_test, y_pred)\n",
    "print(mae)"
   ]
  },
  {
   "cell_type": "code",
   "execution_count": 80,
   "metadata": {
    "colab": {
     "base_uri": "https://localhost:8080/"
    },
    "id": "FH6qL-tu7B8A",
    "outputId": "7e0c2fa8-fceb-4016-e6a9-1f96e18930df"
   },
   "outputs": [
    {
     "data": {
      "text/plain": [
       "array([0.425 , 0.1375, 0.2   , ..., 0.1625, 0.425 , 0.0625])"
      ]
     },
     "execution_count": 80,
     "metadata": {},
     "output_type": "execute_result"
    }
   ],
   "source": [
    "# membuat array dari nilai y_test\n",
    "y_test_vis = np.array(y_test)\n",
    "y_test_vis"
   ]
  },
  {
   "cell_type": "code",
   "execution_count": 81,
   "metadata": {
    "colab": {
     "base_uri": "https://localhost:8080/"
    },
    "id": "5TaMHT5d7ioL",
    "outputId": "d22a2056-7a71-412f-eef8-82f52a49ee22"
   },
   "outputs": [
    {
     "data": {
      "text/plain": [
       "array([0.38794422, 0.12192249, 0.12920094, ..., 0.13213921, 0.39374256,\n",
       "       0.24812603])"
      ]
     },
     "execution_count": 81,
     "metadata": {},
     "output_type": "execute_result"
    }
   ],
   "source": [
    "y_pred"
   ]
  },
  {
   "cell_type": "code",
   "execution_count": 82,
   "metadata": {
    "id": "IapNt9Dk89XA"
   },
   "outputs": [],
   "source": [
    "# membuat dataframe nilai y_test dan y_prabsed\n",
    "resid = pd.DataFrame(y_pred, y_test_vis)\n",
    "resid = resid.reset_index()\n",
    "resid = resid.rename(columns={\"index\":\"actual_val\",\n",
    "                             0:\"predict_val\"})"
   ]
  },
  {
   "cell_type": "code",
   "execution_count": 83,
   "metadata": {
    "colab": {
     "base_uri": "https://localhost:8080/",
     "height": 423
    },
    "id": "vCG2CHQu9G8m",
    "outputId": "ab52da14-f1a6-498c-89e4-364b7f50284e"
   },
   "outputs": [
    {
     "data": {
      "text/html": [
       "<div>\n",
       "<style scoped>\n",
       "    .dataframe tbody tr th:only-of-type {\n",
       "        vertical-align: middle;\n",
       "    }\n",
       "\n",
       "    .dataframe tbody tr th {\n",
       "        vertical-align: top;\n",
       "    }\n",
       "\n",
       "    .dataframe thead th {\n",
       "        text-align: right;\n",
       "    }\n",
       "</style>\n",
       "<table border=\"1\" class=\"dataframe\">\n",
       "  <thead>\n",
       "    <tr style=\"text-align: right;\">\n",
       "      <th></th>\n",
       "      <th>actual_val</th>\n",
       "      <th>predict_val</th>\n",
       "      <th>residual</th>\n",
       "    </tr>\n",
       "  </thead>\n",
       "  <tbody>\n",
       "    <tr>\n",
       "      <th>0</th>\n",
       "      <td>0.4250</td>\n",
       "      <td>0.387944</td>\n",
       "      <td>0.037056</td>\n",
       "    </tr>\n",
       "    <tr>\n",
       "      <th>1</th>\n",
       "      <td>0.1375</td>\n",
       "      <td>0.121922</td>\n",
       "      <td>0.015578</td>\n",
       "    </tr>\n",
       "    <tr>\n",
       "      <th>2</th>\n",
       "      <td>0.2000</td>\n",
       "      <td>0.129201</td>\n",
       "      <td>0.070799</td>\n",
       "    </tr>\n",
       "    <tr>\n",
       "      <th>3</th>\n",
       "      <td>0.1250</td>\n",
       "      <td>0.087529</td>\n",
       "      <td>0.037471</td>\n",
       "    </tr>\n",
       "    <tr>\n",
       "      <th>4</th>\n",
       "      <td>0.6250</td>\n",
       "      <td>0.650053</td>\n",
       "      <td>-0.025053</td>\n",
       "    </tr>\n",
       "    <tr>\n",
       "      <th>...</th>\n",
       "      <td>...</td>\n",
       "      <td>...</td>\n",
       "      <td>...</td>\n",
       "    </tr>\n",
       "    <tr>\n",
       "      <th>126473</th>\n",
       "      <td>0.5000</td>\n",
       "      <td>0.536721</td>\n",
       "      <td>-0.036721</td>\n",
       "    </tr>\n",
       "    <tr>\n",
       "      <th>126474</th>\n",
       "      <td>0.6750</td>\n",
       "      <td>0.708867</td>\n",
       "      <td>-0.033867</td>\n",
       "    </tr>\n",
       "    <tr>\n",
       "      <th>126475</th>\n",
       "      <td>0.1625</td>\n",
       "      <td>0.132139</td>\n",
       "      <td>0.030361</td>\n",
       "    </tr>\n",
       "    <tr>\n",
       "      <th>126476</th>\n",
       "      <td>0.4250</td>\n",
       "      <td>0.393743</td>\n",
       "      <td>0.031257</td>\n",
       "    </tr>\n",
       "    <tr>\n",
       "      <th>126477</th>\n",
       "      <td>0.0625</td>\n",
       "      <td>0.248126</td>\n",
       "      <td>-0.185626</td>\n",
       "    </tr>\n",
       "  </tbody>\n",
       "</table>\n",
       "<p>126478 rows × 3 columns</p>\n",
       "</div>"
      ],
      "text/plain": [
       "        actual_val  predict_val  residual\n",
       "0           0.4250     0.387944  0.037056\n",
       "1           0.1375     0.121922  0.015578\n",
       "2           0.2000     0.129201  0.070799\n",
       "3           0.1250     0.087529  0.037471\n",
       "4           0.6250     0.650053 -0.025053\n",
       "...            ...          ...       ...\n",
       "126473      0.5000     0.536721 -0.036721\n",
       "126474      0.6750     0.708867 -0.033867\n",
       "126475      0.1625     0.132139  0.030361\n",
       "126476      0.4250     0.393743  0.031257\n",
       "126477      0.0625     0.248126 -0.185626\n",
       "\n",
       "[126478 rows x 3 columns]"
      ]
     },
     "execution_count": 83,
     "metadata": {},
     "output_type": "execute_result"
    }
   ],
   "source": [
    "# menambahkan kolom dari selisih antara nilai y_test dan y_pred\n",
    "resid[\"residual\"] = resid[\"actual_val\"] - resid[\"predict_val\"]\n",
    "resid"
   ]
  },
  {
   "cell_type": "code",
   "execution_count": 84,
   "metadata": {
    "colab": {
     "base_uri": "https://localhost:8080/",
     "height": 643
    },
    "id": "417Na9tq9NKo",
    "outputId": "55b4c158-9a61-448a-eefd-019ad7b709f8"
   },
   "outputs": [
    {
     "data": {
      "image/png": "[encoded data removed]",
      "text/plain": [
       "<Figure size 1000x700 with 1 Axes>"
      ]
     },
     "metadata": {},
     "output_type": "display_data"
    }
   ],
   "source": [
    "# plotting\n",
    "dist_resid = resid[\"residual\"]\n",
    "dist_resid.plot(kind=\"hist\", figsize=(10,7), bins=20, color=\"#6495ED\")\n",
    "plt.title(\"Distribusi Nilai Residual\", fontsize=15)\n",
    "plt.xlabel(\"Residual\", fontsize=10)\n",
    "plt.ylabel(\"Frekuensi\", fontsize=10)\n",
    "plt.grid(linewidth=0.5)\n",
    "plt.axvline(dist_resid.mean(), color='k', linestyle='dashed', linewidth=1)\n",
    "min_ylim, max_ylim = plt.ylim()\n",
    "plt.text(dist_resid.mean()*1.1, max_ylim*0.9, 'Mean: {:.2f}'.format(dist_resid.mean()))\n",
    "plt.show()"
   ]
  },
  {
   "cell_type": "code",
   "execution_count": 85,
   "metadata": {
    "colab": {
     "base_uri": "https://localhost:8080/"
    },
    "id": "Hln-EGBb95yi",
    "outputId": "2ff12cf9-1951-4879-8c5d-5253cb442ca8"
   },
   "outputs": [
    {
     "data": {
      "text/plain": [
       "0.8823057635200264"
      ]
     },
     "execution_count": 85,
     "metadata": {},
     "output_type": "execute_result"
    }
   ],
   "source": [
    "resid['residual'].skew()"
   ]
  },
  {
   "cell_type": "markdown",
   "metadata": {},
   "source": [
    "# Hipotesis testing"
   ]
  },
  {
   "cell_type": "code",
   "execution_count": 92,
   "metadata": {},
   "outputs": [
    {
     "ename": "TypeError",
     "evalue": "__init__() takes 1 positional argument but 2 were given",
     "output_type": "error",
     "traceback": [
      "\u001b[1;31m---------------------------------------------------------------------------\u001b[0m",
      "\u001b[1;31mTypeError\u001b[0m                                 Traceback (most recent call last)",
      "\u001b[1;32m~\\AppData\\Local\\Temp\\ipykernel_64128\\2472466605.py\u001b[0m in \u001b[0;36m<module>\u001b[1;34m\u001b[0m\n\u001b[0;32m      2\u001b[0m \u001b[0mX\u001b[0m\u001b[1;33m=\u001b[0m \u001b[0mnp\u001b[0m\u001b[1;33m.\u001b[0m\u001b[0marray\u001b[0m\u001b[1;33m(\u001b[0m\u001b[0mdf\u001b[0m\u001b[1;33m[\u001b[0m\u001b[1;34m\"price\"\u001b[0m\u001b[1;33m]\u001b[0m\u001b[1;33m)\u001b[0m\u001b[1;33m.\u001b[0m\u001b[0mreshape\u001b[0m\u001b[1;33m(\u001b[0m\u001b[1;33m-\u001b[0m\u001b[1;36m1\u001b[0m\u001b[1;33m,\u001b[0m \u001b[1;36m1\u001b[0m\u001b[1;33m)\u001b[0m\u001b[1;33m\u001b[0m\u001b[1;33m\u001b[0m\u001b[0m\n\u001b[0;32m      3\u001b[0m \u001b[0my\u001b[0m\u001b[1;33m=\u001b[0m \u001b[0mdf\u001b[0m\u001b[1;33m[\u001b[0m\u001b[1;34m\"distance\"\u001b[0m\u001b[1;33m]\u001b[0m\u001b[1;33m\u001b[0m\u001b[1;33m\u001b[0m\u001b[0m\n\u001b[1;32m----> 4\u001b[1;33m \u001b[0mreg\u001b[0m \u001b[1;33m=\u001b[0m \u001b[0mLinearRegression\u001b[0m\u001b[1;33m(\u001b[0m\u001b[1;36m0\u001b[0m\u001b[1;33m)\u001b[0m\u001b[1;33m.\u001b[0m\u001b[0mfit\u001b[0m\u001b[1;33m(\u001b[0m\u001b[0mX\u001b[0m\u001b[1;33m,\u001b[0m \u001b[0my\u001b[0m\u001b[1;33m)\u001b[0m\u001b[1;33m\u001b[0m\u001b[1;33m\u001b[0m\u001b[0m\n\u001b[0m\u001b[0;32m      5\u001b[0m \u001b[0mreg\u001b[0m\u001b[1;33m\u001b[0m\u001b[1;33m\u001b[0m\u001b[0m\n",
      "\u001b[1;31mTypeError\u001b[0m: __init__() takes 1 positional argument but 2 were given"
     ]
    }
   ],
   "source": [
    "from sklearn.linear_model import LinearRegression\n",
    "X= np.array(df[\"price\"]).reshape(-1, 1)\n",
    "y= df[\"distance\"]\n",
    "reg = LinearRegression().fit(X, y)\n",
    "reg"
   ]
  },
  {
   "cell_type": "code",
   "execution_count": 87,
   "metadata": {},
   "outputs": [
    {
     "ename": "NameError",
     "evalue": "name 'reg' is not defined",
     "output_type": "error",
     "traceback": [
      "\u001b[1;31m---------------------------------------------------------------------------\u001b[0m",
      "\u001b[1;31mNameError\u001b[0m                                 Traceback (most recent call last)",
      "\u001b[1;32m~\\AppData\\Local\\Temp\\ipykernel_64128\\3644751726.py\u001b[0m in \u001b[0;36m<module>\u001b[1;34m\u001b[0m\n\u001b[1;32m----> 1\u001b[1;33m \u001b[0mreg\u001b[0m\u001b[1;33m.\u001b[0m\u001b[0mscore\u001b[0m\u001b[1;33m(\u001b[0m\u001b[0mX\u001b[0m\u001b[1;33m,\u001b[0m\u001b[0my\u001b[0m\u001b[1;33m)\u001b[0m\u001b[1;33m\u001b[0m\u001b[1;33m\u001b[0m\u001b[0m\n\u001b[0m",
      "\u001b[1;31mNameError\u001b[0m: name 'reg' is not defined"
     ]
    }
   ],
   "source": [
    "reg.score(X,y)"
   ]
  },
  {
   "cell_type": "code",
   "execution_count": 100,
   "metadata": {},
   "outputs": [
    {
     "data": {
      "text/plain": [
       "{'copy_X': True,\n",
       " 'fit_intercept': True,\n",
       " 'n_jobs': None,\n",
       " 'normalize': 'deprecated',\n",
       " 'positive': False}"
      ]
     },
     "execution_count": 100,
     "metadata": {},
     "output_type": "execute_result"
    }
   ],
   "source": [
    "reg.get_params(deep=True)"
   ]
  },
  {
   "cell_type": "code",
   "execution_count": 101,
   "metadata": {},
   "outputs": [
    {
     "data": {
      "text/plain": [
       "array([44.26563229])"
      ]
     },
     "execution_count": 101,
     "metadata": {},
     "output_type": "execute_result"
    }
   ],
   "source": [
    "reg.predict(np.array([32]).reshape(-1,1))"
   ]
  },
  {
   "cell_type": "markdown",
   "metadata": {
    "id": "2nxAh-Enk3eL"
   },
   "source": [
    "# **Model Inference**"
   ]
  },
  {
   "cell_type": "code",
   "execution_count": null,
   "metadata": {
    "id": "d39d14ZO9Y2G"
   },
   "outputs": [],
   "source": [
    "distance = float(input(\"Distance:\"))\n",
    "surge = float(input(\"Surge Multiplier:\"))\n",
    "visibility = float(input(\"visibility.1:\"))\n",
    "ride = input(\"Ride Types:\")\n",
    "types = input(\"Uber/Lyft?\")\n",
    "\n",
    "val = [distance, surge, visibility]\n",
    "\n",
    "cab_types = {\"Uber\":0,\n",
    "            \"Lyft\":1}\n",
    "\n",
    "for i in range(0,2):\n",
    "    if cab_types[types]==i:\n",
    "        val.append(1.0)\n",
    "    else:\n",
    "        val.append(0.0)\n",
    "        \n",
    "ride_types = {\"UberX\" : 0,\n",
    "                 \"UberXL\" : 1,\n",
    "                 \"Black\" : 2,\n",
    "                 \"BlackSUV\": 3,\n",
    "                 \"WAV\" : 4,\n",
    "                 \"UberPool\" : 5,\n",
    "                 \"Shared\" : 6,\n",
    "                 \"Lyft\" : 7,\n",
    "                 \"LyftXL\" : 8,\n",
    "                 \"Lux\": 9,\n",
    "                 \"LuxBlack\" : 10,\n",
    "                 \"LuxBlackXL\" : 11}\n",
    "\n",
    "for i in range(0,11):\n",
    "    if ride_types[ride]==i:\n",
    "        val.append(1.0)\n",
    "    else:\n",
    "        val.append(0.0)\n",
    "\n",
    "print(val)\n",
    "\n",
    "predict = model.predict([val])\n",
    "\n",
    "print(\"Here's your estimated price:\", predict)"
   ]
  },
  {
   "cell_type": "markdown",
   "metadata": {
    "id": "_wdrdB7Xio_q"
   },
   "source": [
    "# **Kesimpulan**\n",
    "Dari analisis yang telah dikerjakan menggunakan model Linear Regression dapat disimpulkan  :\n",
    "- Project ini berisikan tentang penerapan LinearRegression pada dataset Uber & Lyft dari hasil analisis maka dapat diketahui bahwa perjalanan yang ditempuh menggunakan uber lebih tinggi dibandingkan menggunakan Lyft\n",
    "- Model regresi R² sebesar 0,9334 dalam presentase 93.34% jadi variabel independenya cukup baik dalam memprediksi variasi nilai dependentnya. Selain itu nilai RMSE dan MAE cenderung kecil yaitu sebesar 0.0238 dan 0.0176.\n",
    "- Dengan begitu Residual model dari regresi berdistribusi normal, yang artinya memenuhi salah satu asumsi klasik regresi linear."
   ]
  }
 ],
 "metadata": {
  "colab": {
   "provenance": []
  },
  "kernelspec": {
   "display_name": "Python 3 (ipykernel)",
   "language": "python",
   "name": "python3"
  },
  "language_info": {
   "codemirror_mode": {
    "name": "ipython",
    "version": 3
   },
   "file_extension": ".py",
   "mimetype": "text/x-python",
   "name": "python",
   "nbconvert_exporter": "python",
   "pygments_lexer": "ipython3",
   "version": "3.9.13"
  },
  "toc-showmarkdowntxt": false
 },
 "nbformat": 4,
 "nbformat_minor": 4
}
